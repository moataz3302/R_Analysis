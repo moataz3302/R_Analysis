{
 "cells": [
  {
   "cell_type": "code",
   "execution_count": 1,
   "id": "82080700",
   "metadata": {
    "_execution_state": "idle",
    "_uuid": "051d70d956493feee0c6d64651c6a088724dca2a",
    "execution": {
     "iopub.execute_input": "2022-06-09T02:09:57.029846Z",
     "iopub.status.busy": "2022-06-09T02:09:57.026546Z",
     "iopub.status.idle": "2022-06-09T02:09:58.673662Z",
     "shell.execute_reply": "2022-06-09T02:09:58.671543Z"
    },
    "papermill": {
     "duration": 1.665722,
     "end_time": "2022-06-09T02:09:58.676462",
     "exception": false,
     "start_time": "2022-06-09T02:09:57.010740",
     "status": "completed"
    },
    "tags": []
   },
   "outputs": [
    {
     "name": "stderr",
     "output_type": "stream",
     "text": [
      "── \u001b[1mAttaching packages\u001b[22m ─────────────────────────────────────── tidyverse 1.3.1 ──\n",
      "\n",
      "\u001b[32m✔\u001b[39m \u001b[34mggplot2\u001b[39m 3.3.6     \u001b[32m✔\u001b[39m \u001b[34mpurrr  \u001b[39m 0.3.4\n",
      "\u001b[32m✔\u001b[39m \u001b[34mtibble \u001b[39m 3.1.7     \u001b[32m✔\u001b[39m \u001b[34mdplyr  \u001b[39m 1.0.9\n",
      "\u001b[32m✔\u001b[39m \u001b[34mtidyr  \u001b[39m 1.2.0     \u001b[32m✔\u001b[39m \u001b[34mstringr\u001b[39m 1.4.0\n",
      "\u001b[32m✔\u001b[39m \u001b[34mreadr  \u001b[39m 2.1.2     \u001b[32m✔\u001b[39m \u001b[34mforcats\u001b[39m 0.5.1\n",
      "\n",
      "── \u001b[1mConflicts\u001b[22m ────────────────────────────────────────── tidyverse_conflicts() ──\n",
      "\u001b[31m✖\u001b[39m \u001b[34mdplyr\u001b[39m::\u001b[32mfilter()\u001b[39m masks \u001b[34mstats\u001b[39m::filter()\n",
      "\u001b[31m✖\u001b[39m \u001b[34mdplyr\u001b[39m::\u001b[32mlag()\u001b[39m    masks \u001b[34mstats\u001b[39m::lag()\n",
      "\n"
     ]
    },
    {
     "data": {
      "text/html": [
       "<style>\n",
       ".list-inline {list-style: none; margin:0; padding: 0}\n",
       ".list-inline>li {display: inline-block}\n",
       ".list-inline>li:not(:last-child)::after {content: \"\\00b7\"; padding: 0 .5ex}\n",
       "</style>\n",
       "<ol class=list-inline><li>'egypt-life-expectancy-from-2000-2020'</li><li>'egypt-raw-data'</li></ol>\n"
      ],
      "text/latex": [
       "\\begin{enumerate*}\n",
       "\\item 'egypt-life-expectancy-from-2000-2020'\n",
       "\\item 'egypt-raw-data'\n",
       "\\end{enumerate*}\n"
      ],
      "text/markdown": [
       "1. 'egypt-life-expectancy-from-2000-2020'\n",
       "2. 'egypt-raw-data'\n",
       "\n",
       "\n"
      ],
      "text/plain": [
       "[1] \"egypt-life-expectancy-from-2000-2020\"\n",
       "[2] \"egypt-raw-data\"                      "
      ]
     },
     "metadata": {},
     "output_type": "display_data"
    }
   ],
   "source": [
    "# This R environment comes with many helpful analytics packages installed\n",
    "# It is defined by the kaggle/rstats Docker image: https://github.com/kaggle/docker-rstats\n",
    "# For example, here's a helpful package to load\n",
    "\n",
    "library(tidyverse) # metapackage of all tidyverse packages\n",
    "\n",
    "# Input data files are available in the read-only \"../input/\" directory\n",
    "# For example, running this (by clicking run or pressing Shift+Enter) will list all files under the input directory\n",
    "\n",
    "list.files(path = \"../input\")\n",
    "\n",
    "# You can write up to 20GB to the current directory (/kaggle/working/) that gets preserved as output when you create a version using \"Save & Run All\" \n",
    "# You can also write temporary files to /kaggle/temp/, but they won't be saved outside of the current session"
   ]
  },
  {
   "cell_type": "markdown",
   "id": "5121e6ad",
   "metadata": {
    "papermill": {
     "duration": 0.008087,
     "end_time": "2022-06-09T02:09:58.693044",
     "exception": false,
     "start_time": "2022-06-09T02:09:58.684957",
     "status": "completed"
    },
    "tags": []
   },
   "source": [
    "## load packages"
   ]
  },
  {
   "cell_type": "code",
   "execution_count": 2,
   "id": "2a6fe401",
   "metadata": {
    "execution": {
     "iopub.execute_input": "2022-06-09T02:09:58.748855Z",
     "iopub.status.busy": "2022-06-09T02:09:58.711160Z",
     "iopub.status.idle": "2022-06-09T02:15:47.576939Z",
     "shell.execute_reply": "2022-06-09T02:15:47.574982Z"
    },
    "papermill": {
     "duration": 348.885532,
     "end_time": "2022-06-09T02:15:47.586506",
     "exception": false,
     "start_time": "2022-06-09T02:09:58.700974",
     "status": "completed"
    },
    "tags": []
   },
   "outputs": [
    {
     "name": "stderr",
     "output_type": "stream",
     "text": [
      "Installing package into ‘/usr/local/lib/R/site-library’\n",
      "(as ‘lib’ is unspecified)\n",
      "\n",
      "\n",
      "Attaching package: ‘janitor’\n",
      "\n",
      "\n",
      "The following objects are masked from ‘package:stats’:\n",
      "\n",
      "    chisq.test, fisher.test\n",
      "\n",
      "\n",
      "Loading required package: BayesFactor\n",
      "\n",
      "Loading required package: coda\n",
      "\n",
      "Loading required package: Matrix\n",
      "\n",
      "\n",
      "Attaching package: ‘Matrix’\n",
      "\n",
      "\n",
      "The following objects are masked from ‘package:tidyr’:\n",
      "\n",
      "    expand, pack, unpack\n",
      "\n",
      "\n",
      "************\n",
      "Welcome to BayesFactor 0.9.12-4.3. If you have questions, please contact Richard Morey (richarddmorey@gmail.com).\n",
      "\n",
      "Type BFManual() to open the manual.\n",
      "************\n",
      "\n",
      "Installing package into ‘/usr/local/lib/R/site-library’\n",
      "(as ‘lib’ is unspecified)\n",
      "\n",
      "also installing the dependencies ‘nloptr’, ‘pbkrtest’, ‘lme4’, ‘car’, ‘laeken’\n",
      "\n",
      "\n",
      "Loading required package: colorspace\n",
      "\n",
      "Loading required package: grid\n",
      "\n",
      "VIM is ready to use.\n",
      "\n",
      "\n",
      "Suggestions and bug-reports can be submitted at: https://github.com/statistikat/VIM/issues\n",
      "\n",
      "\n",
      "Attaching package: ‘VIM’\n",
      "\n",
      "\n",
      "The following object is masked from ‘package:datasets’:\n",
      "\n",
      "    sleep\n",
      "\n",
      "\n",
      "Installing package into ‘/usr/local/lib/R/site-library’\n",
      "(as ‘lib’ is unspecified)\n",
      "\n",
      "\n",
      "Attaching package: ‘olsrr’\n",
      "\n",
      "\n",
      "The following object is masked from ‘package:datasets’:\n",
      "\n",
      "    rivers\n",
      "\n",
      "\n",
      "Installing package into ‘/usr/local/lib/R/site-library’\n",
      "(as ‘lib’ is unspecified)\n",
      "\n",
      "\n",
      "Attaching package: ‘mice’\n",
      "\n",
      "\n",
      "The following object is masked from ‘package:stats’:\n",
      "\n",
      "    filter\n",
      "\n",
      "\n",
      "The following objects are masked from ‘package:base’:\n",
      "\n",
      "    cbind, rbind\n",
      "\n",
      "\n"
     ]
    }
   ],
   "source": [
    "install.packages(\"janitor\")\n",
    "library(janitor)\n",
    "library(statsr)\n",
    "install.packages(\"VIM\")\n",
    "library(VIM)\n",
    "install.packages(\"olsrr\")\n",
    "library(olsrr)\n",
    "install.packages(\"mice\")\n",
    "library(mice)\n"
   ]
  },
  {
   "cell_type": "markdown",
   "id": "b292278b",
   "metadata": {
    "papermill": {
     "duration": 0.014087,
     "end_time": "2022-06-09T02:15:47.611831",
     "exception": false,
     "start_time": "2022-06-09T02:15:47.597744",
     "status": "completed"
    },
    "tags": []
   },
   "source": [
    "### clean the dataset"
   ]
  },
  {
   "cell_type": "code",
   "execution_count": 3,
   "id": "8290932f",
   "metadata": {
    "collapsed": true,
    "execution": {
     "iopub.execute_input": "2022-06-09T02:15:47.636476Z",
     "iopub.status.busy": "2022-06-09T02:15:47.634238Z",
     "iopub.status.idle": "2022-06-09T02:15:47.805231Z",
     "shell.execute_reply": "2022-06-09T02:15:47.803353Z"
    },
    "jupyter": {
     "outputs_hidden": true
    },
    "papermill": {
     "duration": 0.185899,
     "end_time": "2022-06-09T02:15:47.807877",
     "exception": false,
     "start_time": "2022-06-09T02:15:47.621978",
     "status": "completed"
    },
    "tags": []
   },
   "outputs": [
    {
     "data": {
      "text/html": [
       "<table class=\"dataframe\">\n",
       "<caption>A data.frame: 6 × 28</caption>\n",
       "<thead>\n",
       "\t<tr><th></th><th scope=col>Country</th><th scope=col>Year</th><th scope=col>Status</th><th scope=col>Life.expectancy</th><th scope=col>Adult.Mortality</th><th scope=col>infant.deaths</th><th scope=col>Alcohol</th><th scope=col>Hepatitis.B</th><th scope=col>Measles</th><th scope=col>BMI</th><th scope=col>⋯</th><th scope=col>thinness..1.19.years</th><th scope=col>thinness.5.9.years</th><th scope=col>Income.composition.of.resources</th><th scope=col>Schooling</th><th scope=col>Expense....of.GDP.</th><th scope=col>Current.health.expenditure....of.GDP.</th><th scope=col>Total.employment..total..ages.15..</th><th scope=col>Unemployment..total....of.total.labor.force...modeled.ILO.estimate.</th><th scope=col>Mortality.from.CVD..cancer..diabetes.or.CRD.between.exact.ages.30.and.70....</th><th scope=col>CO2.emissions..kt.</th></tr>\n",
       "\t<tr><th></th><th scope=col>&lt;chr&gt;</th><th scope=col>&lt;int&gt;</th><th scope=col>&lt;chr&gt;</th><th scope=col>&lt;dbl&gt;</th><th scope=col>&lt;int&gt;</th><th scope=col>&lt;int&gt;</th><th scope=col>&lt;dbl&gt;</th><th scope=col>&lt;int&gt;</th><th scope=col>&lt;int&gt;</th><th scope=col>&lt;dbl&gt;</th><th scope=col>⋯</th><th scope=col>&lt;dbl&gt;</th><th scope=col>&lt;dbl&gt;</th><th scope=col>&lt;dbl&gt;</th><th scope=col>&lt;dbl&gt;</th><th scope=col>&lt;dbl&gt;</th><th scope=col>&lt;dbl&gt;</th><th scope=col>&lt;int&gt;</th><th scope=col>&lt;dbl&gt;</th><th scope=col>&lt;dbl&gt;</th><th scope=col>&lt;int&gt;</th></tr>\n",
       "</thead>\n",
       "<tbody>\n",
       "\t<tr><th scope=row>1</th><td>Egypt</td><td>2000</td><td>Developing</td><td>68.8</td><td>171</td><td>65760</td><td>0.14</td><td>98</td><td>2633</td><td> 5.7</td><td>⋯</td><td>3.6</td><td>3.5</td><td>0.606</td><td>11.0</td><td>      NA</td><td>4.922443</td><td>18613019</td><td> 8.98</td><td>27.0</td><td>112860</td></tr>\n",
       "\t<tr><th scope=row>2</th><td>Egypt</td><td>2001</td><td>Developing</td><td>68.6</td><td>177</td><td>62607</td><td>0.13</td><td>99</td><td>2150</td><td>51.2</td><td>⋯</td><td>3.5</td><td>3.4</td><td>0.612</td><td>11.1</td><td>      NA</td><td>5.400303</td><td>18895076</td><td> 9.26</td><td>28.3</td><td>125010</td></tr>\n",
       "\t<tr><th scope=row>3</th><td>Egypt</td><td>2002</td><td>Developing</td><td>68.7</td><td>177</td><td>59911</td><td>0.14</td><td>97</td><td> 653</td><td>51.8</td><td>⋯</td><td>3.4</td><td>3.4</td><td>0.617</td><td>11.2</td><td>27.24835</td><td>5.510738</td><td>19083903</td><td>10.01</td><td>28.9</td><td>127740</td></tr>\n",
       "\t<tr><th scope=row>4</th><td>Egypt</td><td>2003</td><td>Developing</td><td>68.6</td><td>178</td><td>57601</td><td>0.14</td><td>98</td><td> 164</td><td>52.3</td><td>⋯</td><td>3.3</td><td>3.3</td><td>0.621</td><td>11.3</td><td>27.33246</td><td>5.224253</td><td>19643592</td><td>11.01</td><td>29.5</td><td>131240</td></tr>\n",
       "\t<tr><th scope=row>5</th><td>Egypt</td><td>2004</td><td>Developing</td><td>69.0</td><td>176</td><td>55698</td><td>0.14</td><td>97</td><td>  80</td><td>52.9</td><td>⋯</td><td>3.3</td><td>3.2</td><td>0.623</td><td>11.2</td><td>26.89038</td><td>4.857324</td><td>20590059</td><td>10.30</td><td>29.3</td><td>142690</td></tr>\n",
       "\t<tr><th scope=row>6</th><td>Egypt</td><td>2005</td><td>Developing</td><td>69.4</td><td>174</td><td>54251</td><td>0.15</td><td>98</td><td>  77</td><td>53.5</td><td>⋯</td><td>3.2</td><td>3.2</td><td>0.629</td><td>11.4</td><td>27.38886</td><td>4.922292</td><td>21157055</td><td>11.20</td><td>29.0</td><td>160590</td></tr>\n",
       "</tbody>\n",
       "</table>\n"
      ],
      "text/latex": [
       "A data.frame: 6 × 28\n",
       "\\begin{tabular}{r|lllllllllllllllllllll}\n",
       "  & Country & Year & Status & Life.expectancy & Adult.Mortality & infant.deaths & Alcohol & Hepatitis.B & Measles & BMI & ⋯ & thinness..1.19.years & thinness.5.9.years & Income.composition.of.resources & Schooling & Expense....of.GDP. & Current.health.expenditure....of.GDP. & Total.employment..total..ages.15.. & Unemployment..total....of.total.labor.force...modeled.ILO.estimate. & Mortality.from.CVD..cancer..diabetes.or.CRD.between.exact.ages.30.and.70.... & CO2.emissions..kt.\\\\\n",
       "  & <chr> & <int> & <chr> & <dbl> & <int> & <int> & <dbl> & <int> & <int> & <dbl> & ⋯ & <dbl> & <dbl> & <dbl> & <dbl> & <dbl> & <dbl> & <int> & <dbl> & <dbl> & <int>\\\\\n",
       "\\hline\n",
       "\t1 & Egypt & 2000 & Developing & 68.8 & 171 & 65760 & 0.14 & 98 & 2633 &  5.7 & ⋯ & 3.6 & 3.5 & 0.606 & 11.0 &       NA & 4.922443 & 18613019 &  8.98 & 27.0 & 112860\\\\\n",
       "\t2 & Egypt & 2001 & Developing & 68.6 & 177 & 62607 & 0.13 & 99 & 2150 & 51.2 & ⋯ & 3.5 & 3.4 & 0.612 & 11.1 &       NA & 5.400303 & 18895076 &  9.26 & 28.3 & 125010\\\\\n",
       "\t3 & Egypt & 2002 & Developing & 68.7 & 177 & 59911 & 0.14 & 97 &  653 & 51.8 & ⋯ & 3.4 & 3.4 & 0.617 & 11.2 & 27.24835 & 5.510738 & 19083903 & 10.01 & 28.9 & 127740\\\\\n",
       "\t4 & Egypt & 2003 & Developing & 68.6 & 178 & 57601 & 0.14 & 98 &  164 & 52.3 & ⋯ & 3.3 & 3.3 & 0.621 & 11.3 & 27.33246 & 5.224253 & 19643592 & 11.01 & 29.5 & 131240\\\\\n",
       "\t5 & Egypt & 2004 & Developing & 69.0 & 176 & 55698 & 0.14 & 97 &   80 & 52.9 & ⋯ & 3.3 & 3.2 & 0.623 & 11.2 & 26.89038 & 4.857324 & 20590059 & 10.30 & 29.3 & 142690\\\\\n",
       "\t6 & Egypt & 2005 & Developing & 69.4 & 174 & 54251 & 0.15 & 98 &   77 & 53.5 & ⋯ & 3.2 & 3.2 & 0.629 & 11.4 & 27.38886 & 4.922292 & 21157055 & 11.20 & 29.0 & 160590\\\\\n",
       "\\end{tabular}\n"
      ],
      "text/markdown": [
       "\n",
       "A data.frame: 6 × 28\n",
       "\n",
       "| <!--/--> | Country &lt;chr&gt; | Year &lt;int&gt; | Status &lt;chr&gt; | Life.expectancy &lt;dbl&gt; | Adult.Mortality &lt;int&gt; | infant.deaths &lt;int&gt; | Alcohol &lt;dbl&gt; | Hepatitis.B &lt;int&gt; | Measles &lt;int&gt; | BMI &lt;dbl&gt; | ⋯ ⋯ | thinness..1.19.years &lt;dbl&gt; | thinness.5.9.years &lt;dbl&gt; | Income.composition.of.resources &lt;dbl&gt; | Schooling &lt;dbl&gt; | Expense....of.GDP. &lt;dbl&gt; | Current.health.expenditure....of.GDP. &lt;dbl&gt; | Total.employment..total..ages.15.. &lt;int&gt; | Unemployment..total....of.total.labor.force...modeled.ILO.estimate. &lt;dbl&gt; | Mortality.from.CVD..cancer..diabetes.or.CRD.between.exact.ages.30.and.70.... &lt;dbl&gt; | CO2.emissions..kt. &lt;int&gt; |\n",
       "|---|---|---|---|---|---|---|---|---|---|---|---|---|---|---|---|---|---|---|---|---|---|\n",
       "| 1 | Egypt | 2000 | Developing | 68.8 | 171 | 65760 | 0.14 | 98 | 2633 |  5.7 | ⋯ | 3.6 | 3.5 | 0.606 | 11.0 |       NA | 4.922443 | 18613019 |  8.98 | 27.0 | 112860 |\n",
       "| 2 | Egypt | 2001 | Developing | 68.6 | 177 | 62607 | 0.13 | 99 | 2150 | 51.2 | ⋯ | 3.5 | 3.4 | 0.612 | 11.1 |       NA | 5.400303 | 18895076 |  9.26 | 28.3 | 125010 |\n",
       "| 3 | Egypt | 2002 | Developing | 68.7 | 177 | 59911 | 0.14 | 97 |  653 | 51.8 | ⋯ | 3.4 | 3.4 | 0.617 | 11.2 | 27.24835 | 5.510738 | 19083903 | 10.01 | 28.9 | 127740 |\n",
       "| 4 | Egypt | 2003 | Developing | 68.6 | 178 | 57601 | 0.14 | 98 |  164 | 52.3 | ⋯ | 3.3 | 3.3 | 0.621 | 11.3 | 27.33246 | 5.224253 | 19643592 | 11.01 | 29.5 | 131240 |\n",
       "| 5 | Egypt | 2004 | Developing | 69.0 | 176 | 55698 | 0.14 | 97 |   80 | 52.9 | ⋯ | 3.3 | 3.2 | 0.623 | 11.2 | 26.89038 | 4.857324 | 20590059 | 10.30 | 29.3 | 142690 |\n",
       "| 6 | Egypt | 2005 | Developing | 69.4 | 174 | 54251 | 0.15 | 98 |   77 | 53.5 | ⋯ | 3.2 | 3.2 | 0.629 | 11.4 | 27.38886 | 4.922292 | 21157055 | 11.20 | 29.0 | 160590 |\n",
       "\n"
      ],
      "text/plain": [
       "  Country Year Status     Life.expectancy Adult.Mortality infant.deaths Alcohol\n",
       "1 Egypt   2000 Developing 68.8            171             65760         0.14   \n",
       "2 Egypt   2001 Developing 68.6            177             62607         0.13   \n",
       "3 Egypt   2002 Developing 68.7            177             59911         0.14   \n",
       "4 Egypt   2003 Developing 68.6            178             57601         0.14   \n",
       "5 Egypt   2004 Developing 69.0            176             55698         0.14   \n",
       "6 Egypt   2005 Developing 69.4            174             54251         0.15   \n",
       "  Hepatitis.B Measles BMI  ⋯ thinness..1.19.years thinness.5.9.years\n",
       "1 98          2633     5.7 ⋯ 3.6                  3.5               \n",
       "2 99          2150    51.2 ⋯ 3.5                  3.4               \n",
       "3 97           653    51.8 ⋯ 3.4                  3.4               \n",
       "4 98           164    52.3 ⋯ 3.3                  3.3               \n",
       "5 97            80    52.9 ⋯ 3.3                  3.2               \n",
       "6 98            77    53.5 ⋯ 3.2                  3.2               \n",
       "  Income.composition.of.resources Schooling Expense....of.GDP.\n",
       "1 0.606                           11.0            NA          \n",
       "2 0.612                           11.1            NA          \n",
       "3 0.617                           11.2      27.24835          \n",
       "4 0.621                           11.3      27.33246          \n",
       "5 0.623                           11.2      26.89038          \n",
       "6 0.629                           11.4      27.38886          \n",
       "  Current.health.expenditure....of.GDP. Total.employment..total..ages.15..\n",
       "1 4.922443                              18613019                          \n",
       "2 5.400303                              18895076                          \n",
       "3 5.510738                              19083903                          \n",
       "4 5.224253                              19643592                          \n",
       "5 4.857324                              20590059                          \n",
       "6 4.922292                              21157055                          \n",
       "  Unemployment..total....of.total.labor.force...modeled.ILO.estimate.\n",
       "1  8.98                                                              \n",
       "2  9.26                                                              \n",
       "3 10.01                                                              \n",
       "4 11.01                                                              \n",
       "5 10.30                                                              \n",
       "6 11.20                                                              \n",
       "  Mortality.from.CVD..cancer..diabetes.or.CRD.between.exact.ages.30.and.70....\n",
       "1 27.0                                                                        \n",
       "2 28.3                                                                        \n",
       "3 28.9                                                                        \n",
       "4 29.5                                                                        \n",
       "5 29.3                                                                        \n",
       "6 29.0                                                                        \n",
       "  CO2.emissions..kt.\n",
       "1 112860            \n",
       "2 125010            \n",
       "3 127740            \n",
       "4 131240            \n",
       "5 142690            \n",
       "6 160590            "
      ]
     },
     "metadata": {},
     "output_type": "display_data"
    },
    {
     "data": {
      "text/html": [
       "<style>\n",
       ".list-inline {list-style: none; margin:0; padding: 0}\n",
       ".list-inline>li {display: inline-block}\n",
       ".list-inline>li:not(:last-child)::after {content: \"\\00b7\"; padding: 0 .5ex}\n",
       "</style>\n",
       "<ol class=list-inline><li>'country'</li><li>'year'</li><li>'status'</li><li>'life_expectancy'</li><li>'adult_mortality'</li><li>'infant_deaths'</li><li>'alcohol'</li><li>'hepatitis_b'</li><li>'measles'</li><li>'bmi'</li><li>'under_five_deaths'</li><li>'polio'</li><li>'total_expenditure'</li><li>'diphtheria'</li><li>'gdp_growth_annual'</li><li>'gdp_current_us'</li><li>'population_growth_annual'</li><li>'population_density_people_per_sq_km_of_land_area'</li><li>'thinness_1_19_years'</li><li>'thinness_5_9_years'</li><li>'income_composition_of_resources'</li><li>'schooling'</li><li>'expense_of_gdp'</li><li>'current_health_expenditure_of_gdp'</li><li>'total_employment_total_ages_15'</li><li>'unemployment_total_of_total_labor_force_modeled_ilo_estimate'</li><li>'mortality_from_cvd_cancer_diabetes_or_crd_between_exact_ages_30_and_70'</li><li>'co2_emissions_kt'</li></ol>\n"
      ],
      "text/latex": [
       "\\begin{enumerate*}\n",
       "\\item 'country'\n",
       "\\item 'year'\n",
       "\\item 'status'\n",
       "\\item 'life\\_expectancy'\n",
       "\\item 'adult\\_mortality'\n",
       "\\item 'infant\\_deaths'\n",
       "\\item 'alcohol'\n",
       "\\item 'hepatitis\\_b'\n",
       "\\item 'measles'\n",
       "\\item 'bmi'\n",
       "\\item 'under\\_five\\_deaths'\n",
       "\\item 'polio'\n",
       "\\item 'total\\_expenditure'\n",
       "\\item 'diphtheria'\n",
       "\\item 'gdp\\_growth\\_annual'\n",
       "\\item 'gdp\\_current\\_us'\n",
       "\\item 'population\\_growth\\_annual'\n",
       "\\item 'population\\_density\\_people\\_per\\_sq\\_km\\_of\\_land\\_area'\n",
       "\\item 'thinness\\_1\\_19\\_years'\n",
       "\\item 'thinness\\_5\\_9\\_years'\n",
       "\\item 'income\\_composition\\_of\\_resources'\n",
       "\\item 'schooling'\n",
       "\\item 'expense\\_of\\_gdp'\n",
       "\\item 'current\\_health\\_expenditure\\_of\\_gdp'\n",
       "\\item 'total\\_employment\\_total\\_ages\\_15'\n",
       "\\item 'unemployment\\_total\\_of\\_total\\_labor\\_force\\_modeled\\_ilo\\_estimate'\n",
       "\\item 'mortality\\_from\\_cvd\\_cancer\\_diabetes\\_or\\_crd\\_between\\_exact\\_ages\\_30\\_and\\_70'\n",
       "\\item 'co2\\_emissions\\_kt'\n",
       "\\end{enumerate*}\n"
      ],
      "text/markdown": [
       "1. 'country'\n",
       "2. 'year'\n",
       "3. 'status'\n",
       "4. 'life_expectancy'\n",
       "5. 'adult_mortality'\n",
       "6. 'infant_deaths'\n",
       "7. 'alcohol'\n",
       "8. 'hepatitis_b'\n",
       "9. 'measles'\n",
       "10. 'bmi'\n",
       "11. 'under_five_deaths'\n",
       "12. 'polio'\n",
       "13. 'total_expenditure'\n",
       "14. 'diphtheria'\n",
       "15. 'gdp_growth_annual'\n",
       "16. 'gdp_current_us'\n",
       "17. 'population_growth_annual'\n",
       "18. 'population_density_people_per_sq_km_of_land_area'\n",
       "19. 'thinness_1_19_years'\n",
       "20. 'thinness_5_9_years'\n",
       "21. 'income_composition_of_resources'\n",
       "22. 'schooling'\n",
       "23. 'expense_of_gdp'\n",
       "24. 'current_health_expenditure_of_gdp'\n",
       "25. 'total_employment_total_ages_15'\n",
       "26. 'unemployment_total_of_total_labor_force_modeled_ilo_estimate'\n",
       "27. 'mortality_from_cvd_cancer_diabetes_or_crd_between_exact_ages_30_and_70'\n",
       "28. 'co2_emissions_kt'\n",
       "\n",
       "\n"
      ],
      "text/plain": [
       " [1] \"country\"                                                               \n",
       " [2] \"year\"                                                                  \n",
       " [3] \"status\"                                                                \n",
       " [4] \"life_expectancy\"                                                       \n",
       " [5] \"adult_mortality\"                                                       \n",
       " [6] \"infant_deaths\"                                                         \n",
       " [7] \"alcohol\"                                                               \n",
       " [8] \"hepatitis_b\"                                                           \n",
       " [9] \"measles\"                                                               \n",
       "[10] \"bmi\"                                                                   \n",
       "[11] \"under_five_deaths\"                                                     \n",
       "[12] \"polio\"                                                                 \n",
       "[13] \"total_expenditure\"                                                     \n",
       "[14] \"diphtheria\"                                                            \n",
       "[15] \"gdp_growth_annual\"                                                     \n",
       "[16] \"gdp_current_us\"                                                        \n",
       "[17] \"population_growth_annual\"                                              \n",
       "[18] \"population_density_people_per_sq_km_of_land_area\"                      \n",
       "[19] \"thinness_1_19_years\"                                                   \n",
       "[20] \"thinness_5_9_years\"                                                    \n",
       "[21] \"income_composition_of_resources\"                                       \n",
       "[22] \"schooling\"                                                             \n",
       "[23] \"expense_of_gdp\"                                                        \n",
       "[24] \"current_health_expenditure_of_gdp\"                                     \n",
       "[25] \"total_employment_total_ages_15\"                                        \n",
       "[26] \"unemployment_total_of_total_labor_force_modeled_ilo_estimate\"          \n",
       "[27] \"mortality_from_cvd_cancer_diabetes_or_crd_between_exact_ages_30_and_70\"\n",
       "[28] \"co2_emissions_kt\"                                                      "
      ]
     },
     "metadata": {},
     "output_type": "display_data"
    }
   ],
   "source": [
    "full_egypt_raw = read.csv(\"/kaggle/input/egypt-raw-data/full_egypt_raw.csv\")\n",
    "head(full_egypt_raw)\n",
    "egypt<-full_egypt_raw %>% \n",
    "  clean_names()\n",
    "colnames(egypt)\n",
    "\n"
   ]
  },
  {
   "cell_type": "markdown",
   "id": "b76c8f87",
   "metadata": {
    "papermill": {
     "duration": 0.010332,
     "end_time": "2022-06-09T02:15:47.828628",
     "exception": false,
     "start_time": "2022-06-09T02:15:47.818296",
     "status": "completed"
    },
    "tags": []
   },
   "source": [
    "### null value pattern in data"
   ]
  },
  {
   "cell_type": "code",
   "execution_count": 4,
   "id": "5d4d36ba",
   "metadata": {
    "execution": {
     "iopub.execute_input": "2022-06-09T02:15:47.853075Z",
     "iopub.status.busy": "2022-06-09T02:15:47.851168Z",
     "iopub.status.idle": "2022-06-09T02:15:48.333377Z",
     "shell.execute_reply": "2022-06-09T02:15:48.331256Z"
    },
    "papermill": {
     "duration": 0.497625,
     "end_time": "2022-06-09T02:15:48.336511",
     "exception": false,
     "start_time": "2022-06-09T02:15:47.838886",
     "status": "completed"
    },
    "tags": []
   },
   "outputs": [
    {
     "data": {
      "text/html": [
       "<table class=\"dataframe\">\n",
       "<caption>A matrix: 8 × 29 of type dbl</caption>\n",
       "<thead>\n",
       "\t<tr><th></th><th scope=col>country</th><th scope=col>year</th><th scope=col>status</th><th scope=col>life_expectancy</th><th scope=col>infant_deaths</th><th scope=col>under_five_deaths</th><th scope=col>diphtheria</th><th scope=col>gdp_growth_annual</th><th scope=col>gdp_current_us</th><th scope=col>population_growth_annual</th><th scope=col>⋯</th><th scope=col>adult_mortality</th><th scope=col>bmi</th><th scope=col>polio</th><th scope=col>thinness_1_19_years</th><th scope=col>thinness_5_9_years</th><th scope=col>income_composition_of_resources</th><th scope=col>schooling</th><th scope=col>total_expenditure</th><th scope=col>expense_of_gdp</th><th scope=col></th></tr>\n",
       "</thead>\n",
       "<tbody>\n",
       "\t<tr><th scope=row>13</th><td>1</td><td>1</td><td>1</td><td>1</td><td>1</td><td>1</td><td>1</td><td>1</td><td>1</td><td>1</td><td>⋯</td><td>1</td><td>1</td><td>1</td><td>1</td><td>1</td><td>1</td><td>1</td><td>1</td><td>1</td><td> 0</td></tr>\n",
       "\t<tr><th scope=row>2</th><td>1</td><td>1</td><td>1</td><td>1</td><td>1</td><td>1</td><td>1</td><td>1</td><td>1</td><td>1</td><td>⋯</td><td>1</td><td>1</td><td>1</td><td>1</td><td>1</td><td>1</td><td>1</td><td>1</td><td>0</td><td> 1</td></tr>\n",
       "\t<tr><th scope=row>1</th><td>1</td><td>1</td><td>1</td><td>1</td><td>1</td><td>1</td><td>1</td><td>1</td><td>1</td><td>1</td><td>⋯</td><td>1</td><td>1</td><td>1</td><td>1</td><td>1</td><td>1</td><td>1</td><td>0</td><td>1</td><td> 1</td></tr>\n",
       "\t<tr><th scope=row>1</th><td>1</td><td>1</td><td>1</td><td>1</td><td>1</td><td>1</td><td>1</td><td>1</td><td>1</td><td>1</td><td>⋯</td><td>0</td><td>0</td><td>0</td><td>0</td><td>0</td><td>0</td><td>0</td><td>0</td><td>0</td><td> 9</td></tr>\n",
       "\t<tr><th scope=row>2</th><td>1</td><td>1</td><td>1</td><td>1</td><td>1</td><td>1</td><td>1</td><td>1</td><td>1</td><td>1</td><td>⋯</td><td>0</td><td>0</td><td>0</td><td>0</td><td>0</td><td>0</td><td>0</td><td>0</td><td>0</td><td>11</td></tr>\n",
       "\t<tr><th scope=row>1</th><td>1</td><td>1</td><td>1</td><td>1</td><td>1</td><td>1</td><td>1</td><td>1</td><td>1</td><td>1</td><td>⋯</td><td>0</td><td>0</td><td>0</td><td>0</td><td>0</td><td>0</td><td>0</td><td>0</td><td>0</td><td>15</td></tr>\n",
       "\t<tr><th scope=row>1</th><td>1</td><td>1</td><td>1</td><td>1</td><td>1</td><td>1</td><td>1</td><td>1</td><td>1</td><td>1</td><td>⋯</td><td>0</td><td>0</td><td>0</td><td>0</td><td>0</td><td>0</td><td>0</td><td>0</td><td>0</td><td>17</td></tr>\n",
       "\t<tr><th scope=row></th><td>0</td><td>0</td><td>0</td><td>0</td><td>0</td><td>0</td><td>0</td><td>0</td><td>0</td><td>0</td><td>⋯</td><td>5</td><td>5</td><td>5</td><td>5</td><td>5</td><td>5</td><td>5</td><td>6</td><td>7</td><td>66</td></tr>\n",
       "</tbody>\n",
       "</table>\n"
      ],
      "text/latex": [
       "A matrix: 8 × 29 of type dbl\n",
       "\\begin{tabular}{r|lllllllllllllllllllll}\n",
       "  & country & year & status & life\\_expectancy & infant\\_deaths & under\\_five\\_deaths & diphtheria & gdp\\_growth\\_annual & gdp\\_current\\_us & population\\_growth\\_annual & ⋯ & adult\\_mortality & bmi & polio & thinness\\_1\\_19\\_years & thinness\\_5\\_9\\_years & income\\_composition\\_of\\_resources & schooling & total\\_expenditure & expense\\_of\\_gdp & \\\\\n",
       "\\hline\n",
       "\t13 & 1 & 1 & 1 & 1 & 1 & 1 & 1 & 1 & 1 & 1 & ⋯ & 1 & 1 & 1 & 1 & 1 & 1 & 1 & 1 & 1 &  0\\\\\n",
       "\t2 & 1 & 1 & 1 & 1 & 1 & 1 & 1 & 1 & 1 & 1 & ⋯ & 1 & 1 & 1 & 1 & 1 & 1 & 1 & 1 & 0 &  1\\\\\n",
       "\t1 & 1 & 1 & 1 & 1 & 1 & 1 & 1 & 1 & 1 & 1 & ⋯ & 1 & 1 & 1 & 1 & 1 & 1 & 1 & 0 & 1 &  1\\\\\n",
       "\t1 & 1 & 1 & 1 & 1 & 1 & 1 & 1 & 1 & 1 & 1 & ⋯ & 0 & 0 & 0 & 0 & 0 & 0 & 0 & 0 & 0 &  9\\\\\n",
       "\t2 & 1 & 1 & 1 & 1 & 1 & 1 & 1 & 1 & 1 & 1 & ⋯ & 0 & 0 & 0 & 0 & 0 & 0 & 0 & 0 & 0 & 11\\\\\n",
       "\t1 & 1 & 1 & 1 & 1 & 1 & 1 & 1 & 1 & 1 & 1 & ⋯ & 0 & 0 & 0 & 0 & 0 & 0 & 0 & 0 & 0 & 15\\\\\n",
       "\t1 & 1 & 1 & 1 & 1 & 1 & 1 & 1 & 1 & 1 & 1 & ⋯ & 0 & 0 & 0 & 0 & 0 & 0 & 0 & 0 & 0 & 17\\\\\n",
       "\t & 0 & 0 & 0 & 0 & 0 & 0 & 0 & 0 & 0 & 0 & ⋯ & 5 & 5 & 5 & 5 & 5 & 5 & 5 & 6 & 7 & 66\\\\\n",
       "\\end{tabular}\n"
      ],
      "text/markdown": [
       "\n",
       "A matrix: 8 × 29 of type dbl\n",
       "\n",
       "| <!--/--> | country | year | status | life_expectancy | infant_deaths | under_five_deaths | diphtheria | gdp_growth_annual | gdp_current_us | population_growth_annual | ⋯ | adult_mortality | bmi | polio | thinness_1_19_years | thinness_5_9_years | income_composition_of_resources | schooling | total_expenditure | expense_of_gdp | <!----> |\n",
       "|---|---|---|---|---|---|---|---|---|---|---|---|---|---|---|---|---|---|---|---|---|---|\n",
       "| 13 | 1 | 1 | 1 | 1 | 1 | 1 | 1 | 1 | 1 | 1 | ⋯ | 1 | 1 | 1 | 1 | 1 | 1 | 1 | 1 | 1 |  0 |\n",
       "| 2 | 1 | 1 | 1 | 1 | 1 | 1 | 1 | 1 | 1 | 1 | ⋯ | 1 | 1 | 1 | 1 | 1 | 1 | 1 | 1 | 0 |  1 |\n",
       "| 1 | 1 | 1 | 1 | 1 | 1 | 1 | 1 | 1 | 1 | 1 | ⋯ | 1 | 1 | 1 | 1 | 1 | 1 | 1 | 0 | 1 |  1 |\n",
       "| 1 | 1 | 1 | 1 | 1 | 1 | 1 | 1 | 1 | 1 | 1 | ⋯ | 0 | 0 | 0 | 0 | 0 | 0 | 0 | 0 | 0 |  9 |\n",
       "| 2 | 1 | 1 | 1 | 1 | 1 | 1 | 1 | 1 | 1 | 1 | ⋯ | 0 | 0 | 0 | 0 | 0 | 0 | 0 | 0 | 0 | 11 |\n",
       "| 1 | 1 | 1 | 1 | 1 | 1 | 1 | 1 | 1 | 1 | 1 | ⋯ | 0 | 0 | 0 | 0 | 0 | 0 | 0 | 0 | 0 | 15 |\n",
       "| 1 | 1 | 1 | 1 | 1 | 1 | 1 | 1 | 1 | 1 | 1 | ⋯ | 0 | 0 | 0 | 0 | 0 | 0 | 0 | 0 | 0 | 17 |\n",
       "| <!----> | 0 | 0 | 0 | 0 | 0 | 0 | 0 | 0 | 0 | 0 | ⋯ | 5 | 5 | 5 | 5 | 5 | 5 | 5 | 6 | 7 | 66 |\n",
       "\n"
      ],
      "text/plain": [
       "   country year status life_expectancy infant_deaths under_five_deaths\n",
       "13 1       1    1      1               1             1                \n",
       "2  1       1    1      1               1             1                \n",
       "1  1       1    1      1               1             1                \n",
       "1  1       1    1      1               1             1                \n",
       "2  1       1    1      1               1             1                \n",
       "1  1       1    1      1               1             1                \n",
       "1  1       1    1      1               1             1                \n",
       "   0       0    0      0               0             0                \n",
       "   diphtheria gdp_growth_annual gdp_current_us population_growth_annual ⋯\n",
       "13 1          1                 1              1                        ⋯\n",
       "2  1          1                 1              1                        ⋯\n",
       "1  1          1                 1              1                        ⋯\n",
       "1  1          1                 1              1                        ⋯\n",
       "2  1          1                 1              1                        ⋯\n",
       "1  1          1                 1              1                        ⋯\n",
       "1  1          1                 1              1                        ⋯\n",
       "   0          0                 0              0                        ⋯\n",
       "   adult_mortality bmi polio thinness_1_19_years thinness_5_9_years\n",
       "13 1               1   1     1                   1                 \n",
       "2  1               1   1     1                   1                 \n",
       "1  1               1   1     1                   1                 \n",
       "1  0               0   0     0                   0                 \n",
       "2  0               0   0     0                   0                 \n",
       "1  0               0   0     0                   0                 \n",
       "1  0               0   0     0                   0                 \n",
       "   5               5   5     5                   5                 \n",
       "   income_composition_of_resources schooling total_expenditure expense_of_gdp\n",
       "13 1                               1         1                 1             \n",
       "2  1                               1         1                 0             \n",
       "1  1                               1         0                 1             \n",
       "1  0                               0         0                 0             \n",
       "2  0                               0         0                 0             \n",
       "1  0                               0         0                 0             \n",
       "1  0                               0         0                 0             \n",
       "   5                               5         6                 7             \n",
       "     \n",
       "13  0\n",
       "2   1\n",
       "1   1\n",
       "1   9\n",
       "2  11\n",
       "1  15\n",
       "1  17\n",
       "   66"
      ]
     },
     "metadata": {},
     "output_type": "display_data"
    },
    {
     "data": {
      "image/png": "[encoded data removed]"
     },
     "metadata": {
      "image/png": {
       "height": 420,
       "width": 420
      }
     },
     "output_type": "display_data"
    },
    {
     "name": "stdout",
     "output_type": "stream",
     "text": [
      "\n",
      " Variables sorted by number of missings: \n",
      "                                                               Variable\n",
      "                                                         expense_of_gdp\n",
      "                                                      total_expenditure\n",
      "                                                        adult_mortality\n",
      "                                                                    bmi\n",
      "                                                                  polio\n",
      "                                                    thinness_1_19_years\n",
      "                                                     thinness_5_9_years\n",
      "                                        income_composition_of_resources\n",
      "                                                              schooling\n",
      "                                         total_employment_total_ages_15\n",
      "           unemployment_total_of_total_labor_force_modeled_ilo_estimate\n",
      "                                                                alcohol\n",
      "                                                            hepatitis_b\n",
      "                                                                measles\n",
      "                                                       co2_emissions_kt\n",
      "                                      current_health_expenditure_of_gdp\n",
      " mortality_from_cvd_cancer_diabetes_or_crd_between_exact_ages_30_and_70\n",
      "                                                                country\n",
      "                                                                   year\n",
      "                                                                 status\n",
      "                                                        life_expectancy\n",
      "                                                          infant_deaths\n",
      "                                                      under_five_deaths\n",
      "                                                             diphtheria\n",
      "                                                      gdp_growth_annual\n",
      "                                                         gdp_current_us\n",
      "                                               population_growth_annual\n",
      "                       population_density_people_per_sq_km_of_land_area\n",
      "      Count\n",
      " 0.33333333\n",
      " 0.28571429\n",
      " 0.23809524\n",
      " 0.23809524\n",
      " 0.23809524\n",
      " 0.23809524\n",
      " 0.23809524\n",
      " 0.23809524\n",
      " 0.23809524\n",
      " 0.19047619\n",
      " 0.19047619\n",
      " 0.09523810\n",
      " 0.09523810\n",
      " 0.09523810\n",
      " 0.09523810\n",
      " 0.04761905\n",
      " 0.04761905\n",
      " 0.00000000\n",
      " 0.00000000\n",
      " 0.00000000\n",
      " 0.00000000\n",
      " 0.00000000\n",
      " 0.00000000\n",
      " 0.00000000\n",
      " 0.00000000\n",
      " 0.00000000\n",
      " 0.00000000\n",
      " 0.00000000\n"
     ]
    },
    {
     "data": {
      "image/png": "[encoded data removed]"
     },
     "metadata": {
      "image/png": {
       "height": 420,
       "width": 420
      }
     },
     "output_type": "display_data"
    }
   ],
   "source": [
    "md.pattern(egypt)\n",
    "aggr_plot <- aggr(egypt, col=c('navyblue','red'), numbers=TRUE, sortVars=TRUE, labels=names(egypt), cex.axis=.7, gap=3, ylab=c(\"Histogram of missing data\",\"Pattern\"))\n"
   ]
  },
  {
   "cell_type": "markdown",
   "id": "842041a3",
   "metadata": {
    "papermill": {
     "duration": 0.01336,
     "end_time": "2022-06-09T02:15:48.362988",
     "exception": false,
     "start_time": "2022-06-09T02:15:48.349628",
     "status": "completed"
    },
    "tags": []
   },
   "source": [
    "##  data_imputation"
   ]
  },
  {
   "cell_type": "code",
   "execution_count": 5,
   "id": "90cb246c",
   "metadata": {
    "collapsed": true,
    "execution": {
     "iopub.execute_input": "2022-06-09T02:15:48.394553Z",
     "iopub.status.busy": "2022-06-09T02:15:48.392514Z",
     "iopub.status.idle": "2022-06-09T02:16:05.036400Z",
     "shell.execute_reply": "2022-06-09T02:16:05.032751Z"
    },
    "jupyter": {
     "outputs_hidden": true
    },
    "papermill": {
     "duration": 16.664405,
     "end_time": "2022-06-09T02:16:05.040749",
     "exception": false,
     "start_time": "2022-06-09T02:15:48.376344",
     "status": "completed"
    },
    "tags": []
   },
   "outputs": [
    {
     "name": "stdout",
     "output_type": "stream",
     "text": [
      "\n",
      " iter imp variable\n",
      "  1   1  adult_mortality  alcohol  hepatitis_b  measles  bmi  total_expenditure  thinness_1_19_years  thinness_5_9_years  income_composition_of_resources  schooling  expense_of_gdp  current_health_expenditure_of_gdp  total_employment_total_ages_15  unemployment_total_of_total_labor_force_modeled_ilo_estimate  mortality_from_cvd_cancer_diabetes_or_crd_between_exact_ages_30_and_70  co2_emissions_kt\n",
      "  1   2  adult_mortality  alcohol  hepatitis_b  measles  bmi  total_expenditure  thinness_1_19_years  thinness_5_9_years  income_composition_of_resources  schooling  expense_of_gdp  current_health_expenditure_of_gdp  total_employment_total_ages_15  unemployment_total_of_total_labor_force_modeled_ilo_estimate  mortality_from_cvd_cancer_diabetes_or_crd_between_exact_ages_30_and_70  co2_emissions_kt\n",
      "  1   3  adult_mortality  alcohol  hepatitis_b  measles  bmi  total_expenditure  thinness_1_19_years  thinness_5_9_years  income_composition_of_resources  schooling  expense_of_gdp  current_health_expenditure_of_gdp  total_employment_total_ages_15  unemployment_total_of_total_labor_force_modeled_ilo_estimate  mortality_from_cvd_cancer_diabetes_or_crd_between_exact_ages_30_and_70  co2_emissions_kt\n",
      "  1   4  adult_mortality  alcohol  hepatitis_b  measles  bmi  total_expenditure  thinness_1_19_years  thinness_5_9_years  income_composition_of_resources  schooling  expense_of_gdp  current_health_expenditure_of_gdp  total_employment_total_ages_15  unemployment_total_of_total_labor_force_modeled_ilo_estimate  mortality_from_cvd_cancer_diabetes_or_crd_between_exact_ages_30_and_70  co2_emissions_kt\n",
      "  1   5  adult_mortality  alcohol  hepatitis_b  measles  bmi  total_expenditure  thinness_1_19_years  thinness_5_9_years  income_composition_of_resources  schooling  expense_of_gdp  current_health_expenditure_of_gdp  total_employment_total_ages_15  unemployment_total_of_total_labor_force_modeled_ilo_estimate  mortality_from_cvd_cancer_diabetes_or_crd_between_exact_ages_30_and_70  co2_emissions_kt\n",
      "  2   1  adult_mortality  alcohol  hepatitis_b  measles  bmi  total_expenditure  thinness_1_19_years  thinness_5_9_years  income_composition_of_resources  schooling  expense_of_gdp  current_health_expenditure_of_gdp  total_employment_total_ages_15  unemployment_total_of_total_labor_force_modeled_ilo_estimate  mortality_from_cvd_cancer_diabetes_or_crd_between_exact_ages_30_and_70  co2_emissions_kt\n",
      "  2   2  adult_mortality  alcohol  hepatitis_b  measles  bmi  total_expenditure  thinness_1_19_years  thinness_5_9_years  income_composition_of_resources  schooling  expense_of_gdp  current_health_expenditure_of_gdp  total_employment_total_ages_15  unemployment_total_of_total_labor_force_modeled_ilo_estimate  mortality_from_cvd_cancer_diabetes_or_crd_between_exact_ages_30_and_70  co2_emissions_kt\n",
      "  2   3  adult_mortality  alcohol  hepatitis_b  measles  bmi  total_expenditure  thinness_1_19_years  thinness_5_9_years  income_composition_of_resources  schooling  expense_of_gdp  current_health_expenditure_of_gdp  total_employment_total_ages_15  unemployment_total_of_total_labor_force_modeled_ilo_estimate  mortality_from_cvd_cancer_diabetes_or_crd_between_exact_ages_30_and_70  co2_emissions_kt\n",
      "  2   4  adult_mortality  alcohol  hepatitis_b  measles  bmi  total_expenditure  thinness_1_19_years  thinness_5_9_years  income_composition_of_resources  schooling  expense_of_gdp  current_health_expenditure_of_gdp  total_employment_total_ages_15  unemployment_total_of_total_labor_force_modeled_ilo_estimate  mortality_from_cvd_cancer_diabetes_or_crd_between_exact_ages_30_and_70  co2_emissions_kt\n",
      "  2   5  adult_mortality  alcohol  hepatitis_b  measles  bmi  total_expenditure  thinness_1_19_years  thinness_5_9_years  income_composition_of_resources  schooling  expense_of_gdp  current_health_expenditure_of_gdp  total_employment_total_ages_15  unemployment_total_of_total_labor_force_modeled_ilo_estimate  mortality_from_cvd_cancer_diabetes_or_crd_between_exact_ages_30_and_70  co2_emissions_kt\n",
      "  3   1  adult_mortality  alcohol  hepatitis_b  measles  bmi  total_expenditure  thinness_1_19_years  thinness_5_9_years  income_composition_of_resources  schooling  expense_of_gdp  current_health_expenditure_of_gdp  total_employment_total_ages_15  unemployment_total_of_total_labor_force_modeled_ilo_estimate  mortality_from_cvd_cancer_diabetes_or_crd_between_exact_ages_30_and_70  co2_emissions_kt\n",
      "  3   2  adult_mortality  alcohol  hepatitis_b  measles  bmi  total_expenditure  thinness_1_19_years  thinness_5_9_years  income_composition_of_resources  schooling  expense_of_gdp  current_health_expenditure_of_gdp  total_employment_total_ages_15  unemployment_total_of_total_labor_force_modeled_ilo_estimate  mortality_from_cvd_cancer_diabetes_or_crd_between_exact_ages_30_and_70  co2_emissions_kt\n",
      "  3   3  adult_mortality  alcohol  hepatitis_b  measles  bmi  total_expenditure  thinness_1_19_years  thinness_5_9_years  income_composition_of_resources  schooling  expense_of_gdp  current_health_expenditure_of_gdp  total_employment_total_ages_15  unemployment_total_of_total_labor_force_modeled_ilo_estimate  mortality_from_cvd_cancer_diabetes_or_crd_between_exact_ages_30_and_70  co2_emissions_kt\n",
      "  3   4  adult_mortality  alcohol  hepatitis_b  measles  bmi  total_expenditure  thinness_1_19_years  thinness_5_9_years  income_composition_of_resources  schooling  expense_of_gdp  current_health_expenditure_of_gdp  total_employment_total_ages_15  unemployment_total_of_total_labor_force_modeled_ilo_estimate  mortality_from_cvd_cancer_diabetes_or_crd_between_exact_ages_30_and_70  co2_emissions_kt\n",
      "  3   5  adult_mortality  alcohol  hepatitis_b  measles  bmi  total_expenditure  thinness_1_19_years  thinness_5_9_years  income_composition_of_resources  schooling  expense_of_gdp  current_health_expenditure_of_gdp  total_employment_total_ages_15  unemployment_total_of_total_labor_force_modeled_ilo_estimate  mortality_from_cvd_cancer_diabetes_or_crd_between_exact_ages_30_and_70  co2_emissions_kt\n",
      "  4   1  adult_mortality  alcohol  hepatitis_b  measles  bmi  total_expenditure  thinness_1_19_years  thinness_5_9_years  income_composition_of_resources  schooling  expense_of_gdp  current_health_expenditure_of_gdp  total_employment_total_ages_15  unemployment_total_of_total_labor_force_modeled_ilo_estimate  mortality_from_cvd_cancer_diabetes_or_crd_between_exact_ages_30_and_70  co2_emissions_kt\n",
      "  4   2  adult_mortality  alcohol  hepatitis_b  measles  bmi  total_expenditure  thinness_1_19_years  thinness_5_9_years  income_composition_of_resources  schooling  expense_of_gdp  current_health_expenditure_of_gdp  total_employment_total_ages_15  unemployment_total_of_total_labor_force_modeled_ilo_estimate  mortality_from_cvd_cancer_diabetes_or_crd_between_exact_ages_30_and_70  co2_emissions_kt\n",
      "  4   3  adult_mortality  alcohol  hepatitis_b  measles  bmi  total_expenditure  thinness_1_19_years  thinness_5_9_years  income_composition_of_resources  schooling  expense_of_gdp  current_health_expenditure_of_gdp  total_employment_total_ages_15  unemployment_total_of_total_labor_force_modeled_ilo_estimate  mortality_from_cvd_cancer_diabetes_or_crd_between_exact_ages_30_and_70  co2_emissions_kt\n",
      "  4   4  adult_mortality  alcohol  hepatitis_b  measles  bmi  total_expenditure  thinness_1_19_years  thinness_5_9_years  income_composition_of_resources  schooling  expense_of_gdp  current_health_expenditure_of_gdp  total_employment_total_ages_15  unemployment_total_of_total_labor_force_modeled_ilo_estimate  mortality_from_cvd_cancer_diabetes_or_crd_between_exact_ages_30_and_70  co2_emissions_kt\n",
      "  4   5  adult_mortality  alcohol  hepatitis_b  measles  bmi  total_expenditure  thinness_1_19_years  thinness_5_9_years  income_composition_of_resources  schooling  expense_of_gdp  current_health_expenditure_of_gdp  total_employment_total_ages_15  unemployment_total_of_total_labor_force_modeled_ilo_estimate  mortality_from_cvd_cancer_diabetes_or_crd_between_exact_ages_30_and_70  co2_emissions_kt\n",
      "  5   1  adult_mortality  alcohol  hepatitis_b  measles  bmi  total_expenditure  thinness_1_19_years  thinness_5_9_years  income_composition_of_resources  schooling  expense_of_gdp  current_health_expenditure_of_gdp  total_employment_total_ages_15  unemployment_total_of_total_labor_force_modeled_ilo_estimate  mortality_from_cvd_cancer_diabetes_or_crd_between_exact_ages_30_and_70  co2_emissions_kt\n",
      "  5   2  adult_mortality  alcohol  hepatitis_b  measles  bmi  total_expenditure  thinness_1_19_years  thinness_5_9_years  income_composition_of_resources  schooling  expense_of_gdp  current_health_expenditure_of_gdp  total_employment_total_ages_15  unemployment_total_of_total_labor_force_modeled_ilo_estimate  mortality_from_cvd_cancer_diabetes_or_crd_between_exact_ages_30_and_70  co2_emissions_kt\n",
      "  5   3  adult_mortality  alcohol  hepatitis_b  measles  bmi  total_expenditure  thinness_1_19_years  thinness_5_9_years  income_composition_of_resources  schooling  expense_of_gdp  current_health_expenditure_of_gdp  total_employment_total_ages_15  unemployment_total_of_total_labor_force_modeled_ilo_estimate  mortality_from_cvd_cancer_diabetes_or_crd_between_exact_ages_30_and_70  co2_emissions_kt\n",
      "  5   4  adult_mortality  alcohol  hepatitis_b  measles  bmi  total_expenditure  thinness_1_19_years  thinness_5_9_years  income_composition_of_resources  schooling  expense_of_gdp  current_health_expenditure_of_gdp  total_employment_total_ages_15  unemployment_total_of_total_labor_force_modeled_ilo_estimate  mortality_from_cvd_cancer_diabetes_or_crd_between_exact_ages_30_and_70  co2_emissions_kt\n",
      "  5   5  adult_mortality  alcohol  hepatitis_b  measles  bmi  total_expenditure  thinness_1_19_years  thinness_5_9_years  income_composition_of_resources  schooling  expense_of_gdp  current_health_expenditure_of_gdp  total_employment_total_ages_15  unemployment_total_of_total_labor_force_modeled_ilo_estimate  mortality_from_cvd_cancer_diabetes_or_crd_between_exact_ages_30_and_70  co2_emissions_kt\n"
     ]
    },
    {
     "name": "stderr",
     "output_type": "stream",
     "text": [
      "Warning message:\n",
      "“Number of logged events: 483”\n"
     ]
    },
    {
     "name": "stdout",
     "output_type": "stream",
     "text": [
      "Class: mids\n",
      "Number of multiple imputations:  5 \n",
      "Imputation methods:\n",
      "                                                               country \n",
      "                                                                    \"\" \n",
      "                                                                  year \n",
      "                                                                    \"\" \n",
      "                                                                status \n",
      "                                                                    \"\" \n",
      "                                                       life_expectancy \n",
      "                                                                    \"\" \n",
      "                                                       adult_mortality \n",
      "                                                                \"cart\" \n",
      "                                                         infant_deaths \n",
      "                                                                    \"\" \n",
      "                                                               alcohol \n",
      "                                                                \"cart\" \n",
      "                                                           hepatitis_b \n",
      "                                                                \"cart\" \n",
      "                                                               measles \n",
      "                                                                \"cart\" \n",
      "                                                                   bmi \n",
      "                                                                \"cart\" \n",
      "                                                     under_five_deaths \n",
      "                                                                    \"\" \n",
      "                                                                 polio \n",
      "                                                                    \"\" \n",
      "                                                     total_expenditure \n",
      "                                                                \"cart\" \n",
      "                                                            diphtheria \n",
      "                                                                    \"\" \n",
      "                                                     gdp_growth_annual \n",
      "                                                                    \"\" \n",
      "                                                        gdp_current_us \n",
      "                                                                    \"\" \n",
      "                                              population_growth_annual \n",
      "                                                                    \"\" \n",
      "                      population_density_people_per_sq_km_of_land_area \n",
      "                                                                    \"\" \n",
      "                                                   thinness_1_19_years \n",
      "                                                                \"cart\" \n",
      "                                                    thinness_5_9_years \n",
      "                                                                \"cart\" \n",
      "                                       income_composition_of_resources \n",
      "                                                                \"cart\" \n",
      "                                                             schooling \n",
      "                                                                \"cart\" \n",
      "                                                        expense_of_gdp \n",
      "                                                                \"cart\" \n",
      "                                     current_health_expenditure_of_gdp \n",
      "                                                                \"cart\" \n",
      "                                        total_employment_total_ages_15 \n",
      "                                                                \"cart\" \n",
      "          unemployment_total_of_total_labor_force_modeled_ilo_estimate \n",
      "                                                                \"cart\" \n",
      "mortality_from_cvd_cancer_diabetes_or_crd_between_exact_ages_30_and_70 \n",
      "                                                                \"cart\" \n",
      "                                                      co2_emissions_kt \n",
      "                                                                \"cart\" \n",
      "PredictorMatrix:\n",
      "                country year status life_expectancy adult_mortality\n",
      "country               0    1      0               1               1\n",
      "year                  0    0      0               1               1\n",
      "status                0    1      0               1               1\n",
      "life_expectancy       0    1      0               0               1\n",
      "adult_mortality       0    1      0               1               0\n",
      "infant_deaths         0    1      0               1               1\n",
      "                infant_deaths alcohol hepatitis_b measles bmi under_five_deaths\n",
      "country                     1       1           1       1   1                 1\n",
      "year                        1       1           1       1   1                 1\n",
      "status                      1       1           1       1   1                 1\n",
      "life_expectancy             1       1           1       1   1                 1\n",
      "adult_mortality             1       1           1       1   1                 1\n",
      "infant_deaths               0       1           1       1   1                 1\n",
      "                polio total_expenditure diphtheria gdp_growth_annual\n",
      "country             0                 1          1                 1\n",
      "year                0                 1          1                 1\n",
      "status              0                 1          1                 1\n",
      "life_expectancy     0                 1          1                 1\n",
      "adult_mortality     0                 1          1                 1\n",
      "infant_deaths       0                 1          1                 1\n",
      "                gdp_current_us population_growth_annual\n",
      "country                      1                        1\n",
      "year                         1                        1\n",
      "status                       1                        1\n",
      "life_expectancy              1                        1\n",
      "adult_mortality              1                        1\n",
      "infant_deaths                1                        1\n",
      "                population_density_people_per_sq_km_of_land_area\n",
      "country                                                        1\n",
      "year                                                           1\n",
      "status                                                         1\n",
      "life_expectancy                                                1\n",
      "adult_mortality                                                1\n",
      "infant_deaths                                                  1\n",
      "                thinness_1_19_years thinness_5_9_years\n",
      "country                           1                  1\n",
      "year                              1                  1\n",
      "status                            1                  1\n",
      "life_expectancy                   1                  1\n",
      "adult_mortality                   1                  1\n",
      "infant_deaths                     1                  1\n",
      "                income_composition_of_resources schooling expense_of_gdp\n",
      "country                                       1         1              1\n",
      "year                                          1         1              1\n",
      "status                                        1         1              1\n",
      "life_expectancy                               1         1              1\n",
      "adult_mortality                               1         1              1\n",
      "infant_deaths                                 1         1              1\n",
      "                current_health_expenditure_of_gdp\n",
      "country                                         1\n",
      "year                                            1\n",
      "status                                          1\n",
      "life_expectancy                                 1\n",
      "adult_mortality                                 1\n",
      "infant_deaths                                   1\n",
      "                total_employment_total_ages_15\n",
      "country                                      1\n",
      "year                                         1\n",
      "status                                       1\n",
      "life_expectancy                              1\n",
      "adult_mortality                              1\n",
      "infant_deaths                                1\n",
      "                unemployment_total_of_total_labor_force_modeled_ilo_estimate\n",
      "country                                                                    1\n",
      "year                                                                       1\n",
      "status                                                                     1\n",
      "life_expectancy                                                            1\n",
      "adult_mortality                                                            1\n",
      "infant_deaths                                                              1\n",
      "                mortality_from_cvd_cancer_diabetes_or_crd_between_exact_ages_30_and_70\n",
      "country                                                                              1\n",
      "year                                                                                 1\n",
      "status                                                                               1\n",
      "life_expectancy                                                                      1\n",
      "adult_mortality                                                                      1\n",
      "infant_deaths                                                                        1\n",
      "                co2_emissions_kt\n",
      "country                        1\n",
      "year                           1\n",
      "status                         1\n",
      "life_expectancy                1\n",
      "adult_mortality                1\n",
      "infant_deaths                  1\n",
      "Number of logged events:  483 \n",
      "  it im             dep      meth\n",
      "1  0  0                  constant\n",
      "2  0  0                  constant\n",
      "3  0  0                 collinear\n",
      "4  1  1 adult_mortality      cart\n",
      "5  1  1 adult_mortality      cart\n",
      "6  1  1         alcohol      cart\n",
      "                                                                                                                                                      out\n",
      "1                                                                                                                                                 country\n",
      "2                                                                                                                                                  status\n",
      "3                                                                                                                                                   polio\n",
      "4                                                                                                     df set to 1. # observed cases: 16  # predictors: 25\n",
      "5 year, infant_deaths, total_expenditure, gdp_growth_annual, population_density_people_per_sq_km_of_land_area, income_composition_of_resources, schooling\n",
      "6                                                                                                     df set to 1. # observed cases: 19  # predictors: 25\n"
     ]
    }
   ],
   "source": [
    "impute_data<-mice(egypt,m=5,method =\"cart\" )\n",
    "summary(impute_data)\n",
    "egypt_1<-complete(impute_data,1)\n"
   ]
  },
  {
   "cell_type": "markdown",
   "id": "f115e46a",
   "metadata": {
    "papermill": {
     "duration": 0.031388,
     "end_time": "2022-06-09T02:16:05.095134",
     "exception": false,
     "start_time": "2022-06-09T02:16:05.063746",
     "status": "completed"
    },
    "tags": []
   },
   "source": [
    "so we have a new data after imputation so we extract the data as a new data to make our model "
   ]
  },
  {
   "cell_type": "markdown",
   "id": "6bffe12a",
   "metadata": {
    "papermill": {
     "duration": 0.012827,
     "end_time": "2022-06-09T02:16:05.120927",
     "exception": false,
     "start_time": "2022-06-09T02:16:05.108100",
     "status": "completed"
    },
    "tags": []
   },
   "source": []
  },
  {
   "cell_type": "code",
   "execution_count": 6,
   "id": "3cd58275",
   "metadata": {
    "execution": {
     "iopub.execute_input": "2022-06-09T02:16:05.151158Z",
     "iopub.status.busy": "2022-06-09T02:16:05.149570Z",
     "iopub.status.idle": "2022-06-09T02:16:05.262721Z",
     "shell.execute_reply": "2022-06-09T02:16:05.260735Z"
    },
    "papermill": {
     "duration": 0.130506,
     "end_time": "2022-06-09T02:16:05.265029",
     "exception": false,
     "start_time": "2022-06-09T02:16:05.134523",
     "status": "completed"
    },
    "tags": []
   },
   "outputs": [
    {
     "data": {
      "text/html": [
       "<table class=\"dataframe\">\n",
       "<caption>A data.frame: 6 × 27</caption>\n",
       "<thead>\n",
       "\t<tr><th></th><th scope=col>Country</th><th scope=col>Year</th><th scope=col>Status</th><th scope=col>Life.expectancy</th><th scope=col>adult_mortality</th><th scope=col>infant_deaths</th><th scope=col>alcohol</th><th scope=col>hepatitis_b</th><th scope=col>measles</th><th scope=col>bmi</th><th scope=col>⋯</th><th scope=col>thinness_1_19_years</th><th scope=col>thinness_5_9_years</th><th scope=col>income_composition_of_resources</th><th scope=col>schooling</th><th scope=col>expense_percent_of_gdp</th><th scope=col>current_health_expenditure_percent_of_gdp</th><th scope=col>total_employment_total_ages_15</th><th scope=col>unemployment_total_percent_of_total_labor_force_modeled_ilo_estimate</th><th scope=col>mortality_from_cvd_cancer_diabetes_or_crd_between_exact_ages_30_and_70_percent</th><th scope=col>co2_emissions_kt</th></tr>\n",
       "\t<tr><th></th><th scope=col>&lt;chr&gt;</th><th scope=col>&lt;int&gt;</th><th scope=col>&lt;chr&gt;</th><th scope=col>&lt;dbl&gt;</th><th scope=col>&lt;int&gt;</th><th scope=col>&lt;int&gt;</th><th scope=col>&lt;dbl&gt;</th><th scope=col>&lt;int&gt;</th><th scope=col>&lt;int&gt;</th><th scope=col>&lt;dbl&gt;</th><th scope=col>⋯</th><th scope=col>&lt;dbl&gt;</th><th scope=col>&lt;dbl&gt;</th><th scope=col>&lt;dbl&gt;</th><th scope=col>&lt;dbl&gt;</th><th scope=col>&lt;dbl&gt;</th><th scope=col>&lt;dbl&gt;</th><th scope=col>&lt;int&gt;</th><th scope=col>&lt;dbl&gt;</th><th scope=col>&lt;dbl&gt;</th><th scope=col>&lt;int&gt;</th></tr>\n",
       "</thead>\n",
       "<tbody>\n",
       "\t<tr><th scope=row>1</th><td>Egypt</td><td>2000</td><td>Developing</td><td>68.8</td><td>171</td><td>65760</td><td>0.14</td><td>98</td><td>2633</td><td> 5.7</td><td>⋯</td><td>3.6</td><td>3.5</td><td>0.606</td><td>11.0</td><td>29.33523</td><td>4.922443</td><td>18613019</td><td> 8.98</td><td>27.0</td><td>112860</td></tr>\n",
       "\t<tr><th scope=row>2</th><td>Egypt</td><td>2001</td><td>Developing</td><td>68.6</td><td>177</td><td>62607</td><td>0.13</td><td>99</td><td>2150</td><td>51.2</td><td>⋯</td><td>3.5</td><td>3.4</td><td>0.612</td><td>11.1</td><td>30.07713</td><td>5.400303</td><td>18895076</td><td> 9.26</td><td>28.3</td><td>125010</td></tr>\n",
       "\t<tr><th scope=row>3</th><td>Egypt</td><td>2002</td><td>Developing</td><td>68.7</td><td>177</td><td>59911</td><td>0.14</td><td>97</td><td> 653</td><td>51.8</td><td>⋯</td><td>3.4</td><td>3.4</td><td>0.617</td><td>11.2</td><td>27.24835</td><td>5.510738</td><td>19083903</td><td>10.01</td><td>28.9</td><td>127740</td></tr>\n",
       "\t<tr><th scope=row>4</th><td>Egypt</td><td>2003</td><td>Developing</td><td>68.6</td><td>178</td><td>57601</td><td>0.14</td><td>98</td><td> 164</td><td>52.3</td><td>⋯</td><td>3.3</td><td>3.3</td><td>0.621</td><td>11.3</td><td>27.33246</td><td>5.224253</td><td>19643592</td><td>11.01</td><td>29.5</td><td>131240</td></tr>\n",
       "\t<tr><th scope=row>5</th><td>Egypt</td><td>2004</td><td>Developing</td><td>69.0</td><td>176</td><td>55698</td><td>0.14</td><td>97</td><td>  80</td><td>52.9</td><td>⋯</td><td>3.3</td><td>3.2</td><td>0.623</td><td>11.2</td><td>26.89038</td><td>4.857324</td><td>20590059</td><td>10.30</td><td>29.3</td><td>142690</td></tr>\n",
       "\t<tr><th scope=row>6</th><td>Egypt</td><td>2005</td><td>Developing</td><td>69.4</td><td>174</td><td>54251</td><td>0.15</td><td>98</td><td>  77</td><td>53.5</td><td>⋯</td><td>3.2</td><td>3.2</td><td>0.629</td><td>11.4</td><td>27.38886</td><td>4.922292</td><td>21157055</td><td>11.20</td><td>29.0</td><td>160590</td></tr>\n",
       "</tbody>\n",
       "</table>\n"
      ],
      "text/latex": [
       "A data.frame: 6 × 27\n",
       "\\begin{tabular}{r|lllllllllllllllllllll}\n",
       "  & Country & Year & Status & Life.expectancy & adult\\_mortality & infant\\_deaths & alcohol & hepatitis\\_b & measles & bmi & ⋯ & thinness\\_1\\_19\\_years & thinness\\_5\\_9\\_years & income\\_composition\\_of\\_resources & schooling & expense\\_percent\\_of\\_gdp & current\\_health\\_expenditure\\_percent\\_of\\_gdp & total\\_employment\\_total\\_ages\\_15 & unemployment\\_total\\_percent\\_of\\_total\\_labor\\_force\\_modeled\\_ilo\\_estimate & mortality\\_from\\_cvd\\_cancer\\_diabetes\\_or\\_crd\\_between\\_exact\\_ages\\_30\\_and\\_70\\_percent & co2\\_emissions\\_kt\\\\\n",
       "  & <chr> & <int> & <chr> & <dbl> & <int> & <int> & <dbl> & <int> & <int> & <dbl> & ⋯ & <dbl> & <dbl> & <dbl> & <dbl> & <dbl> & <dbl> & <int> & <dbl> & <dbl> & <int>\\\\\n",
       "\\hline\n",
       "\t1 & Egypt & 2000 & Developing & 68.8 & 171 & 65760 & 0.14 & 98 & 2633 &  5.7 & ⋯ & 3.6 & 3.5 & 0.606 & 11.0 & 29.33523 & 4.922443 & 18613019 &  8.98 & 27.0 & 112860\\\\\n",
       "\t2 & Egypt & 2001 & Developing & 68.6 & 177 & 62607 & 0.13 & 99 & 2150 & 51.2 & ⋯ & 3.5 & 3.4 & 0.612 & 11.1 & 30.07713 & 5.400303 & 18895076 &  9.26 & 28.3 & 125010\\\\\n",
       "\t3 & Egypt & 2002 & Developing & 68.7 & 177 & 59911 & 0.14 & 97 &  653 & 51.8 & ⋯ & 3.4 & 3.4 & 0.617 & 11.2 & 27.24835 & 5.510738 & 19083903 & 10.01 & 28.9 & 127740\\\\\n",
       "\t4 & Egypt & 2003 & Developing & 68.6 & 178 & 57601 & 0.14 & 98 &  164 & 52.3 & ⋯ & 3.3 & 3.3 & 0.621 & 11.3 & 27.33246 & 5.224253 & 19643592 & 11.01 & 29.5 & 131240\\\\\n",
       "\t5 & Egypt & 2004 & Developing & 69.0 & 176 & 55698 & 0.14 & 97 &   80 & 52.9 & ⋯ & 3.3 & 3.2 & 0.623 & 11.2 & 26.89038 & 4.857324 & 20590059 & 10.30 & 29.3 & 142690\\\\\n",
       "\t6 & Egypt & 2005 & Developing & 69.4 & 174 & 54251 & 0.15 & 98 &   77 & 53.5 & ⋯ & 3.2 & 3.2 & 0.629 & 11.4 & 27.38886 & 4.922292 & 21157055 & 11.20 & 29.0 & 160590\\\\\n",
       "\\end{tabular}\n"
      ],
      "text/markdown": [
       "\n",
       "A data.frame: 6 × 27\n",
       "\n",
       "| <!--/--> | Country &lt;chr&gt; | Year &lt;int&gt; | Status &lt;chr&gt; | Life.expectancy &lt;dbl&gt; | adult_mortality &lt;int&gt; | infant_deaths &lt;int&gt; | alcohol &lt;dbl&gt; | hepatitis_b &lt;int&gt; | measles &lt;int&gt; | bmi &lt;dbl&gt; | ⋯ ⋯ | thinness_1_19_years &lt;dbl&gt; | thinness_5_9_years &lt;dbl&gt; | income_composition_of_resources &lt;dbl&gt; | schooling &lt;dbl&gt; | expense_percent_of_gdp &lt;dbl&gt; | current_health_expenditure_percent_of_gdp &lt;dbl&gt; | total_employment_total_ages_15 &lt;int&gt; | unemployment_total_percent_of_total_labor_force_modeled_ilo_estimate &lt;dbl&gt; | mortality_from_cvd_cancer_diabetes_or_crd_between_exact_ages_30_and_70_percent &lt;dbl&gt; | co2_emissions_kt &lt;int&gt; |\n",
       "|---|---|---|---|---|---|---|---|---|---|---|---|---|---|---|---|---|---|---|---|---|---|\n",
       "| 1 | Egypt | 2000 | Developing | 68.8 | 171 | 65760 | 0.14 | 98 | 2633 |  5.7 | ⋯ | 3.6 | 3.5 | 0.606 | 11.0 | 29.33523 | 4.922443 | 18613019 |  8.98 | 27.0 | 112860 |\n",
       "| 2 | Egypt | 2001 | Developing | 68.6 | 177 | 62607 | 0.13 | 99 | 2150 | 51.2 | ⋯ | 3.5 | 3.4 | 0.612 | 11.1 | 30.07713 | 5.400303 | 18895076 |  9.26 | 28.3 | 125010 |\n",
       "| 3 | Egypt | 2002 | Developing | 68.7 | 177 | 59911 | 0.14 | 97 |  653 | 51.8 | ⋯ | 3.4 | 3.4 | 0.617 | 11.2 | 27.24835 | 5.510738 | 19083903 | 10.01 | 28.9 | 127740 |\n",
       "| 4 | Egypt | 2003 | Developing | 68.6 | 178 | 57601 | 0.14 | 98 |  164 | 52.3 | ⋯ | 3.3 | 3.3 | 0.621 | 11.3 | 27.33246 | 5.224253 | 19643592 | 11.01 | 29.5 | 131240 |\n",
       "| 5 | Egypt | 2004 | Developing | 69.0 | 176 | 55698 | 0.14 | 97 |   80 | 52.9 | ⋯ | 3.3 | 3.2 | 0.623 | 11.2 | 26.89038 | 4.857324 | 20590059 | 10.30 | 29.3 | 142690 |\n",
       "| 6 | Egypt | 2005 | Developing | 69.4 | 174 | 54251 | 0.15 | 98 |   77 | 53.5 | ⋯ | 3.2 | 3.2 | 0.629 | 11.4 | 27.38886 | 4.922292 | 21157055 | 11.20 | 29.0 | 160590 |\n",
       "\n"
      ],
      "text/plain": [
       "  Country Year Status     Life.expectancy adult_mortality infant_deaths alcohol\n",
       "1 Egypt   2000 Developing 68.8            171             65760         0.14   \n",
       "2 Egypt   2001 Developing 68.6            177             62607         0.13   \n",
       "3 Egypt   2002 Developing 68.7            177             59911         0.14   \n",
       "4 Egypt   2003 Developing 68.6            178             57601         0.14   \n",
       "5 Egypt   2004 Developing 69.0            176             55698         0.14   \n",
       "6 Egypt   2005 Developing 69.4            174             54251         0.15   \n",
       "  hepatitis_b measles bmi  ⋯ thinness_1_19_years thinness_5_9_years\n",
       "1 98          2633     5.7 ⋯ 3.6                 3.5               \n",
       "2 99          2150    51.2 ⋯ 3.5                 3.4               \n",
       "3 97           653    51.8 ⋯ 3.4                 3.4               \n",
       "4 98           164    52.3 ⋯ 3.3                 3.3               \n",
       "5 97            80    52.9 ⋯ 3.3                 3.2               \n",
       "6 98            77    53.5 ⋯ 3.2                 3.2               \n",
       "  income_composition_of_resources schooling expense_percent_of_gdp\n",
       "1 0.606                           11.0      29.33523              \n",
       "2 0.612                           11.1      30.07713              \n",
       "3 0.617                           11.2      27.24835              \n",
       "4 0.621                           11.3      27.33246              \n",
       "5 0.623                           11.2      26.89038              \n",
       "6 0.629                           11.4      27.38886              \n",
       "  current_health_expenditure_percent_of_gdp total_employment_total_ages_15\n",
       "1 4.922443                                  18613019                      \n",
       "2 5.400303                                  18895076                      \n",
       "3 5.510738                                  19083903                      \n",
       "4 5.224253                                  19643592                      \n",
       "5 4.857324                                  20590059                      \n",
       "6 4.922292                                  21157055                      \n",
       "  unemployment_total_percent_of_total_labor_force_modeled_ilo_estimate\n",
       "1  8.98                                                               \n",
       "2  9.26                                                               \n",
       "3 10.01                                                               \n",
       "4 11.01                                                               \n",
       "5 10.30                                                               \n",
       "6 11.20                                                               \n",
       "  mortality_from_cvd_cancer_diabetes_or_crd_between_exact_ages_30_and_70_percent\n",
       "1 27.0                                                                          \n",
       "2 28.3                                                                          \n",
       "3 28.9                                                                          \n",
       "4 29.5                                                                          \n",
       "5 29.3                                                                          \n",
       "6 29.0                                                                          \n",
       "  co2_emissions_kt\n",
       "1 112860          \n",
       "2 125010          \n",
       "3 127740          \n",
       "4 131240          \n",
       "5 142690          \n",
       "6 160590          "
      ]
     },
     "metadata": {},
     "output_type": "display_data"
    },
    {
     "data": {
      "text/html": [
       "<table class=\"dataframe\">\n",
       "<caption>A data.frame: 21 × 27</caption>\n",
       "<thead>\n",
       "\t<tr><th scope=col>country</th><th scope=col>year</th><th scope=col>status</th><th scope=col>life_expectancy</th><th scope=col>adult_mortality</th><th scope=col>infant_deaths</th><th scope=col>alcohol</th><th scope=col>hepatitis_b</th><th scope=col>measles</th><th scope=col>bmi</th><th scope=col>⋯</th><th scope=col>thinness_1_19_years</th><th scope=col>thinness_5_9_years</th><th scope=col>income_composition_of_resources</th><th scope=col>schooling</th><th scope=col>expense_percent_of_gdp</th><th scope=col>current_health_expenditure_percent_of_gdp</th><th scope=col>total_employment_total_ages_15</th><th scope=col>unemployment_total_percent_of_total_labor_force_modeled_ilo_estimate</th><th scope=col>mortality_from_cvd_cancer_diabetes_or_crd_between_exact_ages_30_and_70_percent</th><th scope=col>co2_emissions_kt</th></tr>\n",
       "\t<tr><th scope=col>&lt;chr&gt;</th><th scope=col>&lt;int&gt;</th><th scope=col>&lt;chr&gt;</th><th scope=col>&lt;dbl&gt;</th><th scope=col>&lt;int&gt;</th><th scope=col>&lt;int&gt;</th><th scope=col>&lt;dbl&gt;</th><th scope=col>&lt;int&gt;</th><th scope=col>&lt;int&gt;</th><th scope=col>&lt;dbl&gt;</th><th scope=col>⋯</th><th scope=col>&lt;dbl&gt;</th><th scope=col>&lt;dbl&gt;</th><th scope=col>&lt;dbl&gt;</th><th scope=col>&lt;dbl&gt;</th><th scope=col>&lt;dbl&gt;</th><th scope=col>&lt;dbl&gt;</th><th scope=col>&lt;int&gt;</th><th scope=col>&lt;dbl&gt;</th><th scope=col>&lt;dbl&gt;</th><th scope=col>&lt;int&gt;</th></tr>\n",
       "</thead>\n",
       "<tbody>\n",
       "\t<tr><td>Egypt</td><td>2000</td><td>Developing</td><td>68.8</td><td>171</td><td>65760</td><td>0.14</td><td>98</td><td>2633</td><td> 5.7</td><td>⋯</td><td>3.6</td><td>3.5</td><td>0.606</td><td>11.0</td><td>29.33523</td><td>4.922443</td><td>18613019</td><td> 8.98</td><td>27.0</td><td>112860</td></tr>\n",
       "\t<tr><td>Egypt</td><td>2001</td><td>Developing</td><td>68.6</td><td>177</td><td>62607</td><td>0.13</td><td>99</td><td>2150</td><td>51.2</td><td>⋯</td><td>3.5</td><td>3.4</td><td>0.612</td><td>11.1</td><td>30.07713</td><td>5.400303</td><td>18895076</td><td> 9.26</td><td>28.3</td><td>125010</td></tr>\n",
       "\t<tr><td>Egypt</td><td>2002</td><td>Developing</td><td>68.7</td><td>177</td><td>59911</td><td>0.14</td><td>97</td><td> 653</td><td>51.8</td><td>⋯</td><td>3.4</td><td>3.4</td><td>0.617</td><td>11.2</td><td>27.24835</td><td>5.510738</td><td>19083903</td><td>10.01</td><td>28.9</td><td>127740</td></tr>\n",
       "\t<tr><td>Egypt</td><td>2003</td><td>Developing</td><td>68.6</td><td>178</td><td>57601</td><td>0.14</td><td>98</td><td> 164</td><td>52.3</td><td>⋯</td><td>3.3</td><td>3.3</td><td>0.621</td><td>11.3</td><td>27.33246</td><td>5.224253</td><td>19643592</td><td>11.01</td><td>29.5</td><td>131240</td></tr>\n",
       "\t<tr><td>Egypt</td><td>2004</td><td>Developing</td><td>69.0</td><td>176</td><td>55698</td><td>0.14</td><td>97</td><td>  80</td><td>52.9</td><td>⋯</td><td>3.3</td><td>3.2</td><td>0.623</td><td>11.2</td><td>26.89038</td><td>4.857324</td><td>20590059</td><td>10.30</td><td>29.3</td><td>142690</td></tr>\n",
       "\t<tr><td>Egypt</td><td>2005</td><td>Developing</td><td>69.4</td><td>174</td><td>54251</td><td>0.15</td><td>98</td><td>  77</td><td>53.5</td><td>⋯</td><td>3.2</td><td>3.2</td><td>0.629</td><td>11.4</td><td>27.38886</td><td>4.922292</td><td>21157055</td><td>11.20</td><td>29.0</td><td>160590</td></tr>\n",
       "\t<tr><td>Egypt</td><td>2006</td><td>Developing</td><td>69.5</td><td>175</td><td>53314</td><td>0.17</td><td>98</td><td> 953</td><td>54.2</td><td>⋯</td><td>3.2</td><td>3.1</td><td>0.636</td><td>11.5</td><td>32.76367</td><td>4.841901</td><td>22034844</td><td>10.49</td><td>29.4</td><td>169130</td></tr>\n",
       "\t<tr><td>Egypt</td><td>2007</td><td>Developing</td><td>69.7</td><td>171</td><td>52791</td><td>0.19</td><td>98</td><td>1684</td><td>54.8</td><td>⋯</td><td>3.1</td><td>3.1</td><td>0.644</td><td>11.7</td><td>29.33523</td><td>4.444932</td><td>23510594</td><td> 8.80</td><td>29.1</td><td>182230</td></tr>\n",
       "\t<tr><td>Egypt</td><td>2008</td><td>Developing</td><td>69.8</td><td>172</td><td>52693</td><td>0.21</td><td>97</td><td> 668</td><td>55.5</td><td>⋯</td><td>3.1</td><td>3.0</td><td>0.651</td><td>11.9</td><td>30.31820</td><td>4.466348</td><td>24297690</td><td> 8.52</td><td>29.4</td><td>189120</td></tr>\n",
       "\t<tr><td>Egypt</td><td>2009</td><td>Developing</td><td>69.9</td><td>174</td><td>52878</td><td>0.19</td><td>97</td><td> 608</td><td>56.2</td><td>⋯</td><td>3.0</td><td>3.0</td><td>0.659</td><td>12.0</td><td>30.07713</td><td>4.378701</td><td>24849220</td><td> 9.09</td><td>29.9</td><td>195490</td></tr>\n",
       "\t<tr><td>Egypt</td><td>2010</td><td>Developing</td><td>70.0</td><td>173</td><td>53175</td><td>0.21</td><td>97</td><td>  16</td><td>57.0</td><td>⋯</td><td>3.0</td><td>2.9</td><td>0.665</td><td>12.2</td><td>28.86025</td><td>4.153195</td><td>24826068</td><td>11.85</td><td>29.9</td><td>196500</td></tr>\n",
       "\t<tr><td>Egypt</td><td>2011</td><td>Developing</td><td>70.5</td><td>168</td><td>53395</td><td>0.19</td><td>96</td><td>  26</td><td>57.8</td><td>⋯</td><td>2.9</td><td>2.9</td><td>0.671</td><td>12.4</td><td>29.18993</td><td>4.357069</td><td>25123908</td><td>11.85</td><td>29.2</td><td>201610</td></tr>\n",
       "\t<tr><td>Egypt</td><td>2012</td><td>Developing</td><td>70.7</td><td>165</td><td>53365</td><td>0.19</td><td>93</td><td> 245</td><td>58.6</td><td>⋯</td><td>2.9</td><td>2.8</td><td>0.673</td><td>12.4</td><td>28.68950</td><td>4.710259</td><td>25462743</td><td>12.60</td><td>30.0</td><td>212410</td></tr>\n",
       "\t<tr><td>Egypt</td><td>2013</td><td>Developing</td><td>70.9</td><td>159</td><td>52987</td><td>0.19</td><td>97</td><td> 405</td><td>59.4</td><td>⋯</td><td>2.9</td><td>2.8</td><td>0.681</td><td>12.8</td><td>32.20173</td><td>4.917309</td><td>25920034</td><td>13.15</td><td>28.8</td><td>210430</td></tr>\n",
       "\t<tr><td>Egypt</td><td>2014</td><td>Developing</td><td>71.1</td><td>161</td><td>52215</td><td>0.19</td><td>94</td><td>1314</td><td> 6.2</td><td>⋯</td><td>2.8</td><td>2.8</td><td>0.686</td><td>13.1</td><td>32.92063</td><td>5.025188</td><td>26046764</td><td>13.10</td><td>29.2</td><td>216650</td></tr>\n",
       "\t<tr><td>Egypt</td><td>2015</td><td>Developing</td><td>71.3</td><td>159</td><td>51007</td><td>0.18</td><td>93</td><td>5432</td><td>61.1</td><td>⋯</td><td>2.8</td><td>2.8</td><td>0.688</td><td>13.1</td><td>30.23037</td><td>5.336573</td><td>26152806</td><td>13.05</td><td>30.4</td><td>225950</td></tr>\n",
       "\t<tr><td>Egypt</td><td>2016</td><td>Developing</td><td>71.4</td><td>159</td><td>49616</td><td>0.15</td><td>94</td><td> 225</td><td>52.3</td><td>⋯</td><td>3.1</td><td>3.1</td><td>0.629</td><td>13.1</td><td>28.68950</td><td>5.363998</td><td>26687553</td><td>12.41</td><td>29.4</td><td>233960</td></tr>\n",
       "\t<tr><td>Egypt</td><td>2017</td><td>Developing</td><td>71.6</td><td>168</td><td>47930</td><td>0.13</td><td>95</td><td>  24</td><td>54.2</td><td>⋯</td><td>3.0</td><td>3.0</td><td>0.651</td><td>12.4</td><td>32.92063</td><td>5.633056</td><td>25920034</td><td>12.41</td><td>28.1</td><td>238690</td></tr>\n",
       "\t<tr><td>Egypt</td><td>2018</td><td>Developing</td><td>71.8</td><td>159</td><td>46141</td><td>0.14</td><td>95</td><td>  48</td><td>51.2</td><td>⋯</td><td>3.1</td><td>2.8</td><td>0.671</td><td>12.4</td><td>26.89038</td><td>4.947577</td><td>26152806</td><td>12.60</td><td>28.3</td><td>246260</td></tr>\n",
       "\t<tr><td>Egypt</td><td>2019</td><td>Developing</td><td>71.9</td><td>161</td><td>44335</td><td>0.19</td><td>93</td><td>  16</td><td>57.8</td><td>⋯</td><td>3.1</td><td>2.8</td><td>0.688</td><td>12.4</td><td>28.86025</td><td>4.739974</td><td>25123908</td><td>13.15</td><td>28.0</td><td>182230</td></tr>\n",
       "\t<tr><td>Egypt</td><td>2020</td><td>Developing</td><td>72.1</td><td>165</td><td>42651</td><td>0.21</td><td>94</td><td> 953</td><td>51.8</td><td>⋯</td><td>2.9</td><td>3.0</td><td>0.673</td><td>11.9</td><td>29.33523</td><td>5.025188</td><td>24826068</td><td>13.10</td><td>28.8</td><td>201610</td></tr>\n",
       "</tbody>\n",
       "</table>\n"
      ],
      "text/latex": [
       "A data.frame: 21 × 27\n",
       "\\begin{tabular}{lllllllllllllllllllll}\n",
       " country & year & status & life\\_expectancy & adult\\_mortality & infant\\_deaths & alcohol & hepatitis\\_b & measles & bmi & ⋯ & thinness\\_1\\_19\\_years & thinness\\_5\\_9\\_years & income\\_composition\\_of\\_resources & schooling & expense\\_percent\\_of\\_gdp & current\\_health\\_expenditure\\_percent\\_of\\_gdp & total\\_employment\\_total\\_ages\\_15 & unemployment\\_total\\_percent\\_of\\_total\\_labor\\_force\\_modeled\\_ilo\\_estimate & mortality\\_from\\_cvd\\_cancer\\_diabetes\\_or\\_crd\\_between\\_exact\\_ages\\_30\\_and\\_70\\_percent & co2\\_emissions\\_kt\\\\\n",
       " <chr> & <int> & <chr> & <dbl> & <int> & <int> & <dbl> & <int> & <int> & <dbl> & ⋯ & <dbl> & <dbl> & <dbl> & <dbl> & <dbl> & <dbl> & <int> & <dbl> & <dbl> & <int>\\\\\n",
       "\\hline\n",
       "\t Egypt & 2000 & Developing & 68.8 & 171 & 65760 & 0.14 & 98 & 2633 &  5.7 & ⋯ & 3.6 & 3.5 & 0.606 & 11.0 & 29.33523 & 4.922443 & 18613019 &  8.98 & 27.0 & 112860\\\\\n",
       "\t Egypt & 2001 & Developing & 68.6 & 177 & 62607 & 0.13 & 99 & 2150 & 51.2 & ⋯ & 3.5 & 3.4 & 0.612 & 11.1 & 30.07713 & 5.400303 & 18895076 &  9.26 & 28.3 & 125010\\\\\n",
       "\t Egypt & 2002 & Developing & 68.7 & 177 & 59911 & 0.14 & 97 &  653 & 51.8 & ⋯ & 3.4 & 3.4 & 0.617 & 11.2 & 27.24835 & 5.510738 & 19083903 & 10.01 & 28.9 & 127740\\\\\n",
       "\t Egypt & 2003 & Developing & 68.6 & 178 & 57601 & 0.14 & 98 &  164 & 52.3 & ⋯ & 3.3 & 3.3 & 0.621 & 11.3 & 27.33246 & 5.224253 & 19643592 & 11.01 & 29.5 & 131240\\\\\n",
       "\t Egypt & 2004 & Developing & 69.0 & 176 & 55698 & 0.14 & 97 &   80 & 52.9 & ⋯ & 3.3 & 3.2 & 0.623 & 11.2 & 26.89038 & 4.857324 & 20590059 & 10.30 & 29.3 & 142690\\\\\n",
       "\t Egypt & 2005 & Developing & 69.4 & 174 & 54251 & 0.15 & 98 &   77 & 53.5 & ⋯ & 3.2 & 3.2 & 0.629 & 11.4 & 27.38886 & 4.922292 & 21157055 & 11.20 & 29.0 & 160590\\\\\n",
       "\t Egypt & 2006 & Developing & 69.5 & 175 & 53314 & 0.17 & 98 &  953 & 54.2 & ⋯ & 3.2 & 3.1 & 0.636 & 11.5 & 32.76367 & 4.841901 & 22034844 & 10.49 & 29.4 & 169130\\\\\n",
       "\t Egypt & 2007 & Developing & 69.7 & 171 & 52791 & 0.19 & 98 & 1684 & 54.8 & ⋯ & 3.1 & 3.1 & 0.644 & 11.7 & 29.33523 & 4.444932 & 23510594 &  8.80 & 29.1 & 182230\\\\\n",
       "\t Egypt & 2008 & Developing & 69.8 & 172 & 52693 & 0.21 & 97 &  668 & 55.5 & ⋯ & 3.1 & 3.0 & 0.651 & 11.9 & 30.31820 & 4.466348 & 24297690 &  8.52 & 29.4 & 189120\\\\\n",
       "\t Egypt & 2009 & Developing & 69.9 & 174 & 52878 & 0.19 & 97 &  608 & 56.2 & ⋯ & 3.0 & 3.0 & 0.659 & 12.0 & 30.07713 & 4.378701 & 24849220 &  9.09 & 29.9 & 195490\\\\\n",
       "\t Egypt & 2010 & Developing & 70.0 & 173 & 53175 & 0.21 & 97 &   16 & 57.0 & ⋯ & 3.0 & 2.9 & 0.665 & 12.2 & 28.86025 & 4.153195 & 24826068 & 11.85 & 29.9 & 196500\\\\\n",
       "\t Egypt & 2011 & Developing & 70.5 & 168 & 53395 & 0.19 & 96 &   26 & 57.8 & ⋯ & 2.9 & 2.9 & 0.671 & 12.4 & 29.18993 & 4.357069 & 25123908 & 11.85 & 29.2 & 201610\\\\\n",
       "\t Egypt & 2012 & Developing & 70.7 & 165 & 53365 & 0.19 & 93 &  245 & 58.6 & ⋯ & 2.9 & 2.8 & 0.673 & 12.4 & 28.68950 & 4.710259 & 25462743 & 12.60 & 30.0 & 212410\\\\\n",
       "\t Egypt & 2013 & Developing & 70.9 & 159 & 52987 & 0.19 & 97 &  405 & 59.4 & ⋯ & 2.9 & 2.8 & 0.681 & 12.8 & 32.20173 & 4.917309 & 25920034 & 13.15 & 28.8 & 210430\\\\\n",
       "\t Egypt & 2014 & Developing & 71.1 & 161 & 52215 & 0.19 & 94 & 1314 &  6.2 & ⋯ & 2.8 & 2.8 & 0.686 & 13.1 & 32.92063 & 5.025188 & 26046764 & 13.10 & 29.2 & 216650\\\\\n",
       "\t Egypt & 2015 & Developing & 71.3 & 159 & 51007 & 0.18 & 93 & 5432 & 61.1 & ⋯ & 2.8 & 2.8 & 0.688 & 13.1 & 30.23037 & 5.336573 & 26152806 & 13.05 & 30.4 & 225950\\\\\n",
       "\t Egypt & 2016 & Developing & 71.4 & 159 & 49616 & 0.15 & 94 &  225 & 52.3 & ⋯ & 3.1 & 3.1 & 0.629 & 13.1 & 28.68950 & 5.363998 & 26687553 & 12.41 & 29.4 & 233960\\\\\n",
       "\t Egypt & 2017 & Developing & 71.6 & 168 & 47930 & 0.13 & 95 &   24 & 54.2 & ⋯ & 3.0 & 3.0 & 0.651 & 12.4 & 32.92063 & 5.633056 & 25920034 & 12.41 & 28.1 & 238690\\\\\n",
       "\t Egypt & 2018 & Developing & 71.8 & 159 & 46141 & 0.14 & 95 &   48 & 51.2 & ⋯ & 3.1 & 2.8 & 0.671 & 12.4 & 26.89038 & 4.947577 & 26152806 & 12.60 & 28.3 & 246260\\\\\n",
       "\t Egypt & 2019 & Developing & 71.9 & 161 & 44335 & 0.19 & 93 &   16 & 57.8 & ⋯ & 3.1 & 2.8 & 0.688 & 12.4 & 28.86025 & 4.739974 & 25123908 & 13.15 & 28.0 & 182230\\\\\n",
       "\t Egypt & 2020 & Developing & 72.1 & 165 & 42651 & 0.21 & 94 &  953 & 51.8 & ⋯ & 2.9 & 3.0 & 0.673 & 11.9 & 29.33523 & 5.025188 & 24826068 & 13.10 & 28.8 & 201610\\\\\n",
       "\\end{tabular}\n"
      ],
      "text/markdown": [
       "\n",
       "A data.frame: 21 × 27\n",
       "\n",
       "| country &lt;chr&gt; | year &lt;int&gt; | status &lt;chr&gt; | life_expectancy &lt;dbl&gt; | adult_mortality &lt;int&gt; | infant_deaths &lt;int&gt; | alcohol &lt;dbl&gt; | hepatitis_b &lt;int&gt; | measles &lt;int&gt; | bmi &lt;dbl&gt; | ⋯ ⋯ | thinness_1_19_years &lt;dbl&gt; | thinness_5_9_years &lt;dbl&gt; | income_composition_of_resources &lt;dbl&gt; | schooling &lt;dbl&gt; | expense_percent_of_gdp &lt;dbl&gt; | current_health_expenditure_percent_of_gdp &lt;dbl&gt; | total_employment_total_ages_15 &lt;int&gt; | unemployment_total_percent_of_total_labor_force_modeled_ilo_estimate &lt;dbl&gt; | mortality_from_cvd_cancer_diabetes_or_crd_between_exact_ages_30_and_70_percent &lt;dbl&gt; | co2_emissions_kt &lt;int&gt; |\n",
       "|---|---|---|---|---|---|---|---|---|---|---|---|---|---|---|---|---|---|---|---|---|\n",
       "| Egypt | 2000 | Developing | 68.8 | 171 | 65760 | 0.14 | 98 | 2633 |  5.7 | ⋯ | 3.6 | 3.5 | 0.606 | 11.0 | 29.33523 | 4.922443 | 18613019 |  8.98 | 27.0 | 112860 |\n",
       "| Egypt | 2001 | Developing | 68.6 | 177 | 62607 | 0.13 | 99 | 2150 | 51.2 | ⋯ | 3.5 | 3.4 | 0.612 | 11.1 | 30.07713 | 5.400303 | 18895076 |  9.26 | 28.3 | 125010 |\n",
       "| Egypt | 2002 | Developing | 68.7 | 177 | 59911 | 0.14 | 97 |  653 | 51.8 | ⋯ | 3.4 | 3.4 | 0.617 | 11.2 | 27.24835 | 5.510738 | 19083903 | 10.01 | 28.9 | 127740 |\n",
       "| Egypt | 2003 | Developing | 68.6 | 178 | 57601 | 0.14 | 98 |  164 | 52.3 | ⋯ | 3.3 | 3.3 | 0.621 | 11.3 | 27.33246 | 5.224253 | 19643592 | 11.01 | 29.5 | 131240 |\n",
       "| Egypt | 2004 | Developing | 69.0 | 176 | 55698 | 0.14 | 97 |   80 | 52.9 | ⋯ | 3.3 | 3.2 | 0.623 | 11.2 | 26.89038 | 4.857324 | 20590059 | 10.30 | 29.3 | 142690 |\n",
       "| Egypt | 2005 | Developing | 69.4 | 174 | 54251 | 0.15 | 98 |   77 | 53.5 | ⋯ | 3.2 | 3.2 | 0.629 | 11.4 | 27.38886 | 4.922292 | 21157055 | 11.20 | 29.0 | 160590 |\n",
       "| Egypt | 2006 | Developing | 69.5 | 175 | 53314 | 0.17 | 98 |  953 | 54.2 | ⋯ | 3.2 | 3.1 | 0.636 | 11.5 | 32.76367 | 4.841901 | 22034844 | 10.49 | 29.4 | 169130 |\n",
       "| Egypt | 2007 | Developing | 69.7 | 171 | 52791 | 0.19 | 98 | 1684 | 54.8 | ⋯ | 3.1 | 3.1 | 0.644 | 11.7 | 29.33523 | 4.444932 | 23510594 |  8.80 | 29.1 | 182230 |\n",
       "| Egypt | 2008 | Developing | 69.8 | 172 | 52693 | 0.21 | 97 |  668 | 55.5 | ⋯ | 3.1 | 3.0 | 0.651 | 11.9 | 30.31820 | 4.466348 | 24297690 |  8.52 | 29.4 | 189120 |\n",
       "| Egypt | 2009 | Developing | 69.9 | 174 | 52878 | 0.19 | 97 |  608 | 56.2 | ⋯ | 3.0 | 3.0 | 0.659 | 12.0 | 30.07713 | 4.378701 | 24849220 |  9.09 | 29.9 | 195490 |\n",
       "| Egypt | 2010 | Developing | 70.0 | 173 | 53175 | 0.21 | 97 |   16 | 57.0 | ⋯ | 3.0 | 2.9 | 0.665 | 12.2 | 28.86025 | 4.153195 | 24826068 | 11.85 | 29.9 | 196500 |\n",
       "| Egypt | 2011 | Developing | 70.5 | 168 | 53395 | 0.19 | 96 |   26 | 57.8 | ⋯ | 2.9 | 2.9 | 0.671 | 12.4 | 29.18993 | 4.357069 | 25123908 | 11.85 | 29.2 | 201610 |\n",
       "| Egypt | 2012 | Developing | 70.7 | 165 | 53365 | 0.19 | 93 |  245 | 58.6 | ⋯ | 2.9 | 2.8 | 0.673 | 12.4 | 28.68950 | 4.710259 | 25462743 | 12.60 | 30.0 | 212410 |\n",
       "| Egypt | 2013 | Developing | 70.9 | 159 | 52987 | 0.19 | 97 |  405 | 59.4 | ⋯ | 2.9 | 2.8 | 0.681 | 12.8 | 32.20173 | 4.917309 | 25920034 | 13.15 | 28.8 | 210430 |\n",
       "| Egypt | 2014 | Developing | 71.1 | 161 | 52215 | 0.19 | 94 | 1314 |  6.2 | ⋯ | 2.8 | 2.8 | 0.686 | 13.1 | 32.92063 | 5.025188 | 26046764 | 13.10 | 29.2 | 216650 |\n",
       "| Egypt | 2015 | Developing | 71.3 | 159 | 51007 | 0.18 | 93 | 5432 | 61.1 | ⋯ | 2.8 | 2.8 | 0.688 | 13.1 | 30.23037 | 5.336573 | 26152806 | 13.05 | 30.4 | 225950 |\n",
       "| Egypt | 2016 | Developing | 71.4 | 159 | 49616 | 0.15 | 94 |  225 | 52.3 | ⋯ | 3.1 | 3.1 | 0.629 | 13.1 | 28.68950 | 5.363998 | 26687553 | 12.41 | 29.4 | 233960 |\n",
       "| Egypt | 2017 | Developing | 71.6 | 168 | 47930 | 0.13 | 95 |   24 | 54.2 | ⋯ | 3.0 | 3.0 | 0.651 | 12.4 | 32.92063 | 5.633056 | 25920034 | 12.41 | 28.1 | 238690 |\n",
       "| Egypt | 2018 | Developing | 71.8 | 159 | 46141 | 0.14 | 95 |   48 | 51.2 | ⋯ | 3.1 | 2.8 | 0.671 | 12.4 | 26.89038 | 4.947577 | 26152806 | 12.60 | 28.3 | 246260 |\n",
       "| Egypt | 2019 | Developing | 71.9 | 161 | 44335 | 0.19 | 93 |   16 | 57.8 | ⋯ | 3.1 | 2.8 | 0.688 | 12.4 | 28.86025 | 4.739974 | 25123908 | 13.15 | 28.0 | 182230 |\n",
       "| Egypt | 2020 | Developing | 72.1 | 165 | 42651 | 0.21 | 94 |  953 | 51.8 | ⋯ | 2.9 | 3.0 | 0.673 | 11.9 | 29.33523 | 5.025188 | 24826068 | 13.10 | 28.8 | 201610 |\n",
       "\n"
      ],
      "text/plain": [
       "   country year status     life_expectancy adult_mortality infant_deaths\n",
       "1  Egypt   2000 Developing 68.8            171             65760        \n",
       "2  Egypt   2001 Developing 68.6            177             62607        \n",
       "3  Egypt   2002 Developing 68.7            177             59911        \n",
       "4  Egypt   2003 Developing 68.6            178             57601        \n",
       "5  Egypt   2004 Developing 69.0            176             55698        \n",
       "6  Egypt   2005 Developing 69.4            174             54251        \n",
       "7  Egypt   2006 Developing 69.5            175             53314        \n",
       "8  Egypt   2007 Developing 69.7            171             52791        \n",
       "9  Egypt   2008 Developing 69.8            172             52693        \n",
       "10 Egypt   2009 Developing 69.9            174             52878        \n",
       "11 Egypt   2010 Developing 70.0            173             53175        \n",
       "12 Egypt   2011 Developing 70.5            168             53395        \n",
       "13 Egypt   2012 Developing 70.7            165             53365        \n",
       "14 Egypt   2013 Developing 70.9            159             52987        \n",
       "15 Egypt   2014 Developing 71.1            161             52215        \n",
       "16 Egypt   2015 Developing 71.3            159             51007        \n",
       "17 Egypt   2016 Developing 71.4            159             49616        \n",
       "18 Egypt   2017 Developing 71.6            168             47930        \n",
       "19 Egypt   2018 Developing 71.8            159             46141        \n",
       "20 Egypt   2019 Developing 71.9            161             44335        \n",
       "21 Egypt   2020 Developing 72.1            165             42651        \n",
       "   alcohol hepatitis_b measles bmi  ⋯ thinness_1_19_years thinness_5_9_years\n",
       "1  0.14    98          2633     5.7 ⋯ 3.6                 3.5               \n",
       "2  0.13    99          2150    51.2 ⋯ 3.5                 3.4               \n",
       "3  0.14    97           653    51.8 ⋯ 3.4                 3.4               \n",
       "4  0.14    98           164    52.3 ⋯ 3.3                 3.3               \n",
       "5  0.14    97            80    52.9 ⋯ 3.3                 3.2               \n",
       "6  0.15    98            77    53.5 ⋯ 3.2                 3.2               \n",
       "7  0.17    98           953    54.2 ⋯ 3.2                 3.1               \n",
       "8  0.19    98          1684    54.8 ⋯ 3.1                 3.1               \n",
       "9  0.21    97           668    55.5 ⋯ 3.1                 3.0               \n",
       "10 0.19    97           608    56.2 ⋯ 3.0                 3.0               \n",
       "11 0.21    97            16    57.0 ⋯ 3.0                 2.9               \n",
       "12 0.19    96            26    57.8 ⋯ 2.9                 2.9               \n",
       "13 0.19    93           245    58.6 ⋯ 2.9                 2.8               \n",
       "14 0.19    97           405    59.4 ⋯ 2.9                 2.8               \n",
       "15 0.19    94          1314     6.2 ⋯ 2.8                 2.8               \n",
       "16 0.18    93          5432    61.1 ⋯ 2.8                 2.8               \n",
       "17 0.15    94           225    52.3 ⋯ 3.1                 3.1               \n",
       "18 0.13    95            24    54.2 ⋯ 3.0                 3.0               \n",
       "19 0.14    95            48    51.2 ⋯ 3.1                 2.8               \n",
       "20 0.19    93            16    57.8 ⋯ 3.1                 2.8               \n",
       "21 0.21    94           953    51.8 ⋯ 2.9                 3.0               \n",
       "   income_composition_of_resources schooling expense_percent_of_gdp\n",
       "1  0.606                           11.0      29.33523              \n",
       "2  0.612                           11.1      30.07713              \n",
       "3  0.617                           11.2      27.24835              \n",
       "4  0.621                           11.3      27.33246              \n",
       "5  0.623                           11.2      26.89038              \n",
       "6  0.629                           11.4      27.38886              \n",
       "7  0.636                           11.5      32.76367              \n",
       "8  0.644                           11.7      29.33523              \n",
       "9  0.651                           11.9      30.31820              \n",
       "10 0.659                           12.0      30.07713              \n",
       "11 0.665                           12.2      28.86025              \n",
       "12 0.671                           12.4      29.18993              \n",
       "13 0.673                           12.4      28.68950              \n",
       "14 0.681                           12.8      32.20173              \n",
       "15 0.686                           13.1      32.92063              \n",
       "16 0.688                           13.1      30.23037              \n",
       "17 0.629                           13.1      28.68950              \n",
       "18 0.651                           12.4      32.92063              \n",
       "19 0.671                           12.4      26.89038              \n",
       "20 0.688                           12.4      28.86025              \n",
       "21 0.673                           11.9      29.33523              \n",
       "   current_health_expenditure_percent_of_gdp total_employment_total_ages_15\n",
       "1  4.922443                                  18613019                      \n",
       "2  5.400303                                  18895076                      \n",
       "3  5.510738                                  19083903                      \n",
       "4  5.224253                                  19643592                      \n",
       "5  4.857324                                  20590059                      \n",
       "6  4.922292                                  21157055                      \n",
       "7  4.841901                                  22034844                      \n",
       "8  4.444932                                  23510594                      \n",
       "9  4.466348                                  24297690                      \n",
       "10 4.378701                                  24849220                      \n",
       "11 4.153195                                  24826068                      \n",
       "12 4.357069                                  25123908                      \n",
       "13 4.710259                                  25462743                      \n",
       "14 4.917309                                  25920034                      \n",
       "15 5.025188                                  26046764                      \n",
       "16 5.336573                                  26152806                      \n",
       "17 5.363998                                  26687553                      \n",
       "18 5.633056                                  25920034                      \n",
       "19 4.947577                                  26152806                      \n",
       "20 4.739974                                  25123908                      \n",
       "21 5.025188                                  24826068                      \n",
       "   unemployment_total_percent_of_total_labor_force_modeled_ilo_estimate\n",
       "1   8.98                                                               \n",
       "2   9.26                                                               \n",
       "3  10.01                                                               \n",
       "4  11.01                                                               \n",
       "5  10.30                                                               \n",
       "6  11.20                                                               \n",
       "7  10.49                                                               \n",
       "8   8.80                                                               \n",
       "9   8.52                                                               \n",
       "10  9.09                                                               \n",
       "11 11.85                                                               \n",
       "12 11.85                                                               \n",
       "13 12.60                                                               \n",
       "14 13.15                                                               \n",
       "15 13.10                                                               \n",
       "16 13.05                                                               \n",
       "17 12.41                                                               \n",
       "18 12.41                                                               \n",
       "19 12.60                                                               \n",
       "20 13.15                                                               \n",
       "21 13.10                                                               \n",
       "   mortality_from_cvd_cancer_diabetes_or_crd_between_exact_ages_30_and_70_percent\n",
       "1  27.0                                                                          \n",
       "2  28.3                                                                          \n",
       "3  28.9                                                                          \n",
       "4  29.5                                                                          \n",
       "5  29.3                                                                          \n",
       "6  29.0                                                                          \n",
       "7  29.4                                                                          \n",
       "8  29.1                                                                          \n",
       "9  29.4                                                                          \n",
       "10 29.9                                                                          \n",
       "11 29.9                                                                          \n",
       "12 29.2                                                                          \n",
       "13 30.0                                                                          \n",
       "14 28.8                                                                          \n",
       "15 29.2                                                                          \n",
       "16 30.4                                                                          \n",
       "17 29.4                                                                          \n",
       "18 28.1                                                                          \n",
       "19 28.3                                                                          \n",
       "20 28.0                                                                          \n",
       "21 28.8                                                                          \n",
       "   co2_emissions_kt\n",
       "1  112860          \n",
       "2  125010          \n",
       "3  127740          \n",
       "4  131240          \n",
       "5  142690          \n",
       "6  160590          \n",
       "7  169130          \n",
       "8  182230          \n",
       "9  189120          \n",
       "10 195490          \n",
       "11 196500          \n",
       "12 201610          \n",
       "13 212410          \n",
       "14 210430          \n",
       "15 216650          \n",
       "16 225950          \n",
       "17 233960          \n",
       "18 238690          \n",
       "19 246260          \n",
       "20 182230          \n",
       "21 201610          "
      ]
     },
     "metadata": {},
     "output_type": "display_data"
    }
   ],
   "source": [
    "full_egypt = read.csv(\"/kaggle/input/egypt-life-expectancy-from-2000-2020/egypt.csv\")\n",
    "head(full_egypt)\n",
    "  clean_names(full_egypt)\n"
   ]
  },
  {
   "cell_type": "markdown",
   "id": "b813ec2c",
   "metadata": {
    "papermill": {
     "duration": 0.014141,
     "end_time": "2022-06-09T02:16:05.293597",
     "exception": false,
     "start_time": "2022-06-09T02:16:05.279456",
     "status": "completed"
    },
    "tags": []
   },
   "source": [
    "## create model"
   ]
  },
  {
   "cell_type": "code",
   "execution_count": 7,
   "id": "ee5cbc1d",
   "metadata": {
    "collapsed": true,
    "execution": {
     "iopub.execute_input": "2022-06-09T02:16:05.326592Z",
     "iopub.status.busy": "2022-06-09T02:16:05.324754Z",
     "iopub.status.idle": "2022-06-09T02:16:05.397372Z",
     "shell.execute_reply": "2022-06-09T02:16:05.395576Z"
    },
    "jupyter": {
     "outputs_hidden": true
    },
    "papermill": {
     "duration": 0.091697,
     "end_time": "2022-06-09T02:16:05.399905",
     "exception": false,
     "start_time": "2022-06-09T02:16:05.308208",
     "status": "completed"
    },
    "tags": []
   },
   "outputs": [
    {
     "data": {
      "text/html": [
       "<style>\n",
       ".list-inline {list-style: none; margin:0; padding: 0}\n",
       ".list-inline>li {display: inline-block}\n",
       ".list-inline>li:not(:last-child)::after {content: \"\\00b7\"; padding: 0 .5ex}\n",
       "</style>\n",
       "<ol class=list-inline><li>'country'</li><li>'year'</li><li>'status'</li><li>'life_expectancy'</li><li>'adult_mortality'</li><li>'infant_deaths'</li><li>'alcohol'</li><li>'hepatitis_b'</li><li>'measles'</li><li>'bmi'</li><li>'under_five_deaths'</li><li>'total_expenditure'</li><li>'diphtheria'</li><li>'gdp_growth_annual_percent'</li><li>'gdp_current_us'</li><li>'population_growth_annual_percent'</li><li>'population_density_people_per_sq_km_of_land_area'</li><li>'thinness_1_19_years'</li><li>'thinness_5_9_years'</li><li>'income_composition_of_resources'</li><li>'schooling'</li><li>'expense_percent_of_gdp'</li><li>'current_health_expenditure_percent_of_gdp'</li><li>'total_employment_total_ages_15'</li><li>'unemployment_total_percent_of_total_labor_force_modeled_ilo_estimate'</li><li>'mortality_from_cvd_cancer_diabetes_or_crd_between_exact_ages_30_and_70_percent'</li><li>'co2_emissions_kt'</li></ol>\n"
      ],
      "text/latex": [
       "\\begin{enumerate*}\n",
       "\\item 'country'\n",
       "\\item 'year'\n",
       "\\item 'status'\n",
       "\\item 'life\\_expectancy'\n",
       "\\item 'adult\\_mortality'\n",
       "\\item 'infant\\_deaths'\n",
       "\\item 'alcohol'\n",
       "\\item 'hepatitis\\_b'\n",
       "\\item 'measles'\n",
       "\\item 'bmi'\n",
       "\\item 'under\\_five\\_deaths'\n",
       "\\item 'total\\_expenditure'\n",
       "\\item 'diphtheria'\n",
       "\\item 'gdp\\_growth\\_annual\\_percent'\n",
       "\\item 'gdp\\_current\\_us'\n",
       "\\item 'population\\_growth\\_annual\\_percent'\n",
       "\\item 'population\\_density\\_people\\_per\\_sq\\_km\\_of\\_land\\_area'\n",
       "\\item 'thinness\\_1\\_19\\_years'\n",
       "\\item 'thinness\\_5\\_9\\_years'\n",
       "\\item 'income\\_composition\\_of\\_resources'\n",
       "\\item 'schooling'\n",
       "\\item 'expense\\_percent\\_of\\_gdp'\n",
       "\\item 'current\\_health\\_expenditure\\_percent\\_of\\_gdp'\n",
       "\\item 'total\\_employment\\_total\\_ages\\_15'\n",
       "\\item 'unemployment\\_total\\_percent\\_of\\_total\\_labor\\_force\\_modeled\\_ilo\\_estimate'\n",
       "\\item 'mortality\\_from\\_cvd\\_cancer\\_diabetes\\_or\\_crd\\_between\\_exact\\_ages\\_30\\_and\\_70\\_percent'\n",
       "\\item 'co2\\_emissions\\_kt'\n",
       "\\end{enumerate*}\n"
      ],
      "text/markdown": [
       "1. 'country'\n",
       "2. 'year'\n",
       "3. 'status'\n",
       "4. 'life_expectancy'\n",
       "5. 'adult_mortality'\n",
       "6. 'infant_deaths'\n",
       "7. 'alcohol'\n",
       "8. 'hepatitis_b'\n",
       "9. 'measles'\n",
       "10. 'bmi'\n",
       "11. 'under_five_deaths'\n",
       "12. 'total_expenditure'\n",
       "13. 'diphtheria'\n",
       "14. 'gdp_growth_annual_percent'\n",
       "15. 'gdp_current_us'\n",
       "16. 'population_growth_annual_percent'\n",
       "17. 'population_density_people_per_sq_km_of_land_area'\n",
       "18. 'thinness_1_19_years'\n",
       "19. 'thinness_5_9_years'\n",
       "20. 'income_composition_of_resources'\n",
       "21. 'schooling'\n",
       "22. 'expense_percent_of_gdp'\n",
       "23. 'current_health_expenditure_percent_of_gdp'\n",
       "24. 'total_employment_total_ages_15'\n",
       "25. 'unemployment_total_percent_of_total_labor_force_modeled_ilo_estimate'\n",
       "26. 'mortality_from_cvd_cancer_diabetes_or_crd_between_exact_ages_30_and_70_percent'\n",
       "27. 'co2_emissions_kt'\n",
       "\n",
       "\n"
      ],
      "text/plain": [
       " [1] \"country\"                                                                       \n",
       " [2] \"year\"                                                                          \n",
       " [3] \"status\"                                                                        \n",
       " [4] \"life_expectancy\"                                                               \n",
       " [5] \"adult_mortality\"                                                               \n",
       " [6] \"infant_deaths\"                                                                 \n",
       " [7] \"alcohol\"                                                                       \n",
       " [8] \"hepatitis_b\"                                                                   \n",
       " [9] \"measles\"                                                                       \n",
       "[10] \"bmi\"                                                                           \n",
       "[11] \"under_five_deaths\"                                                             \n",
       "[12] \"total_expenditure\"                                                             \n",
       "[13] \"diphtheria\"                                                                    \n",
       "[14] \"gdp_growth_annual_percent\"                                                     \n",
       "[15] \"gdp_current_us\"                                                                \n",
       "[16] \"population_growth_annual_percent\"                                              \n",
       "[17] \"population_density_people_per_sq_km_of_land_area\"                              \n",
       "[18] \"thinness_1_19_years\"                                                           \n",
       "[19] \"thinness_5_9_years\"                                                            \n",
       "[20] \"income_composition_of_resources\"                                               \n",
       "[21] \"schooling\"                                                                     \n",
       "[22] \"expense_percent_of_gdp\"                                                        \n",
       "[23] \"current_health_expenditure_percent_of_gdp\"                                     \n",
       "[24] \"total_employment_total_ages_15\"                                                \n",
       "[25] \"unemployment_total_percent_of_total_labor_force_modeled_ilo_estimate\"          \n",
       "[26] \"mortality_from_cvd_cancer_diabetes_or_crd_between_exact_ages_30_and_70_percent\"\n",
       "[27] \"co2_emissions_kt\"                                                              "
      ]
     },
     "metadata": {},
     "output_type": "display_data"
    },
    {
     "data": {
      "text/plain": [
       "\n",
       "Call:\n",
       "lm(formula = life_expectancy ~ alcohol + adult_mortality + bmi + \n",
       "    gdp_growth_annual_percent + population_growth_annual_percent + \n",
       "    population_density_people_per_sq_km_of_land_area + schooling + \n",
       "    current_health_expenditure_percent_of_gdp + co2_emissions_kt + \n",
       "    unemployment_total_percent_of_total_labor_force_modeled_ilo_estimate + \n",
       "    total_employment_total_ages_15 + hepatitis_b + income_composition_of_resources, \n",
       "    data = full_egypt)\n",
       "\n",
       "Residuals:\n",
       "      Min        1Q    Median        3Q       Max \n",
       "-0.177434 -0.045400 -0.003665  0.039382  0.179376 \n",
       "\n",
       "Coefficients:\n",
       "                                                                       Estimate\n",
       "(Intercept)                                                           6.961e+01\n",
       "alcohol                                                               1.021e+00\n",
       "adult_mortality                                                      -2.782e-02\n",
       "bmi                                                                  -2.452e-03\n",
       "gdp_growth_annual_percent                                             1.397e-02\n",
       "population_growth_annual_percent                                      3.945e-01\n",
       "population_density_people_per_sq_km_of_land_area                      7.830e-02\n",
       "schooling                                                            -4.574e-01\n",
       "current_health_expenditure_percent_of_gdp                             1.244e-01\n",
       "co2_emissions_kt                                                      6.612e-07\n",
       "unemployment_total_percent_of_total_labor_force_modeled_ilo_estimate  1.474e-02\n",
       "total_employment_total_ages_15                                        1.321e-07\n",
       "hepatitis_b                                                          -1.145e-02\n",
       "income_composition_of_resources                                       6.318e-01\n",
       "                                                                     Std. Error\n",
       "(Intercept)                                                           6.414e+00\n",
       "alcohol                                                               2.721e+00\n",
       "adult_mortality                                                       1.526e-02\n",
       "bmi                                                                   2.931e-03\n",
       "gdp_growth_annual_percent                                             3.685e-02\n",
       "population_growth_annual_percent                                      7.384e-01\n",
       "population_density_people_per_sq_km_of_land_area                      1.945e-02\n",
       "schooling                                                             3.438e-01\n",
       "current_health_expenditure_percent_of_gdp                             2.286e-01\n",
       "co2_emissions_kt                                                      6.385e-06\n",
       "unemployment_total_percent_of_total_labor_force_modeled_ilo_estimate  6.097e-02\n",
       "total_employment_total_ages_15                                        1.903e-07\n",
       "hepatitis_b                                                           3.417e-02\n",
       "income_composition_of_resources                                       3.295e+00\n",
       "                                                                     t value\n",
       "(Intercept)                                                           10.854\n",
       "alcohol                                                                0.375\n",
       "adult_mortality                                                       -1.823\n",
       "bmi                                                                   -0.837\n",
       "gdp_growth_annual_percent                                              0.379\n",
       "population_growth_annual_percent                                       0.534\n",
       "population_density_people_per_sq_km_of_land_area                       4.026\n",
       "schooling                                                             -1.330\n",
       "current_health_expenditure_percent_of_gdp                              0.544\n",
       "co2_emissions_kt                                                       0.104\n",
       "unemployment_total_percent_of_total_labor_force_modeled_ilo_estimate   0.242\n",
       "total_employment_total_ages_15                                         0.694\n",
       "hepatitis_b                                                           -0.335\n",
       "income_composition_of_resources                                        0.192\n",
       "                                                                     Pr(>|t|)\n",
       "(Intercept)                                                          1.24e-05\n",
       "alcohol                                                               0.71861\n",
       "adult_mortality                                                       0.11113\n",
       "bmi                                                                   0.43047\n",
       "gdp_growth_annual_percent                                             0.71581\n",
       "population_growth_annual_percent                                      0.60973\n",
       "population_density_people_per_sq_km_of_land_area                      0.00502\n",
       "schooling                                                             0.22511\n",
       "current_health_expenditure_percent_of_gdp                             0.60332\n",
       "co2_emissions_kt                                                      0.92043\n",
       "unemployment_total_percent_of_total_labor_force_modeled_ilo_estimate  0.81591\n",
       "total_employment_total_ages_15                                        0.50999\n",
       "hepatitis_b                                                           0.74751\n",
       "income_composition_of_resources                                       0.85339\n",
       "                                                                        \n",
       "(Intercept)                                                          ***\n",
       "alcohol                                                                 \n",
       "adult_mortality                                                         \n",
       "bmi                                                                     \n",
       "gdp_growth_annual_percent                                               \n",
       "population_growth_annual_percent                                        \n",
       "population_density_people_per_sq_km_of_land_area                     ** \n",
       "schooling                                                               \n",
       "current_health_expenditure_percent_of_gdp                               \n",
       "co2_emissions_kt                                                        \n",
       "unemployment_total_percent_of_total_labor_force_modeled_ilo_estimate    \n",
       "total_employment_total_ages_15                                          \n",
       "hepatitis_b                                                             \n",
       "income_composition_of_resources                                         \n",
       "---\n",
       "Signif. codes:  0 ‘***’ 0.001 ‘**’ 0.01 ‘*’ 0.05 ‘.’ 0.1 ‘ ’ 1\n",
       "\n",
       "Residual standard error: 0.1373 on 7 degrees of freedom\n",
       "Multiple R-squared:  0.9952,\tAdjusted R-squared:  0.9864 \n",
       "F-statistic: 112.4 on 13 and 7 DF,  p-value: 7.945e-07\n"
      ]
     },
     "metadata": {},
     "output_type": "display_data"
    }
   ],
   "source": [
    "full_egypt<-full_egypt %>% \n",
    "  clean_names()\n",
    "colnames(full_egypt)\n",
    "model<-lm(life_expectancy~alcohol+adult_mortality+bmi+gdp_growth_annual_percent+population_growth_annual_percent\n",
    "          +population_density_people_per_sq_km_of_land_area+schooling+current_health_expenditure_percent_of_gdp\n",
    "          +co2_emissions_kt+unemployment_total_percent_of_total_labor_force_modeled_ilo_estimate+total_employment_total_ages_15+hepatitis_b+income_composition_of_resources\n",
    "            ,data = full_egypt )\n",
    "summary(model)\n"
   ]
  },
  {
   "cell_type": "markdown",
   "id": "a91f9450",
   "metadata": {
    "papermill": {
     "duration": 0.014994,
     "end_time": "2022-06-09T02:16:05.430014",
     "exception": false,
     "start_time": "2022-06-09T02:16:05.415020",
     "status": "completed"
    },
    "tags": []
   },
   "source": [
    "## select the most factor that affect on life_expectancy with AIC method"
   ]
  },
  {
   "cell_type": "code",
   "execution_count": 8,
   "id": "6e11981a",
   "metadata": {
    "execution": {
     "iopub.execute_input": "2022-06-09T02:16:05.463898Z",
     "iopub.status.busy": "2022-06-09T02:16:05.461858Z",
     "iopub.status.idle": "2022-06-09T02:16:05.559863Z",
     "shell.execute_reply": "2022-06-09T02:16:05.557538Z"
    },
    "papermill": {
     "duration": 0.11768,
     "end_time": "2022-06-09T02:16:05.562522",
     "exception": false,
     "start_time": "2022-06-09T02:16:05.444842",
     "status": "completed"
    },
    "tags": []
   },
   "outputs": [
    {
     "name": "stdout",
     "output_type": "stream",
     "text": [
      "Start:  AIC=-78.45\n",
      "life_expectancy ~ alcohol + adult_mortality + bmi + gdp_growth_annual_percent + \n",
      "    population_growth_annual_percent + population_density_people_per_sq_km_of_land_area + \n",
      "    schooling + current_health_expenditure_percent_of_gdp + co2_emissions_kt + \n",
      "    unemployment_total_percent_of_total_labor_force_modeled_ilo_estimate + \n",
      "    total_employment_total_ages_15 + hepatitis_b + income_composition_of_resources\n",
      "\n",
      "                                                                       Df\n",
      "- co2_emissions_kt                                                      1\n",
      "- income_composition_of_resources                                       1\n",
      "- unemployment_total_percent_of_total_labor_force_modeled_ilo_estimate  1\n",
      "- hepatitis_b                                                           1\n",
      "- alcohol                                                               1\n",
      "- gdp_growth_annual_percent                                             1\n",
      "- population_growth_annual_percent                                      1\n",
      "- current_health_expenditure_percent_of_gdp                             1\n",
      "- total_employment_total_ages_15                                        1\n",
      "<none>                                                                   \n",
      "- bmi                                                                   1\n",
      "- schooling                                                             1\n",
      "- adult_mortality                                                       1\n",
      "- population_density_people_per_sq_km_of_land_area                      1\n",
      "                                                                       Sum of Sq\n",
      "- co2_emissions_kt                                                      0.000202\n",
      "- income_composition_of_resources                                       0.000693\n",
      "- unemployment_total_percent_of_total_labor_force_modeled_ilo_estimate  0.001102\n",
      "- hepatitis_b                                                           0.002115\n",
      "- alcohol                                                               0.002655\n",
      "- gdp_growth_annual_percent                                             0.002711\n",
      "- population_growth_annual_percent                                      0.005383\n",
      "- current_health_expenditure_percent_of_gdp                             0.005582\n",
      "- total_employment_total_ages_15                                        0.009087\n",
      "<none>                                                                          \n",
      "- bmi                                                                   0.013199\n",
      "- schooling                                                             0.033381\n",
      "- adult_mortality                                                       0.062658\n",
      "- population_density_people_per_sq_km_of_land_area                      0.305647\n",
      "                                                                           RSS\n",
      "- co2_emissions_kt                                                     0.13223\n",
      "- income_composition_of_resources                                      0.13272\n",
      "- unemployment_total_percent_of_total_labor_force_modeled_ilo_estimate 0.13313\n",
      "- hepatitis_b                                                          0.13414\n",
      "- alcohol                                                              0.13468\n",
      "- gdp_growth_annual_percent                                            0.13474\n",
      "- population_growth_annual_percent                                     0.13741\n",
      "- current_health_expenditure_percent_of_gdp                            0.13761\n",
      "- total_employment_total_ages_15                                       0.14111\n",
      "<none>                                                                 0.13203\n",
      "- bmi                                                                  0.14523\n",
      "- schooling                                                            0.16541\n",
      "- adult_mortality                                                      0.19468\n",
      "- population_density_people_per_sq_km_of_land_area                     0.43767\n",
      "                                                                           AIC\n",
      "- co2_emissions_kt                                                     -80.423\n",
      "- income_composition_of_resources                                      -80.345\n",
      "- unemployment_total_percent_of_total_labor_force_modeled_ilo_estimate -80.280\n",
      "- hepatitis_b                                                          -80.121\n",
      "- alcohol                                                              -80.037\n",
      "- gdp_growth_annual_percent                                            -80.028\n",
      "- population_growth_annual_percent                                     -79.616\n",
      "- current_health_expenditure_percent_of_gdp                            -79.585\n",
      "- total_employment_total_ages_15                                       -79.057\n",
      "<none>                                                                 -78.455\n",
      "- bmi                                                                  -78.454\n",
      "- schooling                                                            -75.721\n",
      "- adult_mortality                                                      -72.299\n",
      "- population_density_people_per_sq_km_of_land_area                     -55.287\n",
      "\n",
      "Step:  AIC=-80.42\n",
      "life_expectancy ~ alcohol + adult_mortality + bmi + gdp_growth_annual_percent + \n",
      "    population_growth_annual_percent + population_density_people_per_sq_km_of_land_area + \n",
      "    schooling + current_health_expenditure_percent_of_gdp + unemployment_total_percent_of_total_labor_force_modeled_ilo_estimate + \n",
      "    total_employment_total_ages_15 + hepatitis_b + income_composition_of_resources\n",
      "\n",
      "                                                                       Df\n",
      "- income_composition_of_resources                                       1\n",
      "- unemployment_total_percent_of_total_labor_force_modeled_ilo_estimate  1\n",
      "- hepatitis_b                                                           1\n",
      "- alcohol                                                               1\n",
      "- gdp_growth_annual_percent                                             1\n",
      "- population_growth_annual_percent                                      1\n",
      "- current_health_expenditure_percent_of_gdp                             1\n",
      "<none>                                                                   \n",
      "- bmi                                                                   1\n",
      "- schooling                                                             1\n",
      "- adult_mortality                                                       1\n",
      "- total_employment_total_ages_15                                        1\n",
      "- population_density_people_per_sq_km_of_land_area                      1\n",
      "                                                                       Sum of Sq\n",
      "- income_composition_of_resources                                        0.00082\n",
      "- unemployment_total_percent_of_total_labor_force_modeled_ilo_estimate   0.00202\n",
      "- hepatitis_b                                                            0.00207\n",
      "- alcohol                                                                0.00272\n",
      "- gdp_growth_annual_percent                                              0.00275\n",
      "- population_growth_annual_percent                                       0.00518\n",
      "- current_health_expenditure_percent_of_gdp                              0.01194\n",
      "<none>                                                                          \n",
      "- bmi                                                                    0.01583\n",
      "- schooling                                                              0.06202\n",
      "- adult_mortality                                                        0.06652\n",
      "- total_employment_total_ages_15                                         0.06994\n",
      "- population_density_people_per_sq_km_of_land_area                       0.43675\n",
      "                                                                           RSS\n",
      "- income_composition_of_resources                                      0.13305\n",
      "- unemployment_total_percent_of_total_labor_force_modeled_ilo_estimate 0.13425\n",
      "- hepatitis_b                                                          0.13430\n",
      "- alcohol                                                              0.13495\n",
      "- gdp_growth_annual_percent                                            0.13498\n",
      "- population_growth_annual_percent                                     0.13741\n",
      "- current_health_expenditure_percent_of_gdp                            0.14417\n",
      "<none>                                                                 0.13223\n",
      "- bmi                                                                  0.14806\n",
      "- schooling                                                            0.19425\n",
      "- adult_mortality                                                      0.19875\n",
      "- total_employment_total_ages_15                                       0.20217\n",
      "- population_density_people_per_sq_km_of_land_area                     0.56898\n",
      "                                                                           AIC\n",
      "- income_composition_of_resources                                      -82.292\n",
      "- unemployment_total_percent_of_total_labor_force_modeled_ilo_estimate -82.104\n",
      "- hepatitis_b                                                          -82.096\n",
      "- alcohol                                                              -81.995\n",
      "- gdp_growth_annual_percent                                            -81.990\n",
      "- population_growth_annual_percent                                     -81.615\n",
      "- current_health_expenditure_percent_of_gdp                            -80.607\n",
      "<none>                                                                 -80.423\n",
      "- bmi                                                                  -80.048\n",
      "- schooling                                                            -74.346\n",
      "- adult_mortality                                                      -73.865\n",
      "- total_employment_total_ages_15                                       -73.507\n",
      "- population_density_people_per_sq_km_of_land_area                     -51.777\n",
      "\n",
      "Step:  AIC=-82.29\n",
      "life_expectancy ~ alcohol + adult_mortality + bmi + gdp_growth_annual_percent + \n",
      "    population_growth_annual_percent + population_density_people_per_sq_km_of_land_area + \n",
      "    schooling + current_health_expenditure_percent_of_gdp + unemployment_total_percent_of_total_labor_force_modeled_ilo_estimate + \n",
      "    total_employment_total_ages_15 + hepatitis_b\n",
      "\n",
      "                                                                       Df\n",
      "- hepatitis_b                                                           1\n",
      "- unemployment_total_percent_of_total_labor_force_modeled_ilo_estimate  1\n",
      "- gdp_growth_annual_percent                                             1\n",
      "- alcohol                                                               1\n",
      "- population_growth_annual_percent                                      1\n",
      "- current_health_expenditure_percent_of_gdp                             1\n",
      "<none>                                                                   \n",
      "- bmi                                                                   1\n",
      "- schooling                                                             1\n",
      "- adult_mortality                                                       1\n",
      "- total_employment_total_ages_15                                        1\n",
      "- population_density_people_per_sq_km_of_land_area                      1\n",
      "                                                                       Sum of Sq\n",
      "- hepatitis_b                                                            0.00215\n",
      "- unemployment_total_percent_of_total_labor_force_modeled_ilo_estimate   0.00249\n",
      "- gdp_growth_annual_percent                                              0.00276\n",
      "- alcohol                                                                0.00575\n",
      "- population_growth_annual_percent                                       0.00605\n",
      "- current_health_expenditure_percent_of_gdp                              0.01114\n",
      "<none>                                                                          \n",
      "- bmi                                                                    0.01521\n",
      "- schooling                                                              0.06154\n",
      "- adult_mortality                                                        0.06652\n",
      "- total_employment_total_ages_15                                         0.06966\n",
      "- population_density_people_per_sq_km_of_land_area                       0.45958\n",
      "                                                                           RSS\n",
      "- hepatitis_b                                                          0.13520\n",
      "- unemployment_total_percent_of_total_labor_force_modeled_ilo_estimate 0.13555\n",
      "- gdp_growth_annual_percent                                            0.13581\n",
      "- alcohol                                                              0.13881\n",
      "- population_growth_annual_percent                                     0.13910\n",
      "- current_health_expenditure_percent_of_gdp                            0.14419\n",
      "<none>                                                                 0.13305\n",
      "- bmi                                                                  0.14827\n",
      "- schooling                                                            0.19459\n",
      "- adult_mortality                                                      0.19957\n",
      "- total_employment_total_ages_15                                       0.20271\n",
      "- population_density_people_per_sq_km_of_land_area                     0.59263\n",
      "                                                                           AIC\n",
      "- hepatitis_b                                                          -83.956\n",
      "- unemployment_total_percent_of_total_labor_force_modeled_ilo_estimate -83.902\n",
      "- gdp_growth_annual_percent                                            -83.862\n",
      "- alcohol                                                              -83.403\n",
      "- population_growth_annual_percent                                     -83.359\n",
      "- current_health_expenditure_percent_of_gdp                            -82.604\n",
      "<none>                                                                 -82.292\n",
      "- bmi                                                                  -82.019\n",
      "- schooling                                                            -76.309\n",
      "- adult_mortality                                                      -75.779\n",
      "- total_employment_total_ages_15                                       -75.451\n",
      "- population_density_people_per_sq_km_of_land_area                     -52.922\n",
      "\n",
      "Step:  AIC=-83.96\n",
      "life_expectancy ~ alcohol + adult_mortality + bmi + gdp_growth_annual_percent + \n",
      "    population_growth_annual_percent + population_density_people_per_sq_km_of_land_area + \n",
      "    schooling + current_health_expenditure_percent_of_gdp + unemployment_total_percent_of_total_labor_force_modeled_ilo_estimate + \n",
      "    total_employment_total_ages_15\n",
      "\n",
      "                                                                       Df\n",
      "- unemployment_total_percent_of_total_labor_force_modeled_ilo_estimate  1\n",
      "- gdp_growth_annual_percent                                             1\n",
      "- alcohol                                                               1\n",
      "- population_growth_annual_percent                                      1\n",
      "- current_health_expenditure_percent_of_gdp                             1\n",
      "<none>                                                                   \n",
      "- bmi                                                                   1\n",
      "- schooling                                                             1\n",
      "- adult_mortality                                                       1\n",
      "- total_employment_total_ages_15                                        1\n",
      "- population_density_people_per_sq_km_of_land_area                      1\n",
      "                                                                       Sum of Sq\n",
      "- unemployment_total_percent_of_total_labor_force_modeled_ilo_estimate   0.00207\n",
      "- gdp_growth_annual_percent                                              0.00289\n",
      "- alcohol                                                                0.00704\n",
      "- population_growth_annual_percent                                       0.00765\n",
      "- current_health_expenditure_percent_of_gdp                              0.01092\n",
      "<none>                                                                          \n",
      "- bmi                                                                    0.01482\n",
      "- schooling                                                              0.05940\n",
      "- adult_mortality                                                        0.06501\n",
      "- total_employment_total_ages_15                                         0.06781\n",
      "- population_density_people_per_sq_km_of_land_area                       0.59446\n",
      "                                                                           RSS\n",
      "- unemployment_total_percent_of_total_labor_force_modeled_ilo_estimate 0.13727\n",
      "- gdp_growth_annual_percent                                            0.13809\n",
      "- alcohol                                                              0.14224\n",
      "- population_growth_annual_percent                                     0.14285\n",
      "- current_health_expenditure_percent_of_gdp                            0.14612\n",
      "<none>                                                                 0.13520\n",
      "- bmi                                                                  0.15002\n",
      "- schooling                                                            0.19460\n",
      "- adult_mortality                                                      0.20021\n",
      "- total_employment_total_ages_15                                       0.20301\n",
      "- population_density_people_per_sq_km_of_land_area                     0.72966\n",
      "                                                                           AIC\n",
      "- unemployment_total_percent_of_total_labor_force_modeled_ilo_estimate -85.637\n",
      "- gdp_growth_annual_percent                                            -85.512\n",
      "- alcohol                                                              -84.890\n",
      "- population_growth_annual_percent                                     -84.801\n",
      "- current_health_expenditure_percent_of_gdp                            -84.325\n",
      "<none>                                                                 -83.956\n",
      "- bmi                                                                  -83.771\n",
      "- schooling                                                            -78.308\n",
      "- adult_mortality                                                      -77.712\n",
      "- total_employment_total_ages_15                                       -77.419\n",
      "- population_density_people_per_sq_km_of_land_area                     -50.554\n",
      "\n",
      "Step:  AIC=-85.64\n",
      "life_expectancy ~ alcohol + adult_mortality + bmi + gdp_growth_annual_percent + \n",
      "    population_growth_annual_percent + population_density_people_per_sq_km_of_land_area + \n",
      "    schooling + current_health_expenditure_percent_of_gdp + total_employment_total_ages_15\n",
      "\n",
      "                                                   Df Sum of Sq     RSS     AIC\n",
      "- gdp_growth_annual_percent                         1   0.00236 0.13962 -87.280\n",
      "- alcohol                                           1   0.00639 0.14366 -86.682\n",
      "- current_health_expenditure_percent_of_gdp         1   0.00894 0.14621 -86.312\n",
      "- population_growth_annual_percent                  1   0.01213 0.14940 -85.859\n",
      "- bmi                                               1   0.01287 0.15014 -85.755\n",
      "<none>                                                          0.13727 -85.637\n",
      "- schooling                                         1   0.06011 0.19738 -80.010\n",
      "- adult_mortality                                   1   0.06301 0.20028 -79.704\n",
      "- total_employment_total_ages_15                    1   0.07853 0.21580 -78.137\n",
      "- population_density_people_per_sq_km_of_land_area  1   1.35837 1.49564 -37.481\n",
      "\n",
      "Step:  AIC=-87.28\n",
      "life_expectancy ~ alcohol + adult_mortality + bmi + population_growth_annual_percent + \n",
      "    population_density_people_per_sq_km_of_land_area + schooling + \n",
      "    current_health_expenditure_percent_of_gdp + total_employment_total_ages_15\n",
      "\n",
      "                                                   Df Sum of Sq     RSS     AIC\n",
      "- alcohol                                           1   0.00536 0.14499 -88.488\n",
      "- current_health_expenditure_percent_of_gdp         1   0.00893 0.14856 -87.977\n",
      "- population_growth_annual_percent                  1   0.01373 0.15335 -87.310\n",
      "<none>                                                          0.13962 -87.280\n",
      "- bmi                                               1   0.02151 0.16113 -86.271\n",
      "- schooling                                         1   0.05929 0.19892 -81.847\n",
      "- total_employment_total_ages_15                    1   0.09128 0.23090 -78.716\n",
      "- adult_mortality                                   1   0.10123 0.24085 -77.830\n",
      "- population_density_people_per_sq_km_of_land_area  1   1.49351 1.63314 -37.634\n",
      "\n",
      "Step:  AIC=-88.49\n",
      "life_expectancy ~ adult_mortality + bmi + population_growth_annual_percent + \n",
      "    population_density_people_per_sq_km_of_land_area + schooling + \n",
      "    current_health_expenditure_percent_of_gdp + total_employment_total_ages_15\n",
      "\n",
      "                                                   Df Sum of Sq     RSS     AIC\n",
      "- current_health_expenditure_percent_of_gdp         1   0.00374 0.14873 -89.953\n",
      "- population_growth_annual_percent                  1   0.01236 0.15735 -88.770\n",
      "<none>                                                          0.14499 -88.488\n",
      "- bmi                                               1   0.02116 0.16615 -87.627\n",
      "- schooling                                         1   0.05395 0.19894 -83.845\n",
      "- total_employment_total_ages_15                    1   0.08635 0.23134 -80.677\n",
      "- adult_mortality                                   1   0.09641 0.24140 -79.782\n",
      "- population_density_people_per_sq_km_of_land_area  1   1.66678 1.81177 -37.455\n",
      "\n",
      "Step:  AIC=-89.95\n",
      "life_expectancy ~ adult_mortality + bmi + population_growth_annual_percent + \n",
      "    population_density_people_per_sq_km_of_land_area + schooling + \n",
      "    total_employment_total_ages_15\n",
      "\n",
      "                                                   Df Sum of Sq     RSS     AIC\n",
      "- population_growth_annual_percent                  1   0.01429 0.16302 -90.027\n",
      "<none>                                                          0.14873 -89.953\n",
      "- bmi                                               1   0.01890 0.16763 -89.441\n",
      "- schooling                                         1   0.05254 0.20127 -85.601\n",
      "- adult_mortality                                   1   0.09269 0.24142 -81.781\n",
      "- total_employment_total_ages_15                    1   0.12342 0.27215 -79.264\n",
      "- population_density_people_per_sq_km_of_land_area  1   2.76323 2.91196 -29.490\n",
      "\n",
      "Step:  AIC=-90.03\n",
      "life_expectancy ~ adult_mortality + bmi + population_density_people_per_sq_km_of_land_area + \n",
      "    schooling + total_employment_total_ages_15\n",
      "\n",
      "                                                   Df Sum of Sq     RSS     AIC\n",
      "<none>                                                          0.16302 -90.027\n",
      "- bmi                                               1   0.02198 0.18500 -89.370\n",
      "- schooling                                         1   0.03946 0.20248 -87.474\n",
      "- total_employment_total_ages_15                    1   0.11030 0.27332 -81.175\n",
      "- adult_mortality                                   1   0.11269 0.27571 -80.992\n",
      "- population_density_people_per_sq_km_of_land_area  1   2.75443 2.91745 -31.450\n"
     ]
    },
    {
     "data": {
      "text/plain": [
       "\n",
       "Call:\n",
       "lm(formula = life_expectancy ~ adult_mortality + bmi + population_density_people_per_sq_km_of_land_area + \n",
       "    schooling + total_employment_total_ages_15, data = full_egypt)\n",
       "\n",
       "Coefficients:\n",
       "                                     (Intercept)  \n",
       "                                       6.858e+01  \n",
       "                                 adult_mortality  \n",
       "                                      -2.933e-02  \n",
       "                                             bmi  \n",
       "                                      -2.555e-03  \n",
       "population_density_people_per_sq_km_of_land_area  \n",
       "                                       8.584e-02  \n",
       "                                       schooling  \n",
       "                                      -2.279e-01  \n",
       "                  total_employment_total_ages_15  \n",
       "                                       9.474e-08  \n"
      ]
     },
     "metadata": {},
     "output_type": "display_data"
    }
   ],
   "source": [
    "step(model,direction = \"backward\")\n"
   ]
  },
  {
   "cell_type": "markdown",
   "id": "96557e77",
   "metadata": {
    "papermill": {
     "duration": 0.016155,
     "end_time": "2022-06-09T02:16:05.594596",
     "exception": false,
     "start_time": "2022-06-09T02:16:05.578441",
     "status": "completed"
    },
    "tags": []
   },
   "source": [
    "## so in this model we find the most factor that directly affect on life expectancy :  \n",
    "1- adult_mortality \n",
    "2- bmi\n",
    "3-population_density_people_per_sq_km_of_land_area \n",
    "4-schooling\n",
    "5-total_employment_total_ages_15"
   ]
  },
  {
   "cell_type": "markdown",
   "id": "c6d1062d",
   "metadata": {
    "papermill": {
     "duration": 0.01573,
     "end_time": "2022-06-09T02:16:05.626484",
     "exception": false,
     "start_time": "2022-06-09T02:16:05.610754",
     "status": "completed"
    },
    "tags": []
   },
   "source": [
    "## and now we move to the indirect factor that affect the life_expectancy"
   ]
  },
  {
   "cell_type": "markdown",
   "id": "8a4ab741",
   "metadata": {
    "papermill": {
     "duration": 0.015897,
     "end_time": "2022-06-09T02:16:05.658168",
     "exception": false,
     "start_time": "2022-06-09T02:16:05.642271",
     "status": "completed"
    },
    "tags": []
   },
   "source": [
    " ### 1-population and gdp "
   ]
  },
  {
   "cell_type": "code",
   "execution_count": 9,
   "id": "803f5b22",
   "metadata": {
    "collapsed": true,
    "execution": {
     "iopub.execute_input": "2022-06-09T02:16:05.693845Z",
     "iopub.status.busy": "2022-06-09T02:16:05.692102Z",
     "iopub.status.idle": "2022-06-09T02:16:06.145094Z",
     "shell.execute_reply": "2022-06-09T02:16:06.143032Z"
    },
    "jupyter": {
     "outputs_hidden": true
    },
    "papermill": {
     "duration": 0.473604,
     "end_time": "2022-06-09T02:16:06.147510",
     "exception": false,
     "start_time": "2022-06-09T02:16:05.673906",
     "status": "completed"
    },
    "tags": []
   },
   "outputs": [
    {
     "data": {
      "text/plain": [
       "\n",
       "Call:\n",
       "lm(formula = gdp_growth_annual_percent ~ population_growth_annual_percent)\n",
       "\n",
       "Residuals:\n",
       "    Min      1Q  Median      3Q     Max \n",
       "-2.5240 -1.1068  0.1475  1.2622  1.7337 \n",
       "\n",
       "Coefficients:\n",
       "                                 Estimate Std. Error t value Pr(>|t|)    \n",
       "(Intercept)                        15.600      3.585   4.351 0.000344 ***\n",
       "population_growth_annual_percent   -5.680      1.804  -3.148 0.005294 ** \n",
       "---\n",
       "Signif. codes:  0 ‘***’ 0.001 ‘**’ 0.01 ‘*’ 0.05 ‘.’ 0.1 ‘ ’ 1\n",
       "\n",
       "Residual standard error: 1.358 on 19 degrees of freedom\n",
       "Multiple R-squared:  0.3428,\tAdjusted R-squared:  0.3082 \n",
       "F-statistic: 9.911 on 1 and 19 DF,  p-value: 0.005294\n"
      ]
     },
     "metadata": {},
     "output_type": "display_data"
    },
    {
     "name": "stderr",
     "output_type": "stream",
     "text": [
      "`geom_smooth()` using formula 'y ~ x'\n",
      "\n"
     ]
    },
    {
     "data": {
      "image/png": "[encoded data removed]"
     },
     "metadata": {
      "image/png": {
       "height": 420,
       "width": 420
      }
     },
     "output_type": "display_data"
    }
   ],
   "source": [
    "attach(full_egypt)\n",
    "\n",
    "model_2<-lm(gdp_growth_annual_percent~population_growth_annual_percent)\n",
    "summary(model_2)\n",
    "full_egypt %>% \n",
    "  ggplot(mapping = aes(x=population_growth_annual_percent,y=gdp_growth_annual_percent))+\n",
    "  geom_point()+\n",
    "  geom_smooth(method = \"lm\")\n"
   ]
  },
  {
   "cell_type": "markdown",
   "id": "1c5be678",
   "metadata": {
    "papermill": {
     "duration": 0.01719,
     "end_time": "2022-06-09T02:16:06.182072",
     "exception": false,
     "start_time": "2022-06-09T02:16:06.164882",
     "status": "completed"
    },
    "tags": []
   },
   "source": [
    "so in this figure we saw a negative correlation between population and gdp \n",
    "each unit increase in population decrease the gdp by 5.7 which lead to decrease the life_expectancy \n"
   ]
  },
  {
   "cell_type": "markdown",
   "id": "38bcb810",
   "metadata": {
    "papermill": {
     "duration": 0.016839,
     "end_time": "2022-06-09T02:16:06.215962",
     "exception": false,
     "start_time": "2022-06-09T02:16:06.199123",
     "status": "completed"
    },
    "tags": []
   },
   "source": [
    "## 2- unemployment and gdp growth"
   ]
  },
  {
   "cell_type": "code",
   "execution_count": 10,
   "id": "dab37c41",
   "metadata": {
    "collapsed": true,
    "execution": {
     "iopub.execute_input": "2022-06-09T02:16:06.253177Z",
     "iopub.status.busy": "2022-06-09T02:16:06.251421Z",
     "iopub.status.idle": "2022-06-09T02:16:06.599154Z",
     "shell.execute_reply": "2022-06-09T02:16:06.597090Z"
    },
    "jupyter": {
     "outputs_hidden": true
    },
    "papermill": {
     "duration": 0.369039,
     "end_time": "2022-06-09T02:16:06.601728",
     "exception": false,
     "start_time": "2022-06-09T02:16:06.232689",
     "status": "completed"
    },
    "tags": []
   },
   "outputs": [
    {
     "data": {
      "text/html": [
       "<pre class=language-r><code>new(\"standardGeneric\", .Data = function (object, ...) \n",
       "standardGeneric(\"summary\"), generic = structure(\"summary\", package = \"base\"), \n",
       "<span style=white-space:pre-wrap>    package = \"base\", group = list(), valueClass = character(0), </span>\n",
       "<span style=white-space:pre-wrap>    signature = \"object\", default = new(\"derivedDefaultMethod\", </span>\n",
       "<span style=white-space:pre-wrap>        .Data = function (object, ...) </span>\n",
       "<span style=white-space:pre-wrap>        UseMethod(\"summary\"), target = new(\"signature\", .Data = \"ANY\", </span>\n",
       "<span style=white-space:pre-wrap>            names = \"object\", package = \"methods\"), defined = new(\"signature\", </span>\n",
       "<span style=white-space:pre-wrap>            .Data = \"ANY\", names = \"object\", package = \"methods\"), </span>\n",
       "<span style=white-space:pre-wrap>        generic = structure(\"summary\", package = \"base\")), skeleton = (new(\"derivedDefaultMethod\", </span>\n",
       "<span style=white-space:pre-wrap>        .Data = function (object, ...) </span>\n",
       "<span style=white-space:pre-wrap>        UseMethod(\"summary\"), target = new(\"signature\", .Data = \"ANY\", </span>\n",
       "<span style=white-space:pre-wrap>            names = \"object\", package = \"methods\"), defined = new(\"signature\", </span>\n",
       "<span style=white-space:pre-wrap>            .Data = \"ANY\", names = \"object\", package = \"methods\"), </span>\n",
       "<span style=white-space:pre-wrap>        generic = structure(\"summary\", package = \"base\")))(object, </span>\n",
       "<span style=white-space:pre-wrap>        ...))</span></code></pre>"
      ],
      "text/latex": [
       "\\begin{minted}{r}\n",
       "new(\"standardGeneric\", .Data = function (object, ...) \n",
       "standardGeneric(\"summary\"), generic = structure(\"summary\", package = \"base\"), \n",
       "    package = \"base\", group = list(), valueClass = character(0), \n",
       "    signature = \"object\", default = new(\"derivedDefaultMethod\", \n",
       "        .Data = function (object, ...) \n",
       "        UseMethod(\"summary\"), target = new(\"signature\", .Data = \"ANY\", \n",
       "            names = \"object\", package = \"methods\"), defined = new(\"signature\", \n",
       "            .Data = \"ANY\", names = \"object\", package = \"methods\"), \n",
       "        generic = structure(\"summary\", package = \"base\")), skeleton = (new(\"derivedDefaultMethod\", \n",
       "        .Data = function (object, ...) \n",
       "        UseMethod(\"summary\"), target = new(\"signature\", .Data = \"ANY\", \n",
       "            names = \"object\", package = \"methods\"), defined = new(\"signature\", \n",
       "            .Data = \"ANY\", names = \"object\", package = \"methods\"), \n",
       "        generic = structure(\"summary\", package = \"base\")))(object, \n",
       "        ...))\n",
       "\\end{minted}"
      ],
      "text/markdown": [
       "```r\n",
       "new(\"standardGeneric\", .Data = function (object, ...) \n",
       "standardGeneric(\"summary\"), generic = structure(\"summary\", package = \"base\"), \n",
       "    package = \"base\", group = list(), valueClass = character(0), \n",
       "    signature = \"object\", default = new(\"derivedDefaultMethod\", \n",
       "        .Data = function (object, ...) \n",
       "        UseMethod(\"summary\"), target = new(\"signature\", .Data = \"ANY\", \n",
       "            names = \"object\", package = \"methods\"), defined = new(\"signature\", \n",
       "            .Data = \"ANY\", names = \"object\", package = \"methods\"), \n",
       "        generic = structure(\"summary\", package = \"base\")), skeleton = (new(\"derivedDefaultMethod\", \n",
       "        .Data = function (object, ...) \n",
       "        UseMethod(\"summary\"), target = new(\"signature\", .Data = \"ANY\", \n",
       "            names = \"object\", package = \"methods\"), defined = new(\"signature\", \n",
       "            .Data = \"ANY\", names = \"object\", package = \"methods\"), \n",
       "        generic = structure(\"summary\", package = \"base\")))(object, \n",
       "        ...))\n",
       "```"
      ],
      "text/plain": [
       "new(\"standardGeneric\", .Data = function (object, ...) \n",
       "standardGeneric(\"summary\"), generic = \"summary\", package = \"base\", \n",
       "    group = list(), valueClass = character(0), signature = \"object\", \n",
       "    default = new(\"derivedDefaultMethod\", .Data = function (object, \n",
       "        ...) \n",
       "    UseMethod(\"summary\"), target = new(\"signature\", .Data = \"ANY\", \n",
       "        names = \"object\", package = \"methods\"), defined = new(\"signature\", \n",
       "        .Data = \"ANY\", names = \"object\", package = \"methods\"), \n",
       "        generic = \"summary\"), skeleton = (new(\"derivedDefaultMethod\", \n",
       "        .Data = function (object, ...) \n",
       "        UseMethod(\"summary\"), target = new(\"signature\", .Data = \"ANY\", \n",
       "            names = \"object\", package = \"methods\"), defined = new(\"signature\", \n",
       "            .Data = \"ANY\", names = \"object\", package = \"methods\"), \n",
       "        generic = \"summary\"))(object, ...))\n",
       "<environment: 0x558b9586d6a0>\n",
       "attr(,\"generic\")\n",
       "[1] \"summary\"\n",
       "attr(,\"generic\")attr(,\"package\")\n",
       "[1] \"base\"\n",
       "attr(,\"package\")\n",
       "[1] \"base\"\n",
       "attr(,\"group\")\n",
       "list()\n",
       "attr(,\"valueClass\")\n",
       "character(0)\n",
       "attr(,\"signature\")\n",
       "[1] \"object\"\n",
       "attr(,\"default\")\n",
       "Method Definition (Class \"derivedDefaultMethod\"):\n",
       "\n",
       "function (object, ...) \n",
       "UseMethod(\"summary\")\n",
       "<bytecode: 0x558b953943f0>\n",
       "<environment: namespace:base>\n",
       "\n",
       "Signatures:\n",
       "        object\n",
       "target  \"ANY\" \n",
       "defined \"ANY\" \n",
       "attr(,\"skeleton\")\n",
       "(new(\"derivedDefaultMethod\", .Data = function (object, ...) \n",
       "UseMethod(\"summary\"), target = new(\"signature\", .Data = \"ANY\", \n",
       "    names = \"object\", package = \"methods\"), defined = new(\"signature\", \n",
       "    .Data = \"ANY\", names = \"object\", package = \"methods\"), generic = \"summary\"))(object, \n",
       "    ...)\n",
       "attr(,\"class\")\n",
       "[1] \"standardGeneric\"\n",
       "attr(,\"class\")attr(,\"package\")\n",
       "[1] \"methods\""
      ]
     },
     "metadata": {},
     "output_type": "display_data"
    },
    {
     "name": "stderr",
     "output_type": "stream",
     "text": [
      "`geom_smooth()` using formula 'y ~ x'\n",
      "\n"
     ]
    },
    {
     "data": {
      "image/png": "[encoded data removed]"
     },
     "metadata": {
      "image/png": {
       "height": 420,
       "width": 420
      }
     },
     "output_type": "display_data"
    }
   ],
   "source": [
    "model_3<-lm(gdp_growth_annual_percent~unemployment_total_percent_of_total_labor_force_modeled_ilo_estimate)\n",
    "summary\n",
    "full_egypt %>% \n",
    "  ggplot(mapping = aes(x=unemployment_total_percent_of_total_labor_force_modeled_ilo_estimate,y=gdp_growth_annual_percent))+\n",
    "  geom_point()+\n",
    "  geom_smooth(method = \"lm\")\n"
   ]
  },
  {
   "cell_type": "markdown",
   "id": "b900a232",
   "metadata": {
    "papermill": {
     "duration": 0.019126,
     "end_time": "2022-06-09T02:16:06.641173",
     "exception": false,
     "start_time": "2022-06-09T02:16:06.622047",
     "status": "completed"
    },
    "tags": []
   },
   "source": [
    "## 3- adult mortality and hepatitis_b"
   ]
  },
  {
   "cell_type": "code",
   "execution_count": 11,
   "id": "0ed73b5f",
   "metadata": {
    "execution": {
     "iopub.execute_input": "2022-06-09T02:16:06.681995Z",
     "iopub.status.busy": "2022-06-09T02:16:06.680205Z",
     "iopub.status.idle": "2022-06-09T02:16:06.939108Z",
     "shell.execute_reply": "2022-06-09T02:16:06.937059Z"
    },
    "papermill": {
     "duration": 0.281991,
     "end_time": "2022-06-09T02:16:06.941739",
     "exception": false,
     "start_time": "2022-06-09T02:16:06.659748",
     "status": "completed"
    },
    "tags": []
   },
   "outputs": [
    {
     "data": {
      "text/plain": [
       "\n",
       "Call:\n",
       "lm(formula = adult_mortality ~ hepatitis_b)\n",
       "\n",
       "Residuals:\n",
       "     Min       1Q   Median       3Q      Max \n",
       "-12.1809  -1.8442   0.8191   2.3769   5.8191 \n",
       "\n",
       "Coefficients:\n",
       "            Estimate Std. Error t value Pr(>|t|)    \n",
       "(Intercept) -98.3719    47.4629  -2.073   0.0521 .  \n",
       "hepatitis_b   2.7789     0.4938   5.627    2e-05 ***\n",
       "---\n",
       "Signif. codes:  0 ‘***’ 0.001 ‘**’ 0.01 ‘*’ 0.05 ‘.’ 0.1 ‘ ’ 1\n",
       "\n",
       "Residual standard error: 4.3 on 19 degrees of freedom\n",
       "Multiple R-squared:  0.625,\tAdjusted R-squared:  0.6053 \n",
       "F-statistic: 31.67 on 1 and 19 DF,  p-value: 1.997e-05\n"
      ]
     },
     "metadata": {},
     "output_type": "display_data"
    },
    {
     "name": "stderr",
     "output_type": "stream",
     "text": [
      "`geom_smooth()` using formula 'y ~ x'\n",
      "\n"
     ]
    },
    {
     "data": {
      "image/png": "[encoded data removed]"
     },
     "metadata": {
      "image/png": {
       "height": 420,
       "width": 420
      }
     },
     "output_type": "display_data"
    }
   ],
   "source": [
    "model_4<-lm(adult_mortality~hepatitis_b)\n",
    "summary(model_4)\n",
    "full_egypt %>% \n",
    "  ggplot(mapping = aes(x=hepatitis_b,y=adult_mortality))+\n",
    "  geom_point()+\n",
    "  geom_smooth(method = \"lm\")\n"
   ]
  },
  {
   "cell_type": "markdown",
   "id": "6e918c88",
   "metadata": {
    "papermill": {
     "duration": 0.020102,
     "end_time": "2022-06-09T02:16:06.982137",
     "exception": false,
     "start_time": "2022-06-09T02:16:06.962035",
     "status": "completed"
    },
    "tags": []
   },
   "source": []
  },
  {
   "cell_type": "markdown",
   "id": "f8013129",
   "metadata": {
    "papermill": {
     "duration": 0.021319,
     "end_time": "2022-06-09T02:16:07.023895",
     "exception": false,
     "start_time": "2022-06-09T02:16:07.002576",
     "status": "completed"
    },
    "tags": []
   },
   "source": [
    "## 4-co2 emissions and population density\n"
   ]
  },
  {
   "cell_type": "code",
   "execution_count": 12,
   "id": "638ae12f",
   "metadata": {
    "execution": {
     "iopub.execute_input": "2022-06-09T02:16:07.067019Z",
     "iopub.status.busy": "2022-06-09T02:16:07.065353Z",
     "iopub.status.idle": "2022-06-09T02:16:07.308417Z",
     "shell.execute_reply": "2022-06-09T02:16:07.305687Z"
    },
    "papermill": {
     "duration": 0.267589,
     "end_time": "2022-06-09T02:16:07.311481",
     "exception": false,
     "start_time": "2022-06-09T02:16:07.043892",
     "status": "completed"
    },
    "tags": []
   },
   "outputs": [
    {
     "data": {
      "text/plain": [
       "\n",
       "Call:\n",
       "lm(formula = co2_emissions_kt ~ population_density_people_per_sq_km_of_land_area)\n",
       "\n",
       "Residuals:\n",
       "   Min     1Q Median     3Q    Max \n",
       "-55391 -16529  10890  14894  19170 \n",
       "\n",
       "Coefficients:\n",
       "                                                 Estimate Std. Error t value\n",
       "(Intercept)                                      -81392.3    40010.7  -2.034\n",
       "population_density_people_per_sq_km_of_land_area   3163.3      470.2   6.728\n",
       "                                                 Pr(>|t|)    \n",
       "(Intercept)                                        0.0561 .  \n",
       "population_density_people_per_sq_km_of_land_area 1.98e-06 ***\n",
       "---\n",
       "Signif. codes:  0 ‘***’ 0.001 ‘**’ 0.01 ‘*’ 0.05 ‘.’ 0.1 ‘ ’ 1\n",
       "\n",
       "Residual standard error: 22150 on 19 degrees of freedom\n",
       "Multiple R-squared:  0.7044,\tAdjusted R-squared:  0.6888 \n",
       "F-statistic: 45.27 on 1 and 19 DF,  p-value: 1.981e-06\n"
      ]
     },
     "metadata": {},
     "output_type": "display_data"
    },
    {
     "name": "stderr",
     "output_type": "stream",
     "text": [
      "`geom_smooth()` using formula 'y ~ x'\n",
      "\n"
     ]
    },
    {
     "data": {
      "image/png": "[encoded data removed]"
     },
     "metadata": {
      "image/png": {
       "height": 420,
       "width": 420
      }
     },
     "output_type": "display_data"
    }
   ],
   "source": [
    "model_5<-lm(co2_emissions_kt~population_density_people_per_sq_km_of_land_area)\n",
    "summary(model_5)\n",
    "full_egypt %>% \n",
    "  ggplot(mapping = aes(x=population_density_people_per_sq_km_of_land_area,y=co2_emissions_kt))+\n",
    "  geom_point()+\n",
    "  geom_smooth(method = \"lm\")\n"
   ]
  },
  {
   "cell_type": "markdown",
   "id": "56a906dc",
   "metadata": {
    "papermill": {
     "duration": 0.020951,
     "end_time": "2022-06-09T02:16:07.353270",
     "exception": false,
     "start_time": "2022-06-09T02:16:07.332319",
     "status": "completed"
    },
    "tags": []
   },
   "source": []
  },
  {
   "cell_type": "markdown",
   "id": "efd2af5e",
   "metadata": {
    "papermill": {
     "duration": 0.021842,
     "end_time": "2022-06-09T02:16:07.395494",
     "exception": false,
     "start_time": "2022-06-09T02:16:07.373652",
     "status": "completed"
    },
    "tags": []
   },
   "source": []
  },
  {
   "cell_type": "markdown",
   "id": "fd0d736f",
   "metadata": {
    "papermill": {
     "duration": 0.02077,
     "end_time": "2022-06-09T02:16:07.437081",
     "exception": false,
     "start_time": "2022-06-09T02:16:07.416311",
     "status": "completed"
    },
    "tags": []
   },
   "source": []
  },
  {
   "cell_type": "code",
   "execution_count": null,
   "id": "3a5394c2",
   "metadata": {
    "papermill": {
     "duration": 0.020764,
     "end_time": "2022-06-09T02:16:07.478285",
     "exception": false,
     "start_time": "2022-06-09T02:16:07.457521",
     "status": "completed"
    },
    "tags": []
   },
   "outputs": [],
   "source": []
  },
  {
   "cell_type": "markdown",
   "id": "1248f27f",
   "metadata": {
    "papermill": {
     "duration": 0.020982,
     "end_time": "2022-06-09T02:16:07.519613",
     "exception": false,
     "start_time": "2022-06-09T02:16:07.498631",
     "status": "completed"
    },
    "tags": []
   },
   "source": []
  },
  {
   "cell_type": "code",
   "execution_count": null,
   "id": "8b61275a",
   "metadata": {
    "papermill": {
     "duration": 0.020929,
     "end_time": "2022-06-09T02:16:07.561401",
     "exception": false,
     "start_time": "2022-06-09T02:16:07.540472",
     "status": "completed"
    },
    "tags": []
   },
   "outputs": [],
   "source": []
  },
  {
   "cell_type": "markdown",
   "id": "00026f57",
   "metadata": {
    "papermill": {
     "duration": 0.021379,
     "end_time": "2022-06-09T02:16:07.603926",
     "exception": false,
     "start_time": "2022-06-09T02:16:07.582547",
     "status": "completed"
    },
    "tags": []
   },
   "source": []
  }
 ],
 "metadata": {
  "kernelspec": {
   "display_name": "R",
   "language": "R",
   "name": "ir"
  },
  "language_info": {
   "codemirror_mode": "r",
   "file_extension": ".r",
   "mimetype": "text/x-r-source",
   "name": "R",
   "pygments_lexer": "r",
   "version": "4.0.5"
  },
  "papermill": {
   "default_parameters": {},
   "duration": 375.532643,
   "end_time": "2022-06-09T02:16:07.748519",
   "environment_variables": {},
   "exception": null,
   "input_path": "__notebook__.ipynb",
   "output_path": "__notebook__.ipynb",
   "parameters": {},
   "start_time": "2022-06-09T02:09:52.215876",
   "version": "2.3.4"
  }
 },
 "nbformat": 4,
 "nbformat_minor": 5
}
