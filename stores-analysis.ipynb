{
 "cells": [
  {
   "cell_type": "code",
   "execution_count": 1,
   "id": "7c153b11",
   "metadata": {
    "_execution_state": "idle",
    "_uuid": "051d70d956493feee0c6d64651c6a088724dca2a",
    "execution": {
     "iopub.execute_input": "2022-06-17T13:05:45.048171Z",
     "iopub.status.busy": "2022-06-17T13:05:45.046220Z",
     "iopub.status.idle": "2022-06-17T13:05:46.445928Z",
     "shell.execute_reply": "2022-06-17T13:05:46.443773Z"
    },
    "papermill": {
     "duration": 1.411296,
     "end_time": "2022-06-17T13:05:46.449003",
     "exception": false,
     "start_time": "2022-06-17T13:05:45.037707",
     "status": "completed"
    },
    "tags": []
   },
   "outputs": [
    {
     "name": "stderr",
     "output_type": "stream",
     "text": [
      "── \u001b[1mAttaching packages\u001b[22m ─────────────────────────────────────── tidyverse 1.3.1 ──\n",
      "\n",
      "\u001b[32m✔\u001b[39m \u001b[34mggplot2\u001b[39m 3.3.6     \u001b[32m✔\u001b[39m \u001b[34mpurrr  \u001b[39m 0.3.4\n",
      "\u001b[32m✔\u001b[39m \u001b[34mtibble \u001b[39m 3.1.7     \u001b[32m✔\u001b[39m \u001b[34mdplyr  \u001b[39m 1.0.9\n",
      "\u001b[32m✔\u001b[39m \u001b[34mtidyr  \u001b[39m 1.2.0     \u001b[32m✔\u001b[39m \u001b[34mstringr\u001b[39m 1.4.0\n",
      "\u001b[32m✔\u001b[39m \u001b[34mreadr  \u001b[39m 2.1.2     \u001b[32m✔\u001b[39m \u001b[34mforcats\u001b[39m 0.5.1\n",
      "\n",
      "── \u001b[1mConflicts\u001b[22m ────────────────────────────────────────── tidyverse_conflicts() ──\n",
      "\u001b[31m✖\u001b[39m \u001b[34mdplyr\u001b[39m::\u001b[32mfilter()\u001b[39m masks \u001b[34mstats\u001b[39m::filter()\n",
      "\u001b[31m✖\u001b[39m \u001b[34mdplyr\u001b[39m::\u001b[32mlag()\u001b[39m    masks \u001b[34mstats\u001b[39m::lag()\n",
      "\n"
     ]
    },
    {
     "data": {
      "text/html": [
       "'stores-area-and-sales-data'"
      ],
      "text/latex": [
       "'stores-area-and-sales-data'"
      ],
      "text/markdown": [
       "'stores-area-and-sales-data'"
      ],
      "text/plain": [
       "[1] \"stores-area-and-sales-data\""
      ]
     },
     "metadata": {},
     "output_type": "display_data"
    }
   ],
   "source": [
    "# This R environment comes with many helpful analytics packages installed\n",
    "# It is defined by the kaggle/rstats Docker image: https://github.com/kaggle/docker-rstats\n",
    "# For example, here's a helpful package to load\n",
    "\n",
    "library(tidyverse) # metapackage of all tidyverse packages\n",
    "\n",
    "# Input data files are available in the read-only \"../input/\" directory\n",
    "# For example, running this (by clicking run or pressing Shift+Enter) will list all files under the input directory\n",
    "\n",
    "list.files(path = \"../input\")\n",
    "\n",
    "# You can write up to 20GB to the current directory (/kaggle/working/) that gets preserved as output when you create a version using \"Save & Run All\" \n",
    "# You can also write temporary files to /kaggle/temp/, but they won't be saved outside of the current session"
   ]
  },
  {
   "cell_type": "markdown",
   "id": "3bdc3fb4",
   "metadata": {
    "papermill": {
     "duration": 0.006358,
     "end_time": "2022-06-17T13:05:46.463631",
     "exception": false,
     "start_time": "2022-06-17T13:05:46.457273",
     "status": "completed"
    },
    "tags": []
   },
   "source": [
    "### import packages"
   ]
  },
  {
   "cell_type": "code",
   "execution_count": 2,
   "id": "99fe924e",
   "metadata": {
    "execution": {
     "iopub.execute_input": "2022-06-17T13:05:46.510775Z",
     "iopub.status.busy": "2022-06-17T13:05:46.477160Z",
     "iopub.status.idle": "2022-06-17T13:06:05.099437Z",
     "shell.execute_reply": "2022-06-17T13:06:05.097364Z"
    },
    "papermill": {
     "duration": 18.634551,
     "end_time": "2022-06-17T13:06:05.103760",
     "exception": false,
     "start_time": "2022-06-17T13:05:46.469209",
     "status": "completed"
    },
    "tags": []
   },
   "outputs": [
    {
     "name": "stderr",
     "output_type": "stream",
     "text": [
      "Installing package into ‘/usr/local/lib/R/site-library’\n",
      "(as ‘lib’ is unspecified)\n",
      "\n",
      "\n",
      "Attaching package: ‘janitor’\n",
      "\n",
      "\n",
      "The following objects are masked from ‘package:stats’:\n",
      "\n",
      "    chisq.test, fisher.test\n",
      "\n",
      "\n",
      "Loading required package: BayesFactor\n",
      "\n",
      "Loading required package: coda\n",
      "\n",
      "Loading required package: Matrix\n",
      "\n",
      "\n",
      "Attaching package: ‘Matrix’\n",
      "\n",
      "\n",
      "The following objects are masked from ‘package:tidyr’:\n",
      "\n",
      "    expand, pack, unpack\n",
      "\n",
      "\n",
      "************\n",
      "Welcome to BayesFactor 0.9.12-4.3. If you have questions, please contact Richard Morey (richarddmorey@gmail.com).\n",
      "\n",
      "Type BFManual() to open the manual.\n",
      "************\n",
      "\n"
     ]
    }
   ],
   "source": [
    "library(tidyverse)\n",
    "library(dplyr)\n",
    "library(ggplot2)\n",
    "install.packages(\"janitor\")\n",
    "library(janitor)\n",
    "library(tidyr)\n",
    "library(statsr)\n"
   ]
  },
  {
   "cell_type": "markdown",
   "id": "55376314",
   "metadata": {
    "papermill": {
     "duration": 0.006613,
     "end_time": "2022-06-17T13:06:05.117340",
     "exception": false,
     "start_time": "2022-06-17T13:06:05.110727",
     "status": "completed"
    },
    "tags": []
   },
   "source": [
    "###  read dataset file"
   ]
  },
  {
   "cell_type": "code",
   "execution_count": 3,
   "id": "5ccd77fd",
   "metadata": {
    "execution": {
     "iopub.execute_input": "2022-06-17T13:06:05.134769Z",
     "iopub.status.busy": "2022-06-17T13:06:05.132312Z",
     "iopub.status.idle": "2022-06-17T13:06:05.444843Z",
     "shell.execute_reply": "2022-06-17T13:06:05.442844Z"
    },
    "papermill": {
     "duration": 0.323858,
     "end_time": "2022-06-17T13:06:05.447627",
     "exception": false,
     "start_time": "2022-06-17T13:06:05.123769",
     "status": "completed"
    },
    "tags": []
   },
   "outputs": [
    {
     "name": "stderr",
     "output_type": "stream",
     "text": [
      "\u001b[1mRows: \u001b[22m\u001b[34m896\u001b[39m \u001b[1mColumns: \u001b[22m\u001b[34m5\u001b[39m\n",
      "\u001b[36m──\u001b[39m \u001b[1mColumn specification\u001b[22m \u001b[36m────────────────────────────────────────────────────────\u001b[39m\n",
      "\u001b[1mDelimiter:\u001b[22m \",\"\n",
      "\u001b[32mdbl\u001b[39m (5): Store ID, Store_Area, Items_Available, Daily_Customer_Count, Store_...\n",
      "\n",
      "\u001b[36mℹ\u001b[39m Use `spec()` to retrieve the full column specification for this data.\n",
      "\u001b[36mℹ\u001b[39m Specify the column types or set `show_col_types = FALSE` to quiet this message.\n"
     ]
    },
    {
     "data": {
      "text/html": [
       "<table class=\"dataframe\">\n",
       "<caption>A tibble: 6 × 5</caption>\n",
       "<thead>\n",
       "\t<tr><th scope=col>Store ID</th><th scope=col>Store_Area</th><th scope=col>Items_Available</th><th scope=col>Daily_Customer_Count</th><th scope=col>Store_Sales</th></tr>\n",
       "\t<tr><th scope=col>&lt;dbl&gt;</th><th scope=col>&lt;dbl&gt;</th><th scope=col>&lt;dbl&gt;</th><th scope=col>&lt;dbl&gt;</th><th scope=col>&lt;dbl&gt;</th></tr>\n",
       "</thead>\n",
       "<tbody>\n",
       "\t<tr><td>1</td><td>1659</td><td>1961</td><td>530</td><td>66490</td></tr>\n",
       "\t<tr><td>2</td><td>1461</td><td>1752</td><td>210</td><td>39820</td></tr>\n",
       "\t<tr><td>3</td><td>1340</td><td>1609</td><td>720</td><td>54010</td></tr>\n",
       "\t<tr><td>4</td><td>1451</td><td>1748</td><td>620</td><td>53730</td></tr>\n",
       "\t<tr><td>5</td><td>1770</td><td>2111</td><td>450</td><td>46620</td></tr>\n",
       "\t<tr><td>6</td><td>1442</td><td>1733</td><td>760</td><td>45260</td></tr>\n",
       "</tbody>\n",
       "</table>\n"
      ],
      "text/latex": [
       "A tibble: 6 × 5\n",
       "\\begin{tabular}{lllll}\n",
       " Store ID & Store\\_Area & Items\\_Available & Daily\\_Customer\\_Count & Store\\_Sales\\\\\n",
       " <dbl> & <dbl> & <dbl> & <dbl> & <dbl>\\\\\n",
       "\\hline\n",
       "\t 1 & 1659 & 1961 & 530 & 66490\\\\\n",
       "\t 2 & 1461 & 1752 & 210 & 39820\\\\\n",
       "\t 3 & 1340 & 1609 & 720 & 54010\\\\\n",
       "\t 4 & 1451 & 1748 & 620 & 53730\\\\\n",
       "\t 5 & 1770 & 2111 & 450 & 46620\\\\\n",
       "\t 6 & 1442 & 1733 & 760 & 45260\\\\\n",
       "\\end{tabular}\n"
      ],
      "text/markdown": [
       "\n",
       "A tibble: 6 × 5\n",
       "\n",
       "| Store ID &lt;dbl&gt; | Store_Area &lt;dbl&gt; | Items_Available &lt;dbl&gt; | Daily_Customer_Count &lt;dbl&gt; | Store_Sales &lt;dbl&gt; |\n",
       "|---|---|---|---|---|\n",
       "| 1 | 1659 | 1961 | 530 | 66490 |\n",
       "| 2 | 1461 | 1752 | 210 | 39820 |\n",
       "| 3 | 1340 | 1609 | 720 | 54010 |\n",
       "| 4 | 1451 | 1748 | 620 | 53730 |\n",
       "| 5 | 1770 | 2111 | 450 | 46620 |\n",
       "| 6 | 1442 | 1733 | 760 | 45260 |\n",
       "\n"
      ],
      "text/plain": [
       "  Store ID Store_Area Items_Available Daily_Customer_Count Store_Sales\n",
       "1 1        1659       1961            530                  66490      \n",
       "2 2        1461       1752            210                  39820      \n",
       "3 3        1340       1609            720                  54010      \n",
       "4 4        1451       1748            620                  53730      \n",
       "5 5        1770       2111            450                  46620      \n",
       "6 6        1442       1733            760                  45260      "
      ]
     },
     "metadata": {},
     "output_type": "display_data"
    }
   ],
   "source": [
    "Stores = read_csv(\"/kaggle/input/stores-area-and-sales-data/Stores.csv\")\n",
    "head(Stores)"
   ]
  },
  {
   "cell_type": "markdown",
   "id": "e6b9a368",
   "metadata": {
    "papermill": {
     "duration": 0.007333,
     "end_time": "2022-06-17T13:06:05.462149",
     "exception": false,
     "start_time": "2022-06-17T13:06:05.454816",
     "status": "completed"
    },
    "tags": []
   },
   "source": []
  },
  {
   "cell_type": "markdown",
   "id": "d3b6d7c9",
   "metadata": {
    "papermill": {
     "duration": 0.007236,
     "end_time": "2022-06-17T13:06:05.476696",
     "exception": false,
     "start_time": "2022-06-17T13:06:05.469460",
     "status": "completed"
    },
    "tags": []
   },
   "source": [
    "### check there is a null or duplicated value in dataset"
   ]
  },
  {
   "cell_type": "code",
   "execution_count": 4,
   "id": "9de853b4",
   "metadata": {
    "execution": {
     "iopub.execute_input": "2022-06-17T13:06:05.494894Z",
     "iopub.status.busy": "2022-06-17T13:06:05.493012Z",
     "iopub.status.idle": "2022-06-17T13:06:05.590656Z",
     "shell.execute_reply": "2022-06-17T13:06:05.588485Z"
    },
    "papermill": {
     "duration": 0.109268,
     "end_time": "2022-06-17T13:06:05.593066",
     "exception": false,
     "start_time": "2022-06-17T13:06:05.483798",
     "status": "completed"
    },
    "tags": []
   },
   "outputs": [
    {
     "data": {
      "text/html": [
       "0"
      ],
      "text/latex": [
       "0"
      ],
      "text/markdown": [
       "0"
      ],
      "text/plain": [
       "[1] 0"
      ]
     },
     "metadata": {},
     "output_type": "display_data"
    },
    {
     "data": {
      "text/html": [
       "0"
      ],
      "text/latex": [
       "0"
      ],
      "text/markdown": [
       "0"
      ],
      "text/plain": [
       "[1] 0"
      ]
     },
     "metadata": {},
     "output_type": "display_data"
    }
   ],
   "source": [
    "Stores = clean_names(Stores)\n",
    "sum(is.na(Stores))\n",
    "sum(duplicated(Stores))\n"
   ]
  },
  {
   "cell_type": "markdown",
   "id": "4e84fd39",
   "metadata": {
    "papermill": {
     "duration": 0.00759,
     "end_time": "2022-06-17T13:06:05.608271",
     "exception": false,
     "start_time": "2022-06-17T13:06:05.600681",
     "status": "completed"
    },
    "tags": []
   },
   "source": []
  },
  {
   "cell_type": "markdown",
   "id": "1ab9b955",
   "metadata": {
    "papermill": {
     "duration": 0.00726,
     "end_time": "2022-06-17T13:06:05.622524",
     "exception": false,
     "start_time": "2022-06-17T13:06:05.615264",
     "status": "completed"
    },
    "tags": []
   },
   "source": []
  },
  {
   "cell_type": "markdown",
   "id": "0083349b",
   "metadata": {
    "papermill": {
     "duration": 0.007432,
     "end_time": "2022-06-17T13:06:05.637125",
     "exception": false,
     "start_time": "2022-06-17T13:06:05.629693",
     "status": "completed"
    },
    "tags": []
   },
   "source": [
    "### find is there a correlation between store area and store saLe"
   ]
  },
  {
   "cell_type": "code",
   "execution_count": 5,
   "id": "f7883599",
   "metadata": {
    "execution": {
     "iopub.execute_input": "2022-06-17T13:06:05.656878Z",
     "iopub.status.busy": "2022-06-17T13:06:05.654593Z",
     "iopub.status.idle": "2022-06-17T13:06:05.792315Z",
     "shell.execute_reply": "2022-06-17T13:06:05.790640Z"
    },
    "papermill": {
     "duration": 0.150188,
     "end_time": "2022-06-17T13:06:05.794604",
     "exception": false,
     "start_time": "2022-06-17T13:06:05.644416",
     "status": "completed"
    },
    "tags": []
   },
   "outputs": [
    {
     "data": {
      "text/html": [
       "<table class=\"dataframe\">\n",
       "<caption>A grouped_df: 896 × 3</caption>\n",
       "<thead>\n",
       "\t<tr><th scope=col>store_area</th><th scope=col>store_sales</th><th scope=col>n</th></tr>\n",
       "\t<tr><th scope=col>&lt;dbl&gt;</th><th scope=col>&lt;dbl&gt;</th><th scope=col>&lt;int&gt;</th></tr>\n",
       "</thead>\n",
       "<tbody>\n",
       "\t<tr><td>1989</td><td>116320</td><td>1</td></tr>\n",
       "\t<tr><td>1775</td><td>105150</td><td>1</td></tr>\n",
       "\t<tr><td>1365</td><td>102920</td><td>1</td></tr>\n",
       "\t<tr><td>1303</td><td>102310</td><td>1</td></tr>\n",
       "\t<tr><td>1486</td><td>101820</td><td>1</td></tr>\n",
       "\t<tr><td>1137</td><td>101780</td><td>1</td></tr>\n",
       "\t<tr><td>1565</td><td>100900</td><td>1</td></tr>\n",
       "\t<tr><td>1465</td><td> 99570</td><td>1</td></tr>\n",
       "\t<tr><td>1548</td><td> 99480</td><td>1</td></tr>\n",
       "\t<tr><td>1800</td><td> 98260</td><td>1</td></tr>\n",
       "\t<tr><td>1060</td><td> 97360</td><td>1</td></tr>\n",
       "\t<tr><td>1931</td><td> 97260</td><td>1</td></tr>\n",
       "\t<tr><td>1769</td><td> 96650</td><td>1</td></tr>\n",
       "\t<tr><td>1299</td><td> 96610</td><td>1</td></tr>\n",
       "\t<tr><td>1354</td><td> 95900</td><td>1</td></tr>\n",
       "\t<tr><td>1766</td><td> 94690</td><td>1</td></tr>\n",
       "\t<tr><td>1834</td><td> 94460</td><td>1</td></tr>\n",
       "\t<tr><td>1078</td><td> 94370</td><td>1</td></tr>\n",
       "\t<tr><td>1374</td><td> 94170</td><td>1</td></tr>\n",
       "\t<tr><td>1291</td><td> 93950</td><td>1</td></tr>\n",
       "\t<tr><td>1244</td><td> 93530</td><td>1</td></tr>\n",
       "\t<tr><td>1645</td><td> 93360</td><td>1</td></tr>\n",
       "\t<tr><td>1641</td><td> 93000</td><td>1</td></tr>\n",
       "\t<tr><td>1582</td><td> 92640</td><td>1</td></tr>\n",
       "\t<tr><td>1156</td><td> 92370</td><td>1</td></tr>\n",
       "\t<tr><td>1296</td><td> 92300</td><td>1</td></tr>\n",
       "\t<tr><td>1829</td><td> 92240</td><td>1</td></tr>\n",
       "\t<tr><td>1555</td><td> 91360</td><td>1</td></tr>\n",
       "\t<tr><td>1175</td><td> 91200</td><td>1</td></tr>\n",
       "\t<tr><td>1378</td><td> 90960</td><td>1</td></tr>\n",
       "\t<tr><td>⋮</td><td>⋮</td><td>⋮</td></tr>\n",
       "\t<tr><td>1979</td><td>30810</td><td>1</td></tr>\n",
       "\t<tr><td>1381</td><td>30790</td><td>1</td></tr>\n",
       "\t<tr><td>1709</td><td>30610</td><td>1</td></tr>\n",
       "\t<tr><td>1317</td><td>30020</td><td>1</td></tr>\n",
       "\t<tr><td> 946</td><td>29170</td><td>1</td></tr>\n",
       "\t<tr><td>1247</td><td>28330</td><td>1</td></tr>\n",
       "\t<tr><td>1323</td><td>27970</td><td>1</td></tr>\n",
       "\t<tr><td>1244</td><td>27840</td><td>1</td></tr>\n",
       "\t<tr><td>1546</td><td>27720</td><td>1</td></tr>\n",
       "\t<tr><td>1649</td><td>27410</td><td>1</td></tr>\n",
       "\t<tr><td>1015</td><td>27310</td><td>1</td></tr>\n",
       "\t<tr><td>1267</td><td>26770</td><td>1</td></tr>\n",
       "\t<tr><td>1189</td><td>26220</td><td>1</td></tr>\n",
       "\t<tr><td>1174</td><td>25950</td><td>1</td></tr>\n",
       "\t<tr><td>1475</td><td>25820</td><td>1</td></tr>\n",
       "\t<tr><td>1319</td><td>25630</td><td>1</td></tr>\n",
       "\t<tr><td> 780</td><td>25600</td><td>1</td></tr>\n",
       "\t<tr><td>1318</td><td>24410</td><td>1</td></tr>\n",
       "\t<tr><td>1573</td><td>23740</td><td>1</td></tr>\n",
       "\t<tr><td>1454</td><td>23090</td><td>1</td></tr>\n",
       "\t<tr><td>1461</td><td>22310</td><td>1</td></tr>\n",
       "\t<tr><td>1583</td><td>21830</td><td>1</td></tr>\n",
       "\t<tr><td>1572</td><td>21750</td><td>1</td></tr>\n",
       "\t<tr><td>1876</td><td>21650</td><td>1</td></tr>\n",
       "\t<tr><td>1445</td><td>21470</td><td>1</td></tr>\n",
       "\t<tr><td>1397</td><td>21300</td><td>1</td></tr>\n",
       "\t<tr><td>1624</td><td>20270</td><td>1</td></tr>\n",
       "\t<tr><td>1537</td><td>17670</td><td>1</td></tr>\n",
       "\t<tr><td>1477</td><td>16370</td><td>1</td></tr>\n",
       "\t<tr><td>1250</td><td>14920</td><td>1</td></tr>\n",
       "</tbody>\n",
       "</table>\n"
      ],
      "text/latex": [
       "A grouped\\_df: 896 × 3\n",
       "\\begin{tabular}{lll}\n",
       " store\\_area & store\\_sales & n\\\\\n",
       " <dbl> & <dbl> & <int>\\\\\n",
       "\\hline\n",
       "\t 1989 & 116320 & 1\\\\\n",
       "\t 1775 & 105150 & 1\\\\\n",
       "\t 1365 & 102920 & 1\\\\\n",
       "\t 1303 & 102310 & 1\\\\\n",
       "\t 1486 & 101820 & 1\\\\\n",
       "\t 1137 & 101780 & 1\\\\\n",
       "\t 1565 & 100900 & 1\\\\\n",
       "\t 1465 &  99570 & 1\\\\\n",
       "\t 1548 &  99480 & 1\\\\\n",
       "\t 1800 &  98260 & 1\\\\\n",
       "\t 1060 &  97360 & 1\\\\\n",
       "\t 1931 &  97260 & 1\\\\\n",
       "\t 1769 &  96650 & 1\\\\\n",
       "\t 1299 &  96610 & 1\\\\\n",
       "\t 1354 &  95900 & 1\\\\\n",
       "\t 1766 &  94690 & 1\\\\\n",
       "\t 1834 &  94460 & 1\\\\\n",
       "\t 1078 &  94370 & 1\\\\\n",
       "\t 1374 &  94170 & 1\\\\\n",
       "\t 1291 &  93950 & 1\\\\\n",
       "\t 1244 &  93530 & 1\\\\\n",
       "\t 1645 &  93360 & 1\\\\\n",
       "\t 1641 &  93000 & 1\\\\\n",
       "\t 1582 &  92640 & 1\\\\\n",
       "\t 1156 &  92370 & 1\\\\\n",
       "\t 1296 &  92300 & 1\\\\\n",
       "\t 1829 &  92240 & 1\\\\\n",
       "\t 1555 &  91360 & 1\\\\\n",
       "\t 1175 &  91200 & 1\\\\\n",
       "\t 1378 &  90960 & 1\\\\\n",
       "\t ⋮ & ⋮ & ⋮\\\\\n",
       "\t 1979 & 30810 & 1\\\\\n",
       "\t 1381 & 30790 & 1\\\\\n",
       "\t 1709 & 30610 & 1\\\\\n",
       "\t 1317 & 30020 & 1\\\\\n",
       "\t  946 & 29170 & 1\\\\\n",
       "\t 1247 & 28330 & 1\\\\\n",
       "\t 1323 & 27970 & 1\\\\\n",
       "\t 1244 & 27840 & 1\\\\\n",
       "\t 1546 & 27720 & 1\\\\\n",
       "\t 1649 & 27410 & 1\\\\\n",
       "\t 1015 & 27310 & 1\\\\\n",
       "\t 1267 & 26770 & 1\\\\\n",
       "\t 1189 & 26220 & 1\\\\\n",
       "\t 1174 & 25950 & 1\\\\\n",
       "\t 1475 & 25820 & 1\\\\\n",
       "\t 1319 & 25630 & 1\\\\\n",
       "\t  780 & 25600 & 1\\\\\n",
       "\t 1318 & 24410 & 1\\\\\n",
       "\t 1573 & 23740 & 1\\\\\n",
       "\t 1454 & 23090 & 1\\\\\n",
       "\t 1461 & 22310 & 1\\\\\n",
       "\t 1583 & 21830 & 1\\\\\n",
       "\t 1572 & 21750 & 1\\\\\n",
       "\t 1876 & 21650 & 1\\\\\n",
       "\t 1445 & 21470 & 1\\\\\n",
       "\t 1397 & 21300 & 1\\\\\n",
       "\t 1624 & 20270 & 1\\\\\n",
       "\t 1537 & 17670 & 1\\\\\n",
       "\t 1477 & 16370 & 1\\\\\n",
       "\t 1250 & 14920 & 1\\\\\n",
       "\\end{tabular}\n"
      ],
      "text/markdown": [
       "\n",
       "A grouped_df: 896 × 3\n",
       "\n",
       "| store_area &lt;dbl&gt; | store_sales &lt;dbl&gt; | n &lt;int&gt; |\n",
       "|---|---|---|\n",
       "| 1989 | 116320 | 1 |\n",
       "| 1775 | 105150 | 1 |\n",
       "| 1365 | 102920 | 1 |\n",
       "| 1303 | 102310 | 1 |\n",
       "| 1486 | 101820 | 1 |\n",
       "| 1137 | 101780 | 1 |\n",
       "| 1565 | 100900 | 1 |\n",
       "| 1465 |  99570 | 1 |\n",
       "| 1548 |  99480 | 1 |\n",
       "| 1800 |  98260 | 1 |\n",
       "| 1060 |  97360 | 1 |\n",
       "| 1931 |  97260 | 1 |\n",
       "| 1769 |  96650 | 1 |\n",
       "| 1299 |  96610 | 1 |\n",
       "| 1354 |  95900 | 1 |\n",
       "| 1766 |  94690 | 1 |\n",
       "| 1834 |  94460 | 1 |\n",
       "| 1078 |  94370 | 1 |\n",
       "| 1374 |  94170 | 1 |\n",
       "| 1291 |  93950 | 1 |\n",
       "| 1244 |  93530 | 1 |\n",
       "| 1645 |  93360 | 1 |\n",
       "| 1641 |  93000 | 1 |\n",
       "| 1582 |  92640 | 1 |\n",
       "| 1156 |  92370 | 1 |\n",
       "| 1296 |  92300 | 1 |\n",
       "| 1829 |  92240 | 1 |\n",
       "| 1555 |  91360 | 1 |\n",
       "| 1175 |  91200 | 1 |\n",
       "| 1378 |  90960 | 1 |\n",
       "| ⋮ | ⋮ | ⋮ |\n",
       "| 1979 | 30810 | 1 |\n",
       "| 1381 | 30790 | 1 |\n",
       "| 1709 | 30610 | 1 |\n",
       "| 1317 | 30020 | 1 |\n",
       "|  946 | 29170 | 1 |\n",
       "| 1247 | 28330 | 1 |\n",
       "| 1323 | 27970 | 1 |\n",
       "| 1244 | 27840 | 1 |\n",
       "| 1546 | 27720 | 1 |\n",
       "| 1649 | 27410 | 1 |\n",
       "| 1015 | 27310 | 1 |\n",
       "| 1267 | 26770 | 1 |\n",
       "| 1189 | 26220 | 1 |\n",
       "| 1174 | 25950 | 1 |\n",
       "| 1475 | 25820 | 1 |\n",
       "| 1319 | 25630 | 1 |\n",
       "|  780 | 25600 | 1 |\n",
       "| 1318 | 24410 | 1 |\n",
       "| 1573 | 23740 | 1 |\n",
       "| 1454 | 23090 | 1 |\n",
       "| 1461 | 22310 | 1 |\n",
       "| 1583 | 21830 | 1 |\n",
       "| 1572 | 21750 | 1 |\n",
       "| 1876 | 21650 | 1 |\n",
       "| 1445 | 21470 | 1 |\n",
       "| 1397 | 21300 | 1 |\n",
       "| 1624 | 20270 | 1 |\n",
       "| 1537 | 17670 | 1 |\n",
       "| 1477 | 16370 | 1 |\n",
       "| 1250 | 14920 | 1 |\n",
       "\n"
      ],
      "text/plain": [
       "    store_area store_sales n\n",
       "1   1989       116320      1\n",
       "2   1775       105150      1\n",
       "3   1365       102920      1\n",
       "4   1303       102310      1\n",
       "5   1486       101820      1\n",
       "6   1137       101780      1\n",
       "7   1565       100900      1\n",
       "8   1465        99570      1\n",
       "9   1548        99480      1\n",
       "10  1800        98260      1\n",
       "11  1060        97360      1\n",
       "12  1931        97260      1\n",
       "13  1769        96650      1\n",
       "14  1299        96610      1\n",
       "15  1354        95900      1\n",
       "16  1766        94690      1\n",
       "17  1834        94460      1\n",
       "18  1078        94370      1\n",
       "19  1374        94170      1\n",
       "20  1291        93950      1\n",
       "21  1244        93530      1\n",
       "22  1645        93360      1\n",
       "23  1641        93000      1\n",
       "24  1582        92640      1\n",
       "25  1156        92370      1\n",
       "26  1296        92300      1\n",
       "27  1829        92240      1\n",
       "28  1555        91360      1\n",
       "29  1175        91200      1\n",
       "30  1378        90960      1\n",
       "⋮   ⋮          ⋮           ⋮\n",
       "867 1979       30810       1\n",
       "868 1381       30790       1\n",
       "869 1709       30610       1\n",
       "870 1317       30020       1\n",
       "871  946       29170       1\n",
       "872 1247       28330       1\n",
       "873 1323       27970       1\n",
       "874 1244       27840       1\n",
       "875 1546       27720       1\n",
       "876 1649       27410       1\n",
       "877 1015       27310       1\n",
       "878 1267       26770       1\n",
       "879 1189       26220       1\n",
       "880 1174       25950       1\n",
       "881 1475       25820       1\n",
       "882 1319       25630       1\n",
       "883  780       25600       1\n",
       "884 1318       24410       1\n",
       "885 1573       23740       1\n",
       "886 1454       23090       1\n",
       "887 1461       22310       1\n",
       "888 1583       21830       1\n",
       "889 1572       21750       1\n",
       "890 1876       21650       1\n",
       "891 1445       21470       1\n",
       "892 1397       21300       1\n",
       "893 1624       20270       1\n",
       "894 1537       17670       1\n",
       "895 1477       16370       1\n",
       "896 1250       14920       1"
      ]
     },
     "metadata": {},
     "output_type": "display_data"
    }
   ],
   "source": [
    "Stores %>% \n",
    "group_by(store_area) %>% \n",
    "count(store_sales) %>% \n",
    "arrange(desc(store_sales))\n"
   ]
  },
  {
   "cell_type": "code",
   "execution_count": 6,
   "id": "3f9b83a3",
   "metadata": {
    "execution": {
     "iopub.execute_input": "2022-06-17T13:06:05.813575Z",
     "iopub.status.busy": "2022-06-17T13:06:05.812015Z",
     "iopub.status.idle": "2022-06-17T13:06:05.839318Z",
     "shell.execute_reply": "2022-06-17T13:06:05.837599Z"
    },
    "papermill": {
     "duration": 0.039012,
     "end_time": "2022-06-17T13:06:05.841619",
     "exception": false,
     "start_time": "2022-06-17T13:06:05.802607",
     "status": "completed"
    },
    "tags": []
   },
   "outputs": [
    {
     "data": {
      "text/plain": [
       "\n",
       "\tPearson's product-moment correlation\n",
       "\n",
       "data:  store_sales and store_area\n",
       "t = 2.9284, df = 894, p-value = 0.003494\n",
       "alternative hypothesis: true correlation is not equal to 0\n",
       "95 percent confidence interval:\n",
       " 0.03218546 0.16193383\n",
       "sample estimates:\n",
       "      cor \n",
       "0.0974738 \n"
      ]
     },
     "metadata": {},
     "output_type": "display_data"
    }
   ],
   "source": [
    "attach(Stores)\n",
    "cor.test(store_sales,store_area)\n"
   ]
  },
  {
   "cell_type": "code",
   "execution_count": 7,
   "id": "be2a21d5",
   "metadata": {
    "execution": {
     "iopub.execute_input": "2022-06-17T13:06:05.865997Z",
     "iopub.status.busy": "2022-06-17T13:06:05.864325Z",
     "iopub.status.idle": "2022-06-17T13:06:06.386805Z",
     "shell.execute_reply": "2022-06-17T13:06:06.384694Z"
    },
    "papermill": {
     "duration": 0.53992,
     "end_time": "2022-06-17T13:06:06.389251",
     "exception": false,
     "start_time": "2022-06-17T13:06:05.849331",
     "status": "completed"
    },
    "tags": []
   },
   "outputs": [
    {
     "data": {
      "image/png": "[encoded data removed]"
     },
     "metadata": {
      "image/png": {
       "height": 420,
       "width": 420
      }
     },
     "output_type": "display_data"
    }
   ],
   "source": [
    " ggplot(data = Stores , mapping = aes(store_area))+\n",
    "   geom_histogram(bins = 30,fill=\"red\",color=\"black\")\n"
   ]
  },
  {
   "cell_type": "code",
   "execution_count": 8,
   "id": "c0b9669e",
   "metadata": {
    "execution": {
     "iopub.execute_input": "2022-06-17T13:06:06.410686Z",
     "iopub.status.busy": "2022-06-17T13:06:06.408864Z",
     "iopub.status.idle": "2022-06-17T13:06:06.450722Z",
     "shell.execute_reply": "2022-06-17T13:06:06.448812Z"
    },
    "papermill": {
     "duration": 0.055188,
     "end_time": "2022-06-17T13:06:06.453396",
     "exception": false,
     "start_time": "2022-06-17T13:06:06.398208",
     "status": "completed"
    },
    "tags": []
   },
   "outputs": [
    {
     "data": {
      "text/plain": [
       "\n",
       "Call:\n",
       "lm(formula = store_sales ~ store_area)\n",
       "\n",
       "Residuals:\n",
       "   Min     1Q Median     3Q    Max \n",
       "-42925 -12835   -671  12650  53597 \n",
       "\n",
       "Coefficients:\n",
       "             Estimate Std. Error t value Pr(>|t|)    \n",
       "(Intercept) 49404.648   3444.432  14.343  < 2e-16 ***\n",
       "store_area      6.696      2.287   2.928  0.00349 ** \n",
       "---\n",
       "Signif. codes:  0 ‘***’ 0.001 ‘**’ 0.01 ‘*’ 0.05 ‘.’ 0.1 ‘ ’ 1\n",
       "\n",
       "Residual standard error: 17120 on 894 degrees of freedom\n",
       "Multiple R-squared:  0.009501,\tAdjusted R-squared:  0.008393 \n",
       "F-statistic: 8.575 on 1 and 894 DF,  p-value: 0.003494\n"
      ]
     },
     "metadata": {},
     "output_type": "display_data"
    }
   ],
   "source": [
    "model<-lm(store_sales~store_area)\n",
    "summary(model)\n"
   ]
  },
  {
   "cell_type": "markdown",
   "id": "e91652f4",
   "metadata": {
    "papermill": {
     "duration": 0.008583,
     "end_time": "2022-06-17T13:06:06.470473",
     "exception": false,
     "start_time": "2022-06-17T13:06:06.461890",
     "status": "completed"
    },
    "tags": []
   },
   "source": [
    "so after we run this model there is a correlation between area and sales which mean increase in area lead to ncrease in sale"
   ]
  },
  {
   "cell_type": "markdown",
   "id": "538024f1",
   "metadata": {
    "papermill": {
     "duration": 0.008526,
     "end_time": "2022-06-17T13:06:06.487449",
     "exception": false,
     "start_time": "2022-06-17T13:06:06.478923",
     "status": "completed"
    },
    "tags": []
   },
   "source": [
    "### item avaliable and store area"
   ]
  },
  {
   "cell_type": "code",
   "execution_count": 9,
   "id": "de756785",
   "metadata": {
    "execution": {
     "iopub.execute_input": "2022-06-17T13:06:06.508614Z",
     "iopub.status.busy": "2022-06-17T13:06:06.506677Z",
     "iopub.status.idle": "2022-06-17T13:06:06.541877Z",
     "shell.execute_reply": "2022-06-17T13:06:06.539319Z"
    },
    "papermill": {
     "duration": 0.049384,
     "end_time": "2022-06-17T13:06:06.545248",
     "exception": false,
     "start_time": "2022-06-17T13:06:06.495864",
     "status": "completed"
    },
    "tags": []
   },
   "outputs": [
    {
     "name": "stderr",
     "output_type": "stream",
     "text": [
      "The following objects are masked from Stores (pos = 3):\n",
      "\n",
      "    daily_customer_count, items_available, store_area, store_id,\n",
      "    store_sales\n",
      "\n",
      "\n"
     ]
    },
    {
     "data": {
      "text/plain": [
       "\n",
       "\tPearson's product-moment correlation\n",
       "\n",
       "data:  items_available and store_area\n",
       "t = 634.28, df = 894, p-value < 2.2e-16\n",
       "alternative hypothesis: true correlation is not equal to 0\n",
       "95 percent confidence interval:\n",
       " 0.9987354 0.9990271\n",
       "sample estimates:\n",
       "      cor \n",
       "0.9988908 \n"
      ]
     },
     "metadata": {},
     "output_type": "display_data"
    }
   ],
   "source": [
    " attach(Stores)\n",
    " cor.test(items_available,store_area)\n"
   ]
  },
  {
   "cell_type": "code",
   "execution_count": 10,
   "id": "52d1c9d8",
   "metadata": {
    "execution": {
     "iopub.execute_input": "2022-06-17T13:06:06.569237Z",
     "iopub.status.busy": "2022-06-17T13:06:06.567150Z",
     "iopub.status.idle": "2022-06-17T13:06:06.993455Z",
     "shell.execute_reply": "2022-06-17T13:06:06.991749Z"
    },
    "papermill": {
     "duration": 0.441442,
     "end_time": "2022-06-17T13:06:06.996160",
     "exception": false,
     "start_time": "2022-06-17T13:06:06.554718",
     "status": "completed"
    },
    "tags": []
   },
   "outputs": [
    {
     "name": "stderr",
     "output_type": "stream",
     "text": [
      "`geom_smooth()` using formula 'y ~ x'\n",
      "\n"
     ]
    },
    {
     "data": {
      "image/png": "[encoded data removed]"
     },
     "metadata": {
      "image/png": {
       "height": 420,
       "width": 420
      }
     },
     "output_type": "display_data"
    }
   ],
   "source": [
    " Stores %>% \n",
    "   ggplot(mapping = aes(x=store_area,y=items_available))+\n",
    "   geom_point()+\n",
    "   geom_smooth(method = \"lm\")\n"
   ]
  },
  {
   "cell_type": "code",
   "execution_count": 11,
   "id": "f66cfee6",
   "metadata": {
    "execution": {
     "iopub.execute_input": "2022-06-17T13:06:07.019381Z",
     "iopub.status.busy": "2022-06-17T13:06:07.017847Z",
     "iopub.status.idle": "2022-06-17T13:06:07.035657Z",
     "shell.execute_reply": "2022-06-17T13:06:07.033954Z"
    },
    "papermill": {
     "duration": 0.031979,
     "end_time": "2022-06-17T13:06:07.038029",
     "exception": false,
     "start_time": "2022-06-17T13:06:07.006050",
     "status": "completed"
    },
    "tags": []
   },
   "outputs": [
    {
     "data": {
      "text/plain": [
       "\n",
       "\tPearson's product-moment correlation\n",
       "\n",
       "data:  items_available and store_sales\n",
       "t = 2.9701, df = 894, p-value = 0.003056\n",
       "alternative hypothesis: true correlation is not equal to 0\n",
       "95 percent confidence interval:\n",
       " 0.03357298 0.16328612\n",
       "sample estimates:\n",
       "       cor \n",
       "0.09884943 \n"
      ]
     },
     "metadata": {},
     "output_type": "display_data"
    }
   ],
   "source": [
    " cor.test(items_available,store_sales)\n"
   ]
  },
  {
   "cell_type": "code",
   "execution_count": 12,
   "id": "67cdec0c",
   "metadata": {
    "execution": {
     "iopub.execute_input": "2022-06-17T13:06:07.061924Z",
     "iopub.status.busy": "2022-06-17T13:06:07.060241Z",
     "iopub.status.idle": "2022-06-17T13:06:07.367483Z",
     "shell.execute_reply": "2022-06-17T13:06:07.365351Z"
    },
    "papermill": {
     "duration": 0.321975,
     "end_time": "2022-06-17T13:06:07.369903",
     "exception": false,
     "start_time": "2022-06-17T13:06:07.047928",
     "status": "completed"
    },
    "tags": []
   },
   "outputs": [
    {
     "data": {
      "image/png": "[encoded data removed]"
     },
     "metadata": {
      "image/png": {
       "height": 420,
       "width": 420
      }
     },
     "output_type": "display_data"
    }
   ],
   "source": [
    " ggplot(data = Stores , mapping = aes(store_sales))+\n",
    "   geom_histogram(bins = 30,fill=\"red\",color=\"black\")\n"
   ]
  },
  {
   "cell_type": "markdown",
   "id": "c943ca90",
   "metadata": {
    "papermill": {
     "duration": 0.010782,
     "end_time": "2022-06-17T13:06:07.390919",
     "exception": false,
     "start_time": "2022-06-17T13:06:07.380137",
     "status": "completed"
    },
    "tags": []
   },
   "source": [
    "# so based in this output the key success to increase sales is store area when store area increase the item avaliable increase and leads to increase sales"
   ]
  },
  {
   "cell_type": "code",
   "execution_count": null,
   "id": "54f6c6da",
   "metadata": {
    "papermill": {
     "duration": 0.010011,
     "end_time": "2022-06-17T13:06:07.411177",
     "exception": false,
     "start_time": "2022-06-17T13:06:07.401166",
     "status": "completed"
    },
    "tags": []
   },
   "outputs": [],
   "source": []
  }
 ],
 "metadata": {
  "kernelspec": {
   "display_name": "R",
   "language": "R",
   "name": "ir"
  },
  "language_info": {
   "codemirror_mode": "r",
   "file_extension": ".r",
   "mimetype": "text/x-r-source",
   "name": "R",
   "pygments_lexer": "r",
   "version": "4.0.5"
  },
  "papermill": {
   "default_parameters": {},
   "duration": 26.546163,
   "end_time": "2022-06-17T13:06:07.542682",
   "environment_variables": {},
   "exception": null,
   "input_path": "__notebook__.ipynb",
   "output_path": "__notebook__.ipynb",
   "parameters": {},
   "start_time": "2022-06-17T13:05:40.996519",
   "version": "2.3.4"
  }
 },
 "nbformat": 4,
 "nbformat_minor": 5
}
